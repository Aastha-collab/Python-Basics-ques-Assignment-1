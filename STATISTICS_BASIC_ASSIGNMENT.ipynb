{
  "nbformat": 4,
  "nbformat_minor": 0,
  "metadata": {
    "colab": {
      "provenance": []
    },
    "kernelspec": {
      "name": "python3",
      "display_name": "Python 3"
    },
    "language_info": {
      "name": "python"
    }
  },
  "cells": [
    {
      "cell_type": "markdown",
      "source": [
        "# **STATISTICS BASIC ASSIGNMENT**"
      ],
      "metadata": {
        "id": "aj3FQz4ucrBm"
      }
    },
    {
      "cell_type": "markdown",
      "source": [
        "**Question 1: What is the difference between descriptive statistics and inferential statistics? Explain\n",
        "with examples.**"
      ],
      "metadata": {
        "id": "YB_Ij81ac0ZD"
      }
    },
    {
      "cell_type": "markdown",
      "source": [
        "Descriptive statistics summarizes and organizes data to describe its main features, while inferential\n",
        "statistics uses sample data to make predictions and inferences about a larger population.\n",
        "\n",
        "Descriptive statistics uses measures like mean, median, and standard deviation, whereas inferential\n",
        "statistics uses techniques like hypothesis testing and regression analysis to draw conclusions beyond the\n",
        "observed data."
      ],
      "metadata": {
        "id": "bXWUBmA8c3ox"
      }
    },
    {
      "cell_type": "markdown",
      "source": [
        "**Question 2: What is sampling in statistics? Explain the differences between random and stratified\n",
        "sampling.**"
      ],
      "metadata": {
        "id": "1O4RVtOFdCQM"
      }
    },
    {
      "cell_type": "markdown",
      "source": [
        "Sampling is a method used to select a manageable subset (a sample) from a larger group (a population) for analysis.\n",
        "\n",
        "Random sampling is a method of selecting a sample from a population where every individual has an equal chance of being chosen. Stratified sampling divides the population into smaller, homogeneous subgroups called strata and then takes a random sample from each stratum."
      ],
      "metadata": {
        "id": "O1cynMh0dJxg"
      }
    },
    {
      "cell_type": "markdown",
      "source": [
        "**Question 3: Define mean, median, and mode. Explain why these measures of central tendency are\n",
        "important.**"
      ],
      "metadata": {
        "id": "9PFdg01cdTDI"
      }
    },
    {
      "cell_type": "markdown",
      "source": [
        "**Mean**\n",
        "\n",
        "The mean, also known as the average, is calculated by summing all values in a dataset and dividing by\n",
        "the total number of values.\n",
        "\n",
        "**Median**\n",
        "\n",
        "The median is the middle value in a dataset when the data points are arranged in ascending or\n",
        "descending order. If there is an odd number of data points, the median is the single middle value. If\n",
        "there is an even number of data points, the median is the average of the two middle values.\n",
        "\n",
        "**Mode**\n",
        "\n",
        "The mode is the value that appears most frequently in a dataset. A dataset can have one mode\n",
        "(unimodal), multiple modes (multimodal), or no mode if all values occur with the same frequency.\n",
        "\n",
        "**Importance of Measures of Central Tendency**\n",
        "\n",
        "These measures of central tendency are important because they provide a single, representative value that summarizes the central position of a dataset."
      ],
      "metadata": {
        "id": "1ux_w53-dbyE"
      }
    },
    {
      "cell_type": "markdown",
      "source": [
        "**Question 4: Explain skewness and kurtosis. What does a positive skew imply about the data?**"
      ],
      "metadata": {
        "id": "Muhk1vMadxrA"
      }
    },
    {
      "cell_type": "markdown",
      "source": [
        "Skewness is a statistical measure that describes the asymmetry of a probability distribution.\n",
        "\n",
        "Kurtosis measures the \"tailedness\" of a distribution – that is, how heavy or light the tails are compared\n",
        "to a normal distribution.\n",
        "\n",
        "Positive Skewness (Right Skew): The tail on the right side of the distribution is longer, and most\n",
        "data points are clustered on the left."
      ],
      "metadata": {
        "id": "MNpoPmOcd0JW"
      }
    },
    {
      "cell_type": "markdown",
      "source": [
        "**Question 5: Implement a Python program to compute the mean, median, and mode of a given list of numbers.**\n",
        "\n",
        "numbers = [12, 15, 12, 18, 19, 12, 20, 22, 19, 19, 24, 24, 24, 26, 28]"
      ],
      "metadata": {
        "id": "TG5VMqyFd-z-"
      }
    },
    {
      "cell_type": "code",
      "source": [
        "numbers = [12, 15, 12, 18, 19, 12, 20, 22, 19, 19, 24, 24, 24, 26, 28]"
      ],
      "metadata": {
        "id": "slCUzA_mer09"
      },
      "execution_count": 2,
      "outputs": []
    },
    {
      "cell_type": "code",
      "source": [
        "# MEAN\n",
        "import numpy as np\n",
        "np.mean(numbers)"
      ],
      "metadata": {
        "colab": {
          "base_uri": "https://localhost:8080/"
        },
        "id": "NcrCHgZheOYW",
        "outputId": "04e84d51-9c69-4569-ab55-5583ce15a6e3"
      },
      "execution_count": 5,
      "outputs": [
        {
          "output_type": "execute_result",
          "data": {
            "text/plain": [
              "np.float64(19.6)"
            ]
          },
          "metadata": {},
          "execution_count": 5
        }
      ]
    },
    {
      "cell_type": "code",
      "source": [
        "# MEDIAN\n",
        "np.median(numbers)"
      ],
      "metadata": {
        "colab": {
          "base_uri": "https://localhost:8080/"
        },
        "id": "IEnH6S4Me0ok",
        "outputId": "04a5114e-8337-48dd-e0b9-8e86e0f327ab"
      },
      "execution_count": 8,
      "outputs": [
        {
          "output_type": "execute_result",
          "data": {
            "text/plain": [
              "np.float64(19.0)"
            ]
          },
          "metadata": {},
          "execution_count": 8
        }
      ]
    },
    {
      "cell_type": "code",
      "source": [
        "# MODE\n",
        "import statistics"
      ],
      "metadata": {
        "id": "E666csAee73Z"
      },
      "execution_count": 12,
      "outputs": []
    },
    {
      "cell_type": "code",
      "source": [
        "statistics.mode(numbers)"
      ],
      "metadata": {
        "colab": {
          "base_uri": "https://localhost:8080/"
        },
        "id": "QBOVWMckfGNS",
        "outputId": "c353d4fa-dca4-4cd2-a5f4-2bb82ce5ee5d"
      },
      "execution_count": 13,
      "outputs": [
        {
          "output_type": "execute_result",
          "data": {
            "text/plain": [
              "12"
            ]
          },
          "metadata": {},
          "execution_count": 13
        }
      ]
    },
    {
      "cell_type": "markdown",
      "source": [
        "Question 6: Compute the covariance and correlation coefficient between the following two datasets provided as lists in Python:\n",
        "\n",
        "list_x = [10, 20, 30, 40, 50]\n",
        "\n",
        "list_y = [15, 25, 35, 45, 60]"
      ],
      "metadata": {
        "id": "XiNy_RzmfU15"
      }
    },
    {
      "cell_type": "code",
      "source": [
        "list_x = [10, 20, 30, 40, 50]\n",
        "list_y = [15, 25, 35, 45, 60]"
      ],
      "metadata": {
        "id": "54mTZ2wufZ22"
      },
      "execution_count": 15,
      "outputs": []
    },
    {
      "cell_type": "code",
      "source": [
        "import numpy as np\n",
        "\n",
        "list_x = [10, 20, 30, 40, 50]\n",
        "list_y = [15, 25, 35, 45, 60]\n",
        "\n",
        "# Calculate covariance\n",
        "covariance = np.cov(list_x, list_y)[0][1]"
      ],
      "metadata": {
        "id": "l-nMvr72fe2v"
      },
      "execution_count": 17,
      "outputs": []
    },
    {
      "cell_type": "code",
      "source": [
        "covariance"
      ],
      "metadata": {
        "colab": {
          "base_uri": "https://localhost:8080/"
        },
        "id": "OYjBdrLhfjvT",
        "outputId": "d627d159-d0e3-4b8e-ad28-c876a94c2339"
      },
      "execution_count": 19,
      "outputs": [
        {
          "output_type": "execute_result",
          "data": {
            "text/plain": [
              "np.float64(275.0)"
            ]
          },
          "metadata": {},
          "execution_count": 19
        }
      ]
    },
    {
      "cell_type": "code",
      "source": [
        "correlation_coefficient = np.corrcoef(list_x, list_y)[0][1]"
      ],
      "metadata": {
        "id": "swolQwkZfzvw"
      },
      "execution_count": 21,
      "outputs": []
    },
    {
      "cell_type": "code",
      "source": [
        "correlation_coefficient"
      ],
      "metadata": {
        "colab": {
          "base_uri": "https://localhost:8080/"
        },
        "id": "J-sJTaBlf5fo",
        "outputId": "22c65fd6-81f5-4476-a0b5-dafa29d0e44a"
      },
      "execution_count": 23,
      "outputs": [
        {
          "output_type": "execute_result",
          "data": {
            "text/plain": [
              "np.float64(0.995893206467704)"
            ]
          },
          "metadata": {},
          "execution_count": 23
        }
      ]
    },
    {
      "cell_type": "markdown",
      "source": [
        "Question 7: Write a Python script to draw a boxplot for the following numeric list and identify its\n",
        "outliers. Explain the result:\n",
        "\n",
        "data = [12, 14, 14, 15, 18, 19, 19, 21, 22, 22, 23, 23, 24, 26, 29, 35]\n"
      ],
      "metadata": {
        "id": "_XAJLkFqgGZl"
      }
    },
    {
      "cell_type": "markdown",
      "source": [
        "The boxplot visually represents the data's distribution, with the box showing the middle 50% of the data (from Q1 to Q3), a line inside the box marking the median, and the whiskers extending to the minimum\n",
        "and maximum values that are not outliers.\n",
        "\n",
        "The value 35 is an outlier. This is because the upper bound for non-outlier values is 34 and 35 is greater than this value. The lower bound is 6, and no data points are below this value."
      ],
      "metadata": {
        "id": "i-wUOtZIgWhe"
      }
    },
    {
      "cell_type": "code",
      "source": [
        "data = [12, 14, 14, 15, 18, 19, 19, 21, 22, 22, 23, 23, 24, 26, 29, 35]"
      ],
      "metadata": {
        "id": "fkljL7ICgHwu"
      },
      "execution_count": 25,
      "outputs": []
    },
    {
      "cell_type": "code",
      "source": [
        "import seaborn as sns\n",
        "sns.boxplot(data)"
      ],
      "metadata": {
        "colab": {
          "base_uri": "https://localhost:8080/",
          "height": 428
        },
        "id": "pCiTALuigM5i",
        "outputId": "97f4dd24-2e9b-44cd-b65b-b086bc78f1a7"
      },
      "execution_count": 26,
      "outputs": [
        {
          "output_type": "execute_result",
          "data": {
            "text/plain": [
              "<Axes: >"
            ]
          },
          "metadata": {},
          "execution_count": 26
        },
        {
          "output_type": "display_data",
          "data": {
            "text/plain": [
              "<Figure size 640x480 with 1 Axes>"
            ],
            "image/png": "[encoded data removed]"
          },
          "metadata": {}
        }
      ]
    },
    {
      "cell_type": "markdown",
      "source": [
        "Question 8: You are working as a data analyst in an e-commerce company. The marketing team wants\n",
        "to know if there is a relationship between advertising spend and daily sales.\n",
        "\n",
        "● Explain how you would use covariance and correlation to explore this relationship.\n",
        "\n",
        "● Write Python code to compute the correlation between the two lists:\n",
        "\n",
        "advertising_spend = [200, 250, 300, 400, 500]\n",
        "\n",
        "daily_sales = [2200, 2450, 2750, 3200, 4000]\n"
      ],
      "metadata": {
        "id": "fzv1MR-kgel7"
      }
    },
    {
      "cell_type": "markdown",
      "source": [
        "To analyze the relationship between advertising spend and daily sales, we would use covariance to measure their joint variability and correlation to quantify the strength and direction of their linear relationship.\n",
        "\n",
        "Covariance indicates if variables move together (positive) or in opposite directions (negative), while the correlation coefficient provides a standardized, unitless value (between -1 and +1) that indicates the\n",
        "strength and linear association between them."
      ],
      "metadata": {
        "id": "05uU4-9kgqGP"
      }
    },
    {
      "cell_type": "code",
      "source": [
        "import numpy as np\n",
        "from scipy import stats\n",
        "\n",
        "# Given data\n",
        "advertising_spend = np.array([200, 250, 300, 400, 500])\n",
        "daily_sales = np.array([2200, 2450, 2750, 3200, 4000])\n",
        "\n",
        "# Calculate the Pearson correlation coefficient\n",
        "correlation, _ = stats.pearsonr(advertising_spend, daily_sales)\n",
        "\n",
        "# Print the result\n",
        "print(f\"The Pearson correlation coefficient is: {correlation:.3f}\")"
      ],
      "metadata": {
        "colab": {
          "base_uri": "https://localhost:8080/"
        },
        "id": "oSVzhn07gmDJ",
        "outputId": "caa94001-3e65-4485-852d-92377f70eab9"
      },
      "execution_count": 28,
      "outputs": [
        {
          "output_type": "stream",
          "name": "stdout",
          "text": [
            "The Pearson correlation coefficient is: 0.994\n"
          ]
        }
      ]
    },
    {
      "cell_type": "markdown",
      "source": [
        "Question 9: Your team has collected customer satisfaction survey data on a scale of 1-10 and wants to understand its distribution before launching a new product.\n",
        "\n",
        "● Explain which summary statistics and visualizations (e.g. mean, standard deviation, histogram) you’d use.\n",
        "\n",
        "● Write Python code to create a histogram using Matplotlib for the survey data:\n",
        "\n",
        "survey_scores = [7, 8, 5, 9, 6, 7, 8, 9, 10, 4, 7, 6, 9, 8, 7]"
      ],
      "metadata": {
        "id": "fTPkVt7Rg-4S"
      }
    },
    {
      "cell_type": "markdown",
      "source": [
        "To understand a 1-10 survey data distribution, use summary statistics like the mean (average satisfaction) and standard deviation (spread of scores) and visualizations like a histogram (frequency of scores in intervals) and a box plot (to show quartiles, median, and outliers).\n",
        "\n",
        "The Python code creates a histogram of the provided survey scores, showing the frequency of scores within specific ranges on the 1-10 scale.\n"
      ],
      "metadata": {
        "id": "WS20usf7hLFJ"
      }
    },
    {
      "cell_type": "code",
      "source": [
        "import matplotlib.pyplot as plt\n",
        "\n",
        "survey_scores = [7, 8, 5, 9, 6, 7, 8, 9, 10, 4, 7, 6, 9, 8, 7]\n",
        "\n",
        "# Create the histogram\n",
        "plt.figure(figsize=(8, 6))\n",
        "plt.hist(survey_scores, bins=range(1, 12), align='left', rwidth=0.8, color='skyblue', edgecolor='black')\n",
        "\n",
        "# Set labels and title\n",
        "plt.xlabel('Satisfaction Score (1-10)')\n",
        "plt.ylabel('Number of Customers')\n",
        "plt.title('Customer Satisfaction Score Distribution')\n",
        "plt.xticks(range(1, 11))\n",
        "plt.grid(axis='y', alpha=0.75)\n",
        "\n",
        "# Display the histogram\n",
        "plt.show()"
      ],
      "metadata": {
        "colab": {
          "base_uri": "https://localhost:8080/",
          "height": 564
        },
        "id": "Z1im_nKJhVRi",
        "outputId": "b059f8ef-880b-490c-9b70-20146bcd38d2"
      },
      "execution_count": 29,
      "outputs": [
        {
          "output_type": "display_data",
          "data": {
            "text/plain": [
              "<Figure size 800x600 with 1 Axes>"
            ],
            "image/png": "[encoded data removed]"
          },
          "metadata": {}
        }
      ]
    }
  ]
}