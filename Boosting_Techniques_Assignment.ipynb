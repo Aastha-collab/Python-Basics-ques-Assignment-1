{
  "nbformat": 4,
  "nbformat_minor": 0,
  "metadata": {
    "colab": {
      "provenance": []
    },
    "kernelspec": {
      "name": "python3",
      "display_name": "Python 3"
    },
    "language_info": {
      "name": "python"
    }
  },
  "cells": [
    {
      "cell_type": "markdown",
      "source": [
        "**Boosting Techniques - Assignment**"
      ],
      "metadata": {
        "id": "GZQdEc_OLlFP"
      }
    },
    {
      "cell_type": "markdown",
      "source": [
        "**Question 1: What is Boosting in Machine Learning? Explain how it improves weak learners.**"
      ],
      "metadata": {
        "id": "K3fDoXR9LpWq"
      }
    },
    {
      "cell_type": "markdown",
      "source": [
        "Boosting is a machine learning ensemble technique that creates a strong predictive model by sequentially training weak learners, where each new model focuses on correcting the errors of the previous ones.\n",
        "\n",
        "It improves weak learners by iteratively adjusting the weights of misclassified training instances, forcing each subsequent learner to pay more attention to the difficult-to-predict examples. This process reduces bias and leads to a highly accurate final model."
      ],
      "metadata": {
        "id": "-YMVyMOpLtjZ"
      }
    },
    {
      "cell_type": "markdown",
      "source": [
        "**Question 2: What is the difference between AdaBoost and Gradient Boosting in terms of how models are trained?**"
      ],
      "metadata": {
        "id": "r1tIk0fW6BpS"
      }
    },
    {
      "cell_type": "markdown",
      "source": [
        "The main difference is how they identify and correct errors:\n",
        "\n",
        "AdaBoost increases the weights of misclassified data points to make them more important for the next model, while Gradient Boosting builds new models to predict the residual errors (the difference between the actual and predicted values) of the previous model by minimizing a loss function using gradient descent"
      ],
      "metadata": {
        "id": "S41JgWKO6Jto"
      }
    },
    {
      "cell_type": "markdown",
      "source": [
        "**Question 3: How does regularization help in XGBoost?**"
      ],
      "metadata": {
        "id": "wbu6R8hQ6TQr"
      }
    },
    {
      "cell_type": "markdown",
      "source": [
        "Regularization helps control model complexity by adding penalties to the loss function, discouraging the model from fitting noise in the training data. Understanding and leveraging these regularization options is crucial for optimizing XGBoost models and achieving better performance on unseen data."
      ],
      "metadata": {
        "id": "TV4IYNVz6YrT"
      }
    },
    {
      "cell_type": "markdown",
      "source": [
        "**Question 4: Why is CatBoost considered efficient for handling categorical data?**"
      ],
      "metadata": {
        "id": "RCYlbY5b6krK"
      }
    },
    {
      "cell_type": "markdown",
      "source": [
        "CatBoost is efficient for handling categorical data because it automatically applies Ordered Target Encoding to convert categorical features into numerical values without manual preprocessing, which prevents overfitting and saves time."
      ],
      "metadata": {
        "id": "_fsorXFp6okw"
      }
    },
    {
      "cell_type": "markdown",
      "source": [
        "**Question 5: What are some real-world applications where boosting techniques are preferred over bagging methods?**\n"
      ],
      "metadata": {
        "id": "K10ZHu6R6vzW"
      }
    },
    {
      "cell_type": "markdown",
      "source": [
        "Boosting is preferred in applications where the goal is to achieve the highest possible accuracy and reduce bias, as it sequentially improves upon the mistakes of previous models. Examples include customer churn prediction in e-commerce, financial forecasting, and medical diagnosis like cancer survival time prediction or cardiovascular risk factor identification, where a highly accurate prediction is crucial."
      ],
      "metadata": {
        "id": "EROpf-Lm64eb"
      }
    },
    {
      "cell_type": "markdown",
      "source": [
        "Datasets:\n",
        "- Use sklearn.datasets.load_breast_cancer() for classification tasks.\n",
        "- Use sklearn.datasets.fetch_california_housing() for regression\n",
        "tasks.\n",
        "\n",
        "Question 6: Write a Python program to:\n",
        "- Train an AdaBoost Classifier on the Breast Cancer dataset\n",
        "- Print the model accuracy\n"
      ],
      "metadata": {
        "id": "fZx4qtFM7Aju"
      }
    },
    {
      "cell_type": "code",
      "source": [
        "import pandas as pd\n",
        "from sklearn.ensemble import AdaBoostClassifier\n",
        "from sklearn.datasets import load_breast_cancer\n",
        "from sklearn.model_selection import train_test_split\n",
        "from sklearn import metrics\n",
        "\n",
        "# Load the breast cancer dataset\n",
        "cancer = load_breast_cancer()\n",
        "X = cancer.data\n",
        "y = cancer.target\n",
        "\n",
        "# Split the dataset into training set and test set\n",
        "# 70% training and 30% test\n",
        "X_train, X_test, y_train, y_test = train_test_split(X, y, test_size=0.3, random_state=42)\n",
        "\n",
        "# Create AdaBoost Classifier object\n",
        "# Uses a Decision Tree Classifier as the default base estimator\n",
        "abc = AdaBoostClassifier(n_estimators=50, learning_rate=1, random_state=42)\n",
        "\n",
        "# Train AdaBoost Classifer model\n",
        "model = abc.fit(X_train, y_train)\n",
        "\n",
        "# Predict the response for the test dataset\n",
        "y_pred = model.predict(X_test)\n",
        "\n",
        "# Model Accuracy, how often is the classifier correct?\n",
        "accuracy = metrics.accuracy_score(y_test, y_pred)\n",
        "print(\"Model Accuracy:\", accuracy)"
      ],
      "metadata": {
        "colab": {
          "base_uri": "https://localhost:8080/"
        },
        "id": "zqJp5gEI7JEX",
        "outputId": "f77e925b-6a0a-49c4-86ef-0797be4bc69d"
      },
      "execution_count": 1,
      "outputs": [
        {
          "output_type": "stream",
          "name": "stdout",
          "text": [
            "Model Accuracy: 0.9707602339181286\n"
          ]
        }
      ]
    },
    {
      "cell_type": "markdown",
      "source": [
        "Question 7: Write a Python program to:\n",
        "- Train a Gradient Boosting Regressor on the California Housing dataset\n",
        "- Evaluate performance using R-squared score"
      ],
      "metadata": {
        "id": "NQ7SapUk7SqL"
      }
    },
    {
      "cell_type": "code",
      "source": [
        "from sklearn.datasets import fetch_california_housing\n",
        "from sklearn.ensemble import GradientBoostingRegressor\n",
        "from sklearn.model_selection import train_test_split\n",
        "from sklearn.metrics import r2_score\n",
        "\n",
        "# Load the California Housing dataset\n",
        "california_housing = fetch_california_housing(as_frame=True)\n",
        "X = california_housing.data\n",
        "y = california_housing.target\n",
        "\n",
        "# Split the data into training and testing sets\n",
        "X_train, X_test, y_train, y_test = train_test_split(X, y, test_size=0.2, random_state=42)\n",
        "\n",
        "# Initialize the Gradient Boosting Regressor model\n",
        "# You can tune hyperparameters like n_estimators, learning_rate, and max_depth\n",
        "gbr_model = GradientBoostingRegressor(n_estimators=100, learning_rate=0.1, max_depth=3, random_state=42)\n",
        "\n",
        "# Train the model\n",
        "gbr_model.fit(X_train, y_train)\n",
        "\n",
        "# Make predictions on the test set\n",
        "y_pred = gbr_model.predict(X_test)\n",
        "\n",
        "# Evaluate the model using R-squared score\n",
        "r_squared = r2_score(y_test, y_pred)\n",
        "\n",
        "print(f\"Gradient Boosting Regressor R-squared score: {r_squared:.4f}\")"
      ],
      "metadata": {
        "colab": {
          "base_uri": "https://localhost:8080/"
        },
        "id": "9kUPjnXs7YMV",
        "outputId": "f143a2d1-8098-44f2-acad-2e2284956c07"
      },
      "execution_count": 2,
      "outputs": [
        {
          "output_type": "stream",
          "name": "stdout",
          "text": [
            "Gradient Boosting Regressor R-squared score: 0.7756\n"
          ]
        }
      ]
    },
    {
      "cell_type": "markdown",
      "source": [
        "Question 8: Write a Python program to:\n",
        "- Train an XGBoost Classifier on the Breast Cancer dataset\n",
        "- Tune the learning rate using GridSearchCV\n",
        "- Print the best parameters and accuracy"
      ],
      "metadata": {
        "id": "a9E3H-An7ilI"
      }
    },
    {
      "cell_type": "code",
      "source": [
        "import pandas as pd\n",
        "import numpy as np\n",
        "from sklearn.datasets import load_breast_cancer\n",
        "from sklearn.model_selection import train_test_split, GridSearchCV, StratifiedKFold\n",
        "from xgboost import XGBClassifier\n",
        "from sklearn.metrics import accuracy_score\n",
        "\n",
        "def tune_xgboost_learning_rate():\n",
        "    \"\"\"\n",
        "    Trains an XGBoost Classifier on the Breast Cancer dataset, tunes the\n",
        "    learning rate using GridSearchCV, and prints the best parameters and accuracy.\n",
        "    \"\"\"\n",
        "    # 1. Load the Breast Cancer dataset\n",
        "    cancer = load_breast_cancer()\n",
        "    X = cancer.data\n",
        "    y = cancer.target\n",
        "\n",
        "    # 2. Split the data into training and testing sets\n",
        "    # We use the full dataset for GridSearch with cross-validation,\n",
        "    # and a held-out test set for final evaluation.\n",
        "    X_train, X_test, y_train, y_test = train_test_split(X, y, test_size=0.3, random_state=42)\n",
        "\n",
        "    # 3. Define the XGBoost Classifier model\n",
        "    # We start with default parameters, except for those we are tuning.\n",
        "    model = XGBClassifier(use_label_encoder=False, eval_metric='logloss', random_state=42)\n",
        "\n",
        "    # 4. Define the parameter grid for learning_rate\n",
        "    # We will search over a range of learning rates.\n",
        "    learning_rates = [0.0001, 0.001, 0.01, 0.1, 0.2, 0.3]\n",
        "    param_grid = dict(learning_rate=learning_rates)\n",
        "\n",
        "    # 5. Configure the GridSearchCV\n",
        "    # We use StratifiedKFold for cross-validation to maintain class balance in each fold.\n",
        "    # The 'accuracy' scoring metric is a good choice for this balanced binary classification problem.\n",
        "    kfold = StratifiedKFold(n_splits=10, shuffle=True, random_state=7)\n",
        "    grid_search = GridSearchCV(estimator=model, param_grid=param_grid, scoring=\"accuracy\",\n",
        "                               n_jobs=-1, cv=kfold, verbose=1)\n",
        "\n",
        "    # 6. Fit the GridSearchCV to the training data\n",
        "    grid_result = grid_search.fit(X_train, y_train)\n",
        "\n",
        "    # 7. Print the best parameters and the cross-validation accuracy\n",
        "    print(f\"Best parameters found: {grid_result.best_params_}\")\n",
        "    print(f\"Best cross-validation accuracy: {grid_result.best_score_:.4f}\")\n",
        "\n",
        "    # 8. Evaluate the best estimator on the held-out test set\n",
        "    best_model = grid_result.best_estimator_\n",
        "    y_pred = best_model.predict(X_test)\n",
        "    test_accuracy = accuracy_score(y_test, y_pred)\n",
        "    print(f\"\\nAccuracy on test set with best model: {test_accuracy:.4f}\")\n",
        "\n",
        "if __name__ == \"__main__\":\n",
        "    tune_xgboost_learning_rate()"
      ],
      "metadata": {
        "colab": {
          "base_uri": "https://localhost:8080/"
        },
        "id": "We4KU7CC7pQd",
        "outputId": "3f27fa21-a059-4bfe-9fc6-c00cc58eb180"
      },
      "execution_count": 3,
      "outputs": [
        {
          "output_type": "stream",
          "name": "stdout",
          "text": [
            "Fitting 10 folds for each of 6 candidates, totalling 60 fits\n",
            "Best parameters found: {'learning_rate': 0.2}\n",
            "Best cross-validation accuracy: 0.9673\n",
            "\n",
            "Accuracy on test set with best model: 0.9649\n"
          ]
        },
        {
          "output_type": "stream",
          "name": "stderr",
          "text": [
            "/usr/local/lib/python3.12/dist-packages/xgboost/training.py:199: UserWarning: [15:00:20] WARNING: /workspace/src/learner.cc:790: \n",
            "Parameters: { \"use_label_encoder\" } are not used.\n",
            "\n",
            "  bst.update(dtrain, iteration=i, fobj=obj)\n"
          ]
        }
      ]
    },
    {
      "cell_type": "markdown",
      "source": [
        "Question 9: Write a Python program to:\n",
        "- Train a CatBoost Classifier\n",
        "- Plot the confusion matrix using seaborn"
      ],
      "metadata": {
        "id": "sxfSXEZC7yuF"
      }
    },
    {
      "cell_type": "code",
      "source": [
        "pip install catboost"
      ],
      "metadata": {
        "colab": {
          "base_uri": "https://localhost:8080/"
        },
        "id": "LTdc_bgz8SqH",
        "outputId": "0c75272c-7e87-4502-8884-8c203109e4d9"
      },
      "execution_count": 6,
      "outputs": [
        {
          "output_type": "stream",
          "name": "stdout",
          "text": [
            "Collecting catboost\n",
            "  Downloading catboost-1.2.8-cp312-cp312-manylinux2014_x86_64.whl.metadata (1.2 kB)\n",
            "Requirement already satisfied: graphviz in /usr/local/lib/python3.12/dist-packages (from catboost) (0.21)\n",
            "Requirement already satisfied: matplotlib in /usr/local/lib/python3.12/dist-packages (from catboost) (3.10.0)\n",
            "Requirement already satisfied: numpy<3.0,>=1.16.0 in /usr/local/lib/python3.12/dist-packages (from catboost) (2.0.2)\n",
            "Requirement already satisfied: pandas>=0.24 in /usr/local/lib/python3.12/dist-packages (from catboost) (2.2.2)\n",
            "Requirement already satisfied: scipy in /usr/local/lib/python3.12/dist-packages (from catboost) (1.16.3)\n",
            "Requirement already satisfied: plotly in /usr/local/lib/python3.12/dist-packages (from catboost) (5.24.1)\n",
            "Requirement already satisfied: six in /usr/local/lib/python3.12/dist-packages (from catboost) (1.17.0)\n",
            "Requirement already satisfied: python-dateutil>=2.8.2 in /usr/local/lib/python3.12/dist-packages (from pandas>=0.24->catboost) (2.9.0.post0)\n",
            "Requirement already satisfied: pytz>=2020.1 in /usr/local/lib/python3.12/dist-packages (from pandas>=0.24->catboost) (2025.2)\n",
            "Requirement already satisfied: tzdata>=2022.7 in /usr/local/lib/python3.12/dist-packages (from pandas>=0.24->catboost) (2025.2)\n",
            "Requirement already satisfied: contourpy>=1.0.1 in /usr/local/lib/python3.12/dist-packages (from matplotlib->catboost) (1.3.3)\n",
            "Requirement already satisfied: cycler>=0.10 in /usr/local/lib/python3.12/dist-packages (from matplotlib->catboost) (0.12.1)\n",
            "Requirement already satisfied: fonttools>=4.22.0 in /usr/local/lib/python3.12/dist-packages (from matplotlib->catboost) (4.60.1)\n",
            "Requirement already satisfied: kiwisolver>=1.3.1 in /usr/local/lib/python3.12/dist-packages (from matplotlib->catboost) (1.4.9)\n",
            "Requirement already satisfied: packaging>=20.0 in /usr/local/lib/python3.12/dist-packages (from matplotlib->catboost) (25.0)\n",
            "Requirement already satisfied: pillow>=8 in /usr/local/lib/python3.12/dist-packages (from matplotlib->catboost) (11.3.0)\n",
            "Requirement already satisfied: pyparsing>=2.3.1 in /usr/local/lib/python3.12/dist-packages (from matplotlib->catboost) (3.2.5)\n",
            "Requirement already satisfied: tenacity>=6.2.0 in /usr/local/lib/python3.12/dist-packages (from plotly->catboost) (8.5.0)\n",
            "Downloading catboost-1.2.8-cp312-cp312-manylinux2014_x86_64.whl (99.2 MB)\n",
            "\u001b[2K   \u001b[90m━━━━━━━━━━━━━━━━━━━━━━━━━━━━━━━━━━━━━━━━\u001b[0m \u001b[32m99.2/99.2 MB\u001b[0m \u001b[31m8.8 MB/s\u001b[0m eta \u001b[36m0:00:00\u001b[0m\n",
            "\u001b[?25hInstalling collected packages: catboost\n",
            "Successfully installed catboost-1.2.8\n"
          ]
        }
      ]
    },
    {
      "cell_type": "code",
      "source": [
        "import numpy as np\n",
        "import pandas as pd\n",
        "import seaborn as sns\n",
        "import matplotlib.pyplot as plt\n",
        "from catboost import CatBoostClassifier\n",
        "from sklearn.model_selection import train_test_split\n",
        "from sklearn.metrics import confusion_matrix, classification_report\n",
        "from sklearn.datasets import make_classification\n",
        "\n",
        "# 1. Generate a synthetic dataset\n",
        "X, y = make_classification(n_samples=1000, n_features=20, n_informative=10,\n",
        "                           n_redundant=5, n_classes=2, random_state=42)\n",
        "feature_names = [f'feature_{i}' for i in range(X.shape[1])]\n",
        "X = pd.DataFrame(X, columns=feature_names)\n",
        "y = pd.Series(y, name='target')\n",
        "\n",
        "# 2. Split the data into training and testing sets\n",
        "X_train, X_test, y_train, y_test = train_test_split(X, y, test_size=0.2, random_state=42)\n",
        "\n",
        "# 3. Train a CatBoost Classifier\n",
        "# Initialize CatBoostClassifier with some parameters\n",
        "# You can adjust parameters like iterations, learning_rate, depth, etc.\n",
        "cat_model = CatBoostClassifier(iterations=100,  # Number of boosting iterations\n",
        "                               learning_rate=0.1, # Step size shrinkage\n",
        "                               depth=6,           # Depth of the tree\n",
        "                               loss_function='Logloss', # Loss function for binary classification\n",
        "                               random_seed=42,    # For reproducibility\n",
        "                               verbose=False)     # Suppress verbose output during training\n",
        "\n",
        "# Train the model\n",
        "cat_model.fit(X_train, y_train)\n",
        "\n",
        "# 4. Make predictions on the test set\n",
        "y_pred = cat_model.predict(X_test)\n",
        "\n",
        "# 5. Plot the confusion matrix using Seaborn\n",
        "cm = confusion_matrix(y_test, y_pred)\n",
        "\n",
        "plt.figure(figsize=(8, 6))\n",
        "sns.heatmap(cm, annot=True, fmt='d', cmap='Blues',\n",
        "            xticklabels=['Predicted 0', 'Predicted 1'],\n",
        "            yticklabels=['Actual 0', 'Actual 1'])\n",
        "plt.xlabel('Predicted Label')\n",
        "plt.ylabel('True Label')\n",
        "plt.title('Confusion Matrix for CatBoost Classifier')\n",
        "plt.show()\n",
        "\n",
        "# Optional: Print classification report for more metrics\n",
        "print(\"\\nClassification Report:\")\n",
        "print(classification_report(y_test, y_pred))"
      ],
      "metadata": {
        "colab": {
          "base_uri": "https://localhost:8080/",
          "height": 755
        },
        "id": "D20loRG38DUh",
        "outputId": "4711d24d-54f4-47ad-a302-d96952625fc8"
      },
      "execution_count": 7,
      "outputs": [
        {
          "output_type": "display_data",
          "data": {
            "text/plain": [
              "<Figure size 800x600 with 2 Axes>"
            ],
            "image/png": "[encoded data removed]"
          },
          "metadata": {}
        },
        {
          "output_type": "stream",
          "name": "stdout",
          "text": [
            "\n",
            "Classification Report:\n",
            "              precision    recall  f1-score   support\n",
            "\n",
            "           0       0.95      0.89      0.92       102\n",
            "           1       0.89      0.95      0.92        98\n",
            "\n",
            "    accuracy                           0.92       200\n",
            "   macro avg       0.92      0.92      0.92       200\n",
            "weighted avg       0.92      0.92      0.92       200\n",
            "\n"
          ]
        }
      ]
    },
    {
      "cell_type": "markdown",
      "source": [
        "Question 10: You're working for a FinTech company trying to predict loan default using customer demographics and transaction behavior.\n",
        "The dataset is imbalanced, contains missing values, and has both numeric and categorical features.\n",
        "\n",
        "Describe your step-by-step data science pipeline using boosting techniques:\n",
        "- Data preprocessing & handling missing/categorical values\n",
        "- Choice between AdaBoost, XGBoost, or CatBoost\n",
        "- Hyperparameter tuning strategy\n",
        "- Evaluation metrics you'd choose and why\n",
        "- How the business would benefit from your model"
      ],
      "metadata": {
        "id": "_UAmETHg8bKA"
      }
    },
    {
      "cell_type": "markdown",
      "source": [
        "For an imbalanced loan default prediction project, a data science pipeline using boosting involves: handling missing values via imputation and using SMOTE to balance the dataset; encoding categorical features with one-hot or target encoding; and choosing XGBoost or CatBoost for their superior performance and built-in handling of categorical features.\n",
        "\n",
        "Hyperparameters are tuned using Grid Search or Random Search, and evaluation is based on AUC, Precision, Recall, and F1-score, with a focus on the \"default\" class.\n",
        "\n",
        "The business benefits from proactive risk management, optimized loan approvals, and reduced financial losses."
      ],
      "metadata": {
        "id": "8vseU4Cg8msr"
      }
    }
  ]
}