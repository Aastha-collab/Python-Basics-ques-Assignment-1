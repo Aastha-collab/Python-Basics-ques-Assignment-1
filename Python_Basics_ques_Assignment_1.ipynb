{
  "nbformat": 4,
  "nbformat_minor": 0,
  "metadata": {
    "colab": {
      "provenance": []
    },
    "kernelspec": {
      "name": "python3",
      "display_name": "Python 3"
    },
    "language_info": {
      "name": "python"
    }
  },
  "cells": [
    {
      "cell_type": "markdown",
      "source": [
        "# **Python Theory Questions**"
      ],
      "metadata": {
        "id": "mryKf6FT1b3n"
      }
    },
    {
      "cell_type": "markdown",
      "source": [
        "**Q1. What is Python, and why is it popular ?**\n",
        "\n",
        "- Pyhton is a programming language that is easy to understand and write, making it a popular choice among developers and programmers.\n",
        "-It is a popular and most commomly used programming language because of its simplicity and an extensive standard library."
      ],
      "metadata": {
        "id": "Y1wrT3u5_mMJ"
      }
    },
    {
      "cell_type": "markdown",
      "source": [
        "**Q2. What is an interpreter in Python ?**\n",
        "\n",
        "![image.png](data:image/png;base64,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)\n",
        "\n",
        "In Python, an interpreter is a program that executes Python code directly, line by line, rather than compiling the entire code into machine code at once.\n",
        "\n",
        "(Remark- In Python, both compilers and interpreters play a role in the execution of code, but they do so in different ways.\n",
        "- The compiler translates the source code into bytecode, an intermediate representation that is then passed to the interpreter\n",
        "- The Python interpreter reads the bytecode (generated by the compiler) and executes it, line by line. )"
      ],
      "metadata": {
        "id": "ED_BlgAE2lQw"
      }
    },
    {
      "cell_type": "markdown",
      "source": [
        "**Q3. What are pre-defined keywords in Python ?**\n",
        "\n",
        "- Keywords are reserved words in Python that have special meanings and cannot be used as identifiers.\n",
        "- Examples of keywords include if, else, while, for, def, class, import, try, except, return, True, False, None, etc.\n",
        "- Keywords are case-sensitive."
      ],
      "metadata": {
        "id": "nXm8sTpf4PnH"
      }
    },
    {
      "cell_type": "markdown",
      "source": [
        "**Q4. Can keywords be used as variable names ?**\n",
        "- No, keywords are not used as variable names because it is case-sensitive.  "
      ],
      "metadata": {
        "id": "0Yt_A74w4set"
      }
    },
    {
      "cell_type": "markdown",
      "source": [
        "**Q5. What is mutability in Python ?**\n",
        "\n",
        "- Mutability means changes and modification after the creation.\n",
        "- Eg- lists and dictionaries"
      ],
      "metadata": {
        "id": "UzihyMIJ5EeK"
      }
    },
    {
      "cell_type": "markdown",
      "source": [
        "**Q6. Why are lists mutable, but tuples are immutable ?**\n",
        "\n",
        "- Lists are mutable because changes and modification can be done in the items but in tuples no modifucation can be done in the items that's why tuple is immutable.\n",
        "- Items in the lists are represented by square brackets whereas in tuples it is represented by parentheses."
      ],
      "metadata": {
        "id": "iYxadvgM50DU"
      }
    },
    {
      "cell_type": "markdown",
      "source": [
        "**Q7. What is the difference between “==” and “is” operators in Python ?**\n",
        "\n",
        "- In Python, the \"==\" operator is for comparison operator. It is used to check if two objects have the same value.\n",
        "- In Python, the \"is\" operator is for identity operator. It is used to check if two variables refer to the same object instance in memory."
      ],
      "metadata": {
        "id": "ZHaBgk217Lzn"
      }
    },
    {
      "cell_type": "markdown",
      "source": [
        "**Q8. What are logical operators in Python ?**\n",
        "\n",
        "- Logical operators in Python combine two or more operands and conduct logical comparisons on them.\n",
        "- There are three types, i.e., AND, OR, and NOT.\n",
        "- They return a boolean value, i.e., True or False."
      ],
      "metadata": {
        "id": "uH4OiYl58WWc"
      }
    },
    {
      "cell_type": "markdown",
      "source": [
        "**Q9. What is type casting in Python ?**\n",
        "\n",
        "- Type casting, also referred to as type conversion, is the process of changing one data type to another in Python."
      ],
      "metadata": {
        "id": "a_Rd4kZM8pd6"
      }
    },
    {
      "cell_type": "markdown",
      "source": [
        "**Q10.  What is the difference between implicit and explicit type casting ?**\n",
        "\n",
        "- Implicit casting, also called automatic type conversion, is done automatically by the compiler when different data types are mixed in an expression.\n",
        "- Explicit casting, or type casting, is performed manually by the programmer by explicitly specifying the desired data type."
      ],
      "metadata": {
        "id": "6Ivkae6k9R9-"
      }
    },
    {
      "cell_type": "markdown",
      "source": [
        "**Q11. What is the purpose of conditional statements in Python ?**\n",
        "\n",
        "- Conditional statements, also known as if statements, are used to execute code blocks based on whether a given condition is true or false."
      ],
      "metadata": {
        "id": "7haasN769jEj"
      }
    },
    {
      "cell_type": "markdown",
      "source": [
        "**Q12. How does the elif statement work ?**\n",
        "\n",
        "- Elif can be used in conditional statements to check for multiple conditions."
      ],
      "metadata": {
        "id": "Cx1D8uZP-Jqp"
      }
    },
    {
      "cell_type": "markdown",
      "source": [
        "**Q13. What is the difference between for and while loops ?**\n",
        "\n",
        "- for loops are typically used when we know the number of iterations beforehand.\n",
        "- while loops are used when the number of iterations is determined by a condition."
      ],
      "metadata": {
        "id": "1XCpStE3-XdU"
      }
    },
    {
      "cell_type": "markdown",
      "source": [
        "**Q14. Describe a scenario where a while loop is more suitable than a for loop.**\n",
        "\n",
        "- while' loop is ideal for situations where the number of iterations is not predetermined and depends on some dynamic condition."
      ],
      "metadata": {
        "id": "CqDl7hjB-0Wq"
      }
    },
    {
      "cell_type": "markdown",
      "source": [
        "# **Practical Questions**"
      ],
      "metadata": {
        "id": "nrgrmNYSAK3p"
      }
    },
    {
      "cell_type": "markdown",
      "source": [
        "**Q1. Write a Python program to print \"Hello, World!\"**"
      ],
      "metadata": {
        "id": "X0_GZFu4AdxW"
      }
    },
    {
      "cell_type": "code",
      "source": [
        "print(\"Hello World!\")"
      ],
      "metadata": {
        "colab": {
          "base_uri": "https://localhost:8080/"
        },
        "id": "Momtk1zyAocf",
        "outputId": "81a8e037-05e3-4325-b1be-7fb245e7c217"
      },
      "execution_count": 2,
      "outputs": [
        {
          "output_type": "stream",
          "name": "stdout",
          "text": [
            "Hello World!\n"
          ]
        }
      ]
    },
    {
      "cell_type": "code",
      "source": [
        "\"Hello World!\""
      ],
      "metadata": {
        "colab": {
          "base_uri": "https://localhost:8080/",
          "height": 36
        },
        "id": "kBe2PJaDAyMT",
        "outputId": "922a07ae-279d-45c0-8cf4-2750ca1ba47b"
      },
      "execution_count": 5,
      "outputs": [
        {
          "output_type": "execute_result",
          "data": {
            "text/plain": [
              "'Hello World!'"
            ],
            "application/vnd.google.colaboratory.intrinsic+json": {
              "type": "string"
            }
          },
          "metadata": {},
          "execution_count": 5
        }
      ]
    },
    {
      "cell_type": "code",
      "source": [
        "print(f\"Hello World!\")"
      ],
      "metadata": {
        "colab": {
          "base_uri": "https://localhost:8080/"
        },
        "id": "Ez1LjE1iBDmd",
        "outputId": "7c09acfb-6ee2-4588-930c-aa75005f5646"
      },
      "execution_count": 7,
      "outputs": [
        {
          "output_type": "stream",
          "name": "stdout",
          "text": [
            "Hello World!\n"
          ]
        }
      ]
    },
    {
      "cell_type": "markdown",
      "source": [
        "**Q2. Write a Python program that displays your name and age ?**"
      ],
      "metadata": {
        "id": "MPscXawMBXvw"
      }
    },
    {
      "cell_type": "code",
      "source": [
        "Name = \"Aastha Yadav\"\n",
        "Age = 20\n",
        "print(Name)\n",
        "print(Age)"
      ],
      "metadata": {
        "colab": {
          "base_uri": "https://localhost:8080/"
        },
        "id": "NwvOVUnYBZyE",
        "outputId": "f0820009-3863-4b31-e3f7-efe6300ac254"
      },
      "execution_count": 8,
      "outputs": [
        {
          "output_type": "stream",
          "name": "stdout",
          "text": [
            "Aastha Yadav\n",
            "20\n"
          ]
        }
      ]
    },
    {
      "cell_type": "markdown",
      "source": [
        "**Q3. Write code to print all the pre-defined keywords in Python using the keyword library ?**"
      ],
      "metadata": {
        "id": "Ln_Za1JbBuZZ"
      }
    },
    {
      "cell_type": "code",
      "source": [
        "import keyword\n",
        "\n",
        "keywords_list = keyword.kwlist\n",
        "print(\"The list of Python keywords is:\", keywords_list)"
      ],
      "metadata": {
        "colab": {
          "base_uri": "https://localhost:8080/"
        },
        "id": "t4gz82HiBwvi",
        "outputId": "0a3d06d4-2471-41af-a48d-47e28d66ee55"
      },
      "execution_count": 15,
      "outputs": [
        {
          "output_type": "stream",
          "name": "stdout",
          "text": [
            "The list of Python keywords is: ['False', 'None', 'True', 'and', 'as', 'assert', 'async', 'await', 'break', 'class', 'continue', 'def', 'del', 'elif', 'else', 'except', 'finally', 'for', 'from', 'global', 'if', 'import', 'in', 'is', 'lambda', 'nonlocal', 'not', 'or', 'pass', 'raise', 'return', 'try', 'while', 'with', 'yield']\n"
          ]
        }
      ]
    },
    {
      "cell_type": "code",
      "source": [
        "help(\"keywords\")"
      ],
      "metadata": {
        "colab": {
          "base_uri": "https://localhost:8080/"
        },
        "id": "Cpkx5QiIC0Ey",
        "outputId": "87b3f39b-f9f5-47ba-d182-863bfb1e3f28"
      },
      "execution_count": 16,
      "outputs": [
        {
          "output_type": "stream",
          "name": "stdout",
          "text": [
            "\n",
            "Here is a list of the Python keywords.  Enter any keyword to get more help.\n",
            "\n",
            "False               class               from                or\n",
            "None                continue            global              pass\n",
            "True                def                 if                  raise\n",
            "and                 del                 import              return\n",
            "as                  elif                in                  try\n",
            "assert              else                is                  while\n",
            "async               except              lambda              with\n",
            "await               finally             nonlocal            yield\n",
            "break               for                 not                 \n",
            "\n"
          ]
        }
      ]
    },
    {
      "cell_type": "markdown",
      "source": [
        "**Q4. Write a program that checks if a given word is a Python keyword.**"
      ],
      "metadata": {
        "id": "SalowLfPC8xB"
      }
    },
    {
      "cell_type": "code",
      "source": [
        "import keyword\n",
        "\n",
        "word = input(\"enter a keyword : \")\n",
        "if word in keyword.kwlist:\n",
        "  print(\"This is a keyword\")\n",
        "else:\n",
        "  print(\"This is not a keyword\")"
      ],
      "metadata": {
        "colab": {
          "base_uri": "https://localhost:8080/"
        },
        "id": "co7WIRkREQTO",
        "outputId": "034cd7a0-a02a-4594-cba7-cc3d5214a5b2"
      },
      "execution_count": 22,
      "outputs": [
        {
          "output_type": "stream",
          "name": "stdout",
          "text": [
            "enter keyword : true\n",
            "This is not a keyword\n"
          ]
        }
      ]
    },
    {
      "cell_type": "markdown",
      "source": [
        "**Q5. Create a list and tuple in Python, and demonstrate how attempting to change an element works differently for each.**"
      ],
      "metadata": {
        "id": "o6e2l6sjFAqt"
      }
    },
    {
      "cell_type": "code",
      "source": [
        "# FOR LIST:\n",
        "List = [10, 20, 30, 40]\n",
        "print(List)"
      ],
      "metadata": {
        "colab": {
          "base_uri": "https://localhost:8080/"
        },
        "id": "KmFscRUwFLxF",
        "outputId": "218c0cdd-2509-4cc6-868e-7f172a660d8a"
      },
      "execution_count": 41,
      "outputs": [
        {
          "output_type": "stream",
          "name": "stdout",
          "text": [
            "[10, 20, 30, 40]\n"
          ]
        }
      ]
    },
    {
      "cell_type": "code",
      "source": [
        "List[1] = 50\n",
        "print(List)"
      ],
      "metadata": {
        "colab": {
          "base_uri": "https://localhost:8080/"
        },
        "id": "FM_8T_2FFwcF",
        "outputId": "7807cf42-7858-4b13-f0ed-4fed6d13d60a"
      },
      "execution_count": 43,
      "outputs": [
        {
          "output_type": "stream",
          "name": "stdout",
          "text": [
            "[10, 50, 30, 40]\n"
          ]
        }
      ]
    },
    {
      "cell_type": "code",
      "source": [
        "# Eg 2\n",
        "list_1 = [\"apple\", \"banana\", \"grapes\"]\n",
        "print(list_1)"
      ],
      "metadata": {
        "colab": {
          "base_uri": "https://localhost:8080/"
        },
        "id": "IpLWCsFTHXmM",
        "outputId": "b3f91c70-337a-4e3a-fe53-0ec083f89530"
      },
      "execution_count": 48,
      "outputs": [
        {
          "output_type": "stream",
          "name": "stdout",
          "text": [
            "['apple', 'banana', 'grapes']\n"
          ]
        }
      ]
    },
    {
      "cell_type": "code",
      "source": [
        "list_1[2] = (\"cherry\")\n",
        "print(list_1)"
      ],
      "metadata": {
        "colab": {
          "base_uri": "https://localhost:8080/"
        },
        "id": "Z7_EiXZ5Hrxz",
        "outputId": "791262fe-c1e1-4a7e-a9c4-18b273571f9f"
      },
      "execution_count": 49,
      "outputs": [
        {
          "output_type": "stream",
          "name": "stdout",
          "text": [
            "['apple', 'banana', 'cherry']\n"
          ]
        }
      ]
    },
    {
      "cell_type": "code",
      "source": [
        "# FOR TUPLE:\n",
        "Tuple = {\"Apple\", \"Banana\", \"Cherry\", \"Grapes\"}\n",
        "print(Tuple)"
      ],
      "metadata": {
        "colab": {
          "base_uri": "https://localhost:8080/"
        },
        "id": "z5a6KeBQFeCy",
        "outputId": "54dbb6f5-01cc-4910-b12d-33b0279b7bb9"
      },
      "execution_count": 36,
      "outputs": [
        {
          "output_type": "stream",
          "name": "stdout",
          "text": [
            "{'Cherry', 'Apple', 'Grapes', 'Banana'}\n"
          ]
        }
      ]
    },
    {
      "cell_type": "code",
      "source": [
        "Tuple[1] = (\"Orange\")\n",
        "print(Tuple) # WILL SHOW ERROR as it is immutable."
      ],
      "metadata": {
        "colab": {
          "base_uri": "https://localhost:8080/",
          "height": 158
        },
        "id": "azyKTlMAF7Up",
        "outputId": "2356ecce-aee8-445c-e111-525cea768d98"
      },
      "execution_count": 50,
      "outputs": [
        {
          "output_type": "error",
          "ename": "TypeError",
          "evalue": "'set' object does not support item assignment",
          "traceback": [
            "\u001b[0;31m---------------------------------------------------------------------------\u001b[0m",
            "\u001b[0;31mTypeError\u001b[0m                                 Traceback (most recent call last)",
            "\u001b[0;32m/tmp/ipython-input-50-3936709424.py\u001b[0m in \u001b[0;36m<cell line: 0>\u001b[0;34m()\u001b[0m\n\u001b[0;32m----> 1\u001b[0;31m \u001b[0mTuple\u001b[0m\u001b[0;34m[\u001b[0m\u001b[0;36m1\u001b[0m\u001b[0;34m]\u001b[0m \u001b[0;34m=\u001b[0m \u001b[0;34m(\u001b[0m\u001b[0;34m\"Orange\"\u001b[0m\u001b[0;34m)\u001b[0m\u001b[0;34m\u001b[0m\u001b[0;34m\u001b[0m\u001b[0m\n\u001b[0m\u001b[1;32m      2\u001b[0m \u001b[0mprint\u001b[0m\u001b[0;34m(\u001b[0m\u001b[0mTuple\u001b[0m\u001b[0;34m)\u001b[0m\u001b[0;34m\u001b[0m\u001b[0;34m\u001b[0m\u001b[0m\n",
            "\u001b[0;31mTypeError\u001b[0m: 'set' object does not support item assignment"
          ]
        }
      ]
    },
    {
      "cell_type": "markdown",
      "source": [
        "**Q6. Write a function to demonstrate the behavior of mutable and immutable arguments.**"
      ],
      "metadata": {
        "id": "pKvcDc88JLiM"
      }
    },
    {
      "cell_type": "code",
      "source": [
        "def change(a, b):\n",
        "    a = a + 10\n",
        "    b.append(100)\n",
        "x = 5\n",
        "lst = [1, 2, 3]\n",
        "change(x, lst)\n",
        "print(x)     #immutable\n",
        "print(lst)  #mutable"
      ],
      "metadata": {
        "colab": {
          "base_uri": "https://localhost:8080/"
        },
        "id": "iNQ1xN_IJhmT",
        "outputId": "2c84b412-95a2-4d4d-88c4-75b6c8403d2e"
      },
      "execution_count": 2,
      "outputs": [
        {
          "output_type": "stream",
          "name": "stdout",
          "text": [
            "5\n",
            "[1, 2, 3, 100]\n"
          ]
        }
      ]
    },
    {
      "cell_type": "markdown",
      "source": [
        "**Q7. Write a program that performs basic arithmetic operations on two user-input numbers ?**"
      ],
      "metadata": {
        "id": "NaBoaZc2Fg9S"
      }
    },
    {
      "cell_type": "code",
      "source": [
        "num_1 = int(input(\"Enter first number : \"))\n",
        "num_2 = int(input(\"Enter second number : \"))\n",
        "\n",
        "sum = (num_1 + num_2)\n",
        "difference = (num_1 - num_2)\n",
        "product = (num_1 * num_2)\n",
        "division = (num_1 / num_2)\n",
        "\n",
        "print(\"The sum of two numbers :\", sum)\n",
        "print(\"The difference of two numbers :\", difference)\n",
        "print(\"The product of two numbers :\", product)\n",
        "print(\"The division of two numbers :\", division)"
      ],
      "metadata": {
        "colab": {
          "base_uri": "https://localhost:8080/"
        },
        "id": "ObKF1VqfFmst",
        "outputId": "a8419c28-53d1-4e08-82d3-818a530fd979"
      },
      "execution_count": 4,
      "outputs": [
        {
          "output_type": "stream",
          "name": "stdout",
          "text": [
            "Enter first number : 10\n",
            "Enter second number : 5\n",
            "The sum of two numbers : 15\n",
            "The difference of two numbers : 5\n",
            "The product of two numbers : 50\n",
            "The division of two numbers : 2.0\n"
          ]
        }
      ]
    },
    {
      "cell_type": "markdown",
      "source": [
        "**Q8. Write a program to demonstrate the use of logical operators ?**"
      ],
      "metadata": {
        "id": "xkR99NKAIPB-"
      }
    },
    {
      "cell_type": "code",
      "source": [
        "a = True\n",
        "b = False\n",
        "print(a and b) #and operator\n",
        "print(a or b) #or operator\n",
        "print(not a) #not operator"
      ],
      "metadata": {
        "colab": {
          "base_uri": "https://localhost:8080/"
        },
        "id": "1XLp6YJAIh0j",
        "outputId": "a32b909e-6818-4f05-9d5e-8adce4f435a6"
      },
      "execution_count": 3,
      "outputs": [
        {
          "output_type": "stream",
          "name": "stdout",
          "text": [
            "False\n",
            "True\n",
            "False\n"
          ]
        }
      ]
    },
    {
      "cell_type": "markdown",
      "source": [
        "**Q9. Write a Python program to convert user input from string to integer, float, and boolean types.**"
      ],
      "metadata": {
        "id": "m7TtR94kLpGV"
      }
    },
    {
      "cell_type": "code",
      "source": [
        "user_input = input(\"enter a number: \")\n",
        "a = int(user_input)\n",
        "b = float(user_input)\n",
        "c = bool(user_input)\n",
        "print(a)\n",
        "print(b)\n",
        "print(c)"
      ],
      "metadata": {
        "colab": {
          "base_uri": "https://localhost:8080/"
        },
        "id": "v0LqqWViLveo",
        "outputId": "7b3c8487-adac-4183-f75b-8efb16f212c0"
      },
      "execution_count": 4,
      "outputs": [
        {
          "output_type": "stream",
          "name": "stdout",
          "text": [
            "enter a number: 25\n",
            "25\n",
            "25.0\n",
            "True\n"
          ]
        }
      ]
    },
    {
      "cell_type": "markdown",
      "source": [
        "**Q10. Write code to demonstrate type casting with list elements.**"
      ],
      "metadata": {
        "id": "Tj9PCsihewto"
      }
    },
    {
      "cell_type": "code",
      "source": [
        "#type casting list element a float element in the list convert into integer\n",
        "a_list = [\"car\", \"bike\", 100 , 2.5, 25]\n",
        "a_list[3] = int(a_list[3])\n",
        "print(a_list[3])"
      ],
      "metadata": {
        "colab": {
          "base_uri": "https://localhost:8080/"
        },
        "id": "gSktvyV-eySi",
        "outputId": "fd39702a-aa27-42db-df83-0d13074338a2"
      },
      "execution_count": 5,
      "outputs": [
        {
          "output_type": "stream",
          "name": "stdout",
          "text": [
            "2\n"
          ]
        }
      ]
    },
    {
      "cell_type": "markdown",
      "source": [
        "**Q11. Write a program that checks if a number is positive, negative, or zero.**"
      ],
      "metadata": {
        "id": "mNiszv8nJpz1"
      }
    },
    {
      "cell_type": "code",
      "source": [
        "num = int(input(\"Enter an integer : \"))\n",
        "\n",
        "if num > 0 :\n",
        "  print(\"The number is a positive number.\")\n",
        "elif num < 0 :\n",
        "  print(\"The number is a negative number.\")\n",
        "else:\n",
        "  print(\"The number is a zero number.\")"
      ],
      "metadata": {
        "colab": {
          "base_uri": "https://localhost:8080/"
        },
        "id": "rnXy0iL4gjqa",
        "outputId": "b62b2690-a813-4e1e-d03c-ac28950e849f"
      },
      "execution_count": 56,
      "outputs": [
        {
          "output_type": "stream",
          "name": "stdout",
          "text": [
            "Enter an integer : -45\n",
            "The number is a negative number.\n"
          ]
        }
      ]
    },
    {
      "cell_type": "markdown",
      "source": [
        "**Q12. Write a for loop to print numbers from 1 to 10.**"
      ],
      "metadata": {
        "id": "8YJcG-yzhjka"
      }
    },
    {
      "cell_type": "code",
      "source": [
        "for i in range(1, 11):\n",
        "   print(i)"
      ],
      "metadata": {
        "colab": {
          "base_uri": "https://localhost:8080/"
        },
        "id": "U_jFguOihrAm",
        "outputId": "533d827d-a0c5-4c1d-edcb-69a541863096"
      },
      "execution_count": 58,
      "outputs": [
        {
          "output_type": "stream",
          "name": "stdout",
          "text": [
            "1\n",
            "2\n",
            "3\n",
            "4\n",
            "5\n",
            "6\n",
            "7\n",
            "8\n",
            "9\n",
            "10\n"
          ]
        }
      ]
    },
    {
      "cell_type": "markdown",
      "source": [
        " **Q13. Write a Python program to find the sum of all even numbers between 1 and 50**."
      ],
      "metadata": {
        "id": "0I0uvU-lh3sa"
      }
    },
    {
      "cell_type": "code",
      "source": [
        "for i in range(1,51):\n",
        "    if i%2==0:\n",
        "        print(i)"
      ],
      "metadata": {
        "colab": {
          "base_uri": "https://localhost:8080/"
        },
        "id": "trRdQ5w3h87Y",
        "outputId": "df81e356-63eb-4a97-fbc5-34074244677a"
      },
      "execution_count": 8,
      "outputs": [
        {
          "output_type": "stream",
          "name": "stdout",
          "text": [
            "2\n",
            "4\n",
            "6\n",
            "8\n",
            "10\n",
            "12\n",
            "14\n",
            "16\n",
            "18\n",
            "20\n",
            "22\n",
            "24\n",
            "26\n",
            "28\n",
            "30\n",
            "32\n",
            "34\n",
            "36\n",
            "38\n",
            "40\n",
            "42\n",
            "44\n",
            "46\n",
            "48\n",
            "50\n"
          ]
        }
      ]
    },
    {
      "cell_type": "code",
      "source": [
        "total_sum = 0\n",
        "for number in range(2, 51, 2):\n",
        "    total_sum += number\n",
        "print(f\"The sum of all even numbers between 1 and 50 is: {total_sum}\")"
      ],
      "metadata": {
        "colab": {
          "base_uri": "https://localhost:8080/"
        },
        "id": "f_8-A76GKSsw",
        "outputId": "51aaf260-4d7b-42bd-fe4f-aeff53ac3fa3"
      },
      "execution_count": 9,
      "outputs": [
        {
          "output_type": "stream",
          "name": "stdout",
          "text": [
            "The sum of all even numbers between 1 and 50 is: 650\n"
          ]
        }
      ]
    },
    {
      "cell_type": "markdown",
      "source": [
        " **Q14. Write a program to reverse a string using a while loop.**"
      ],
      "metadata": {
        "id": "6C6f9hRZiTcX"
      }
    },
    {
      "cell_type": "code",
      "source": [
        "reverse = input(\"enter a string: \")\n",
        "while reverse:\n",
        "    print(reverse[-1])\n",
        "    reverse = reverse[:-1]"
      ],
      "metadata": {
        "colab": {
          "base_uri": "https://localhost:8080/"
        },
        "id": "IAzSTSykiYrQ",
        "outputId": "86604702-1bc0-4a66-b944-26db9e08f4e3"
      },
      "execution_count": 1,
      "outputs": [
        {
          "output_type": "stream",
          "name": "stdout",
          "text": [
            "enter a string: Aastha\n",
            "a\n",
            "h\n",
            "t\n",
            "s\n",
            "a\n",
            "A\n"
          ]
        }
      ]
    },
    {
      "cell_type": "markdown",
      "source": [
        "**Q15. Write a Python program to calculate the factorial of a number provided by the user using a while loop.**"
      ],
      "metadata": {
        "id": "eqWncUSjKdg8"
      }
    },
    {
      "cell_type": "code",
      "source": [
        "n = int(input(\"Enter a number : \"))\n",
        "fact = 1\n",
        "i = 1\n",
        "while i <= n :\n",
        "  fact *= i\n",
        "  i += 1\n",
        "\n",
        "print(\"The factorial of\", n ,\"=\", fact)"
      ],
      "metadata": {
        "colab": {
          "base_uri": "https://localhost:8080/"
        },
        "id": "9VHHiqPpkdcz",
        "outputId": "8422ef96-e46b-4a22-e05d-b8c1c0829835"
      },
      "execution_count": 67,
      "outputs": [
        {
          "output_type": "stream",
          "name": "stdout",
          "text": [
            "Enter a number : 3\n",
            "The factorial of 3 = 6\n"
          ]
        }
      ]
    }
  ]
}