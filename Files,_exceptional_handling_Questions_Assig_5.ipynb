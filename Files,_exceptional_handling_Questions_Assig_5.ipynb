{
  "nbformat": 4,
  "nbformat_minor": 0,
  "metadata": {
    "colab": {
      "provenance": []
    },
    "kernelspec": {
      "name": "python3",
      "display_name": "Python 3"
    },
    "language_info": {
      "name": "python"
    }
  },
  "cells": [
    {
      "cell_type": "markdown",
      "source": [
        "# **Files, exceptional handling, logging and memory management Questions Assignment-5**"
      ],
      "metadata": {
        "id": "SzmXpyztIvZa"
      }
    },
    {
      "cell_type": "markdown",
      "source": [
        "**Q1. What is the difference between interpreted and compiled languages ?**"
      ],
      "metadata": {
        "id": "RXQLL1xLJANK"
      }
    },
    {
      "cell_type": "markdown",
      "source": [
        "The main difference between interpreted and compiled languages lies in how the source code is executed.\n",
        "\n",
        "--In compiled languages, the entire code is translated into machine code at once before execution, resulting in faster performance.\n",
        "\n",
        "--In interpreted languages, the code is executed line by line by an interpreter, offering more flexibility but potentially slower execution"
      ],
      "metadata": {
        "id": "itow6S4RJVxr"
      }
    },
    {
      "cell_type": "markdown",
      "source": [
        "**Q2. What is exception handling in Python ?**"
      ],
      "metadata": {
        "id": "JTXhZuXVJrMW"
      }
    },
    {
      "cell_type": "markdown",
      "source": [
        "Exception handling in Python is a mechanism used to manage runtime errors, known as exceptions, that occur during the execution of a program. This allows a program to respond to errors gracefully instead of terminating abruptly."
      ],
      "metadata": {
        "id": "ke5dqDprJ3He"
      }
    },
    {
      "cell_type": "markdown",
      "source": [
        "**Q3. What is the purpose of the finally block in exception handling ?**"
      ],
      "metadata": {
        "id": "vXezMoGNJ4Dz"
      }
    },
    {
      "cell_type": "markdown",
      "source": [
        "The 'finally' block is executed regardless of whether an exception occurred or not. It provides a way to define cleanup actions that must be performed, such as releasing resources or closing files, irrespective of the presence of exceptions."
      ],
      "metadata": {
        "id": "7OQX3xDDJ9Kg"
      }
    },
    {
      "cell_type": "markdown",
      "source": [
        "**Q4. What is logging in Python ?**"
      ],
      "metadata": {
        "id": "sPt4d1RJKVT4"
      }
    },
    {
      "cell_type": "markdown",
      "source": [
        "Logging in Python refers to the process of recording events that occur during the execution of a software program. It is a crucial practice for software development, debugging, and monitoring, as it provides a detailed record of what happened within the application."
      ],
      "metadata": {
        "id": "7pI2npX1Kbfw"
      }
    },
    {
      "cell_type": "markdown",
      "source": [
        "**Q5. What is the significance of the _ _del_ _ method in Python ?**"
      ],
      "metadata": {
        "id": "8pG-UErUKieV"
      }
    },
    {
      "cell_type": "markdown",
      "source": [
        "The _ _ del _ _ method in Python serves as a destructor for a class. Its significance lies in providing a mechanism to perform cleanup actions when an object is about to be destroyed or garbage-collected."
      ],
      "metadata": {
        "id": "CZjwbdasKpjY"
      }
    },
    {
      "cell_type": "markdown",
      "source": [
        "**Q6. What is the difference between import and from ... import in Python ?**"
      ],
      "metadata": {
        "id": "dOfF8L4iK3tK"
      }
    },
    {
      "cell_type": "markdown",
      "source": [
        "- import brings in the entire module; from ... import brings in specific components.\n",
        "\n",
        "- import requires prefixing with the module name; from ... import allows direct access to imported components.\n",
        "\n",
        "- import adds the module object to the namespace; from ... import adds only the specified components to the namespace."
      ],
      "metadata": {
        "id": "-_jESU-mK--w"
      }
    },
    {
      "cell_type": "markdown",
      "source": [
        "**Q7. How can you handle multiple exceptions in Python ?**"
      ],
      "metadata": {
        "id": "ZYnqVQ80Lbfk"
      }
    },
    {
      "cell_type": "markdown",
      "source": [
        "In Python, multiple exceptions can be handled within try-except blocks using two primary methods:\n",
        "\n",
        "- Handling multiple exceptions with a single except block\n",
        "- Handling multiple exceptions with separate except blocks"
      ],
      "metadata": {
        "id": "It60ac7ZLgWw"
      }
    },
    {
      "cell_type": "markdown",
      "source": [
        "**Q8. What is the purpose of the with statement when handling files in Python ?**"
      ],
      "metadata": {
        "id": "CXoDz7ggL7pC"
      }
    },
    {
      "cell_type": "markdown",
      "source": [
        "The with statement in Python, when used with file handling, serves the primary purpose of ensuring proper resource management and automatic cleanup, specifically the closing of the file."
      ],
      "metadata": {
        "id": "5mOG2-z6MDH5"
      }
    },
    {
      "cell_type": "markdown",
      "source": [
        "**Q9. What is the difference between multithreading and multiprocessing ?**"
      ],
      "metadata": {
        "id": "8X8FJSOTMRzP"
      }
    },
    {
      "cell_type": "markdown",
      "source": [
        "Multithreading involves multiple threads within a single process sharing the same resources, while multiprocessing involves multiple independent processes, each with its own resources.\n",
        "\n",
        "In essence, multithreading is about concurrency within a process, and multiprocessing is about parallelism across multiple processes"
      ],
      "metadata": {
        "id": "-CQRlWuhMZMs"
      }
    },
    {
      "cell_type": "markdown",
      "source": [
        "**Q10. What are the advantages of using logging in a program ?**"
      ],
      "metadata": {
        "id": "FjobIakyMiLS"
      }
    },
    {
      "cell_type": "markdown",
      "source": [
        "The following are the advantages of logging over printing in Python:\n",
        "\n",
        "- Debugging and Troubleshooting\n",
        "- Performance Monitoring\n",
        "- Security and Auditing\n",
        "- Application Behavior Analysis\n",
        "- Proactive Issue Detection"
      ],
      "metadata": {
        "id": "cOVGoAKKMoAL"
      }
    },
    {
      "cell_type": "markdown",
      "source": [
        "**Q11. What is memory management in Python ?**"
      ],
      "metadata": {
        "id": "OguAFN1QNMkz"
      }
    },
    {
      "cell_type": "markdown",
      "source": [
        "Memory management in Python refers to the system that automatically handles the allocation and deallocation of memory for Python objects during program execution. Unlike languages like C or C++ where developers manually manage memory, Python provides automatic memory management, relieving programmers of this burden."
      ],
      "metadata": {
        "id": "jE6TaAc_NUPY"
      }
    },
    {
      "cell_type": "markdown",
      "source": [
        "**Q12. What are the basic steps involved in exception handling in Python ?**"
      ],
      "metadata": {
        "id": "92poCoTFNeOJ"
      }
    },
    {
      "cell_type": "markdown",
      "source": [
        "The basic steps involved in exception handling in Python using try\n",
        "\n",
        "- try Block:\n",
        "\n",
        "-This block contains the code that is anticipated to potentially raise an exception.\n",
        "\n",
        "-If an exception occurs within this block, the execution immediately jumps to the corresponding except block.\n",
        "\n",
        "- except Block(s):\n",
        "\n",
        "-These blocks follow the try block and are responsible for handling specific types of exceptions that might occur.\n",
        "You can have multiple except blocks to handle different exception types individually.\n",
        "\n",
        "-A general except Exception as e: block can be used to catch any exception not caught by more specific except blocks."
      ],
      "metadata": {
        "id": "uEk0s94kNjCy"
      }
    },
    {
      "cell_type": "markdown",
      "source": [
        "**Q13. Why is memory management important in Python ?**"
      ],
      "metadata": {
        "id": "xaMM50ugOZl8"
      }
    },
    {
      "cell_type": "markdown",
      "source": [
        "Memory management is the process of controlling and coordinating a computer's main memory. It ensures that blocks of memory space are properly managed and allocated so the operating system (OS), applications and other running processes have the memory they need to carry out their operations."
      ],
      "metadata": {
        "id": "aT2NabSOOgLx"
      }
    },
    {
      "cell_type": "markdown",
      "source": [
        "**Q14. What is the role of try and except in exception handling ?**"
      ],
      "metadata": {
        "id": "0jFFvEboPBh1"
      }
    },
    {
      "cell_type": "markdown",
      "source": [
        "The try block identifies a \"protected\" section of code where exceptions might arise, while the except block provides the \"safety net\" to catch and manage those exceptions, ensuring the program's continued operation or a controlled termination, rather than an abrupt crash."
      ],
      "metadata": {
        "id": "NsPiiDAyPG_p"
      }
    },
    {
      "cell_type": "markdown",
      "source": [
        "**Q15. How does Python's garbage collection system work ?**"
      ],
      "metadata": {
        "id": "FBvBVl33PPxo"
      }
    },
    {
      "cell_type": "markdown",
      "source": [
        "Python's garbage collection automatically cleans up any unused objects based on reference counting and object allocation and deallocation, meaning users won't have to clean these objects manually. This also helps periodically clear up memory space to help a program run more smoothly."
      ],
      "metadata": {
        "id": "aMgG3LROPU2k"
      }
    },
    {
      "cell_type": "markdown",
      "source": [
        "**Q16. What is the purpose of the else block in exception handling ?**"
      ],
      "metadata": {
        "id": "ldi_k_xiPfO1"
      }
    },
    {
      "cell_type": "markdown",
      "source": [
        "The else block in exception handling, specifically in a try...except...else structure, serves the purpose of executing code only when no exceptions are raised within the corresponding try block."
      ],
      "metadata": {
        "id": "WpK6UytAPlO7"
      }
    },
    {
      "cell_type": "markdown",
      "source": [
        "**Q17. What are the common logging levels in Python ?**"
      ],
      "metadata": {
        "id": "QedsC4bWPuEv"
      }
    },
    {
      "cell_type": "markdown",
      "source": [
        "Python's built-in logging module provides several standard logging levels to categorize the severity of events. These levels, from least to most severe, are:\n",
        "\n",
        "- DEBUG\n",
        "- INFO\n",
        "- WARNING\n",
        "- CRITICAL\n",
        "- ERROR"
      ],
      "metadata": {
        "id": "WewD_xhhPzPh"
      }
    },
    {
      "cell_type": "markdown",
      "source": [
        "**Q18. What is the difference between os.fork() and multiprocessing in Python ?**"
      ],
      "metadata": {
        "id": "jlbo4rJOQNZ-"
      }
    },
    {
      "cell_type": "markdown",
      "source": [
        "- os.fork() offers fine-grained control and can be faster for creating many processes on POSIX systems due to copy-on-write, but requires manual handling of inter-process communication and is not portable.\n",
        "\n",
        "\n",
        "- multiprocessing provides a more user-friendly, portable, and robust framework for concurrent programming in Python, with built-in mechanisms for managing processes and inter-process communication. It is generally preferred for most Python multiprocessing applications."
      ],
      "metadata": {
        "id": "eFnE9Sx_QUSx"
      }
    },
    {
      "cell_type": "markdown",
      "source": [
        "**Q19. What is the importance of closing a file in Python ?**"
      ],
      "metadata": {
        "id": "Os9nEh58Qhay"
      }
    },
    {
      "cell_type": "markdown",
      "source": [
        "Closing files in Python is an essential practice that helps maintain data integrity, prevent resource leaks, and ensure the reliability of your applications."
      ],
      "metadata": {
        "id": "GurEU58qQm8H"
      }
    },
    {
      "cell_type": "markdown",
      "source": [
        "**Q20. What is the difference between file.read() and file.readline() in Python ?**"
      ],
      "metadata": {
        "id": "YdFTn47qQr52"
      }
    },
    {
      "cell_type": "markdown",
      "source": [
        "- read() is for reading the whole file or a specified number of characters/bytes.\n",
        "\n",
        "- readline() is for reading one line at a time."
      ],
      "metadata": {
        "id": "LMvq-b3XQ2VV"
      }
    },
    {
      "cell_type": "markdown",
      "source": [
        "**Q21. What is the logging module in Python used for ?**"
      ],
      "metadata": {
        "id": "SbQI2A-EQ8-W"
      }
    },
    {
      "cell_type": "markdown",
      "source": [
        "Python comes with a logging module in the standard library that can provide a flexible framework for emitting log messages from Python programs. This module is widely used by libraries and is often the first go-to point for most developers when it comes to logging."
      ],
      "metadata": {
        "id": "szx5qRGXREEx"
      }
    },
    {
      "cell_type": "markdown",
      "source": [
        "**Q22. What is the os module in Python used for in file handling ?**"
      ],
      "metadata": {
        "id": "aPYzEu9iRNhb"
      }
    },
    {
      "cell_type": "markdown",
      "source": [
        "The os module provides the tools to programmatically manage the file system, making it possible to create, modify, delete, and inspect files and directories directly from Python scripts, often in a way that is portable across different operating systems."
      ],
      "metadata": {
        "id": "KSCHReXvRS-y"
      }
    },
    {
      "cell_type": "markdown",
      "source": [
        "**Q23. What are the challenges associated with memory management in Python ?**"
      ],
      "metadata": {
        "id": "UHN1zc0hReXc"
      }
    },
    {
      "cell_type": "markdown",
      "source": [
        "The challenges in memory management in Python:\n",
        "\n",
        "1. Memory leaks\n",
        "2. Performance overhead of garbage collection\n",
        "3. High memory consumption\n",
        "4. Fragmentation\n",
        "5. Difficulty in monitoring and debugging"
      ],
      "metadata": {
        "id": "_w_-dxetRi5o"
      }
    },
    {
      "cell_type": "markdown",
      "source": [
        "**Q24. How do you raise an exception manually in Python ?**"
      ],
      "metadata": {
        "id": "0fTfNn8XR-zK"
      }
    },
    {
      "cell_type": "markdown",
      "source": [
        "In Python, exceptions are manually raised using the raise keyword. This allows developers to explicitly trigger an error condition at a specific point in the code, providing a mechanism for handling exceptional circumstances or enforcing validation rules."
      ],
      "metadata": {
        "id": "b6AOULWASIvt"
      }
    },
    {
      "cell_type": "markdown",
      "source": [
        "**Q25. Why is it important to use multithreading in certain applications ?**"
      ],
      "metadata": {
        "id": "SiqJFckRSP5-"
      }
    },
    {
      "cell_type": "markdown",
      "source": [
        "Multithreading is crucial for applications that require high performance, responsiveness, and efficient resource utilization. By allowing multiple tasks to run concurrently within a single process, multithreading can significantly improve execution speed, especially on multi-core processors. This is because threads can execute tasks simultaneously, overlapping their execution and reducing overall processing time."
      ],
      "metadata": {
        "id": "CeWyXnZVSVh1"
      }
    },
    {
      "cell_type": "markdown",
      "source": [
        "# **Practical Questions**"
      ],
      "metadata": {
        "id": "Ran4oyq2Sdxu"
      }
    },
    {
      "cell_type": "markdown",
      "source": [
        "**Q1. How can you open a file for writing in Python and write a string to it ?**"
      ],
      "metadata": {
        "id": "4Qi-3nvISif4"
      }
    },
    {
      "cell_type": "code",
      "source": [
        "    file_path = \"output.txt\"\n",
        "    string_to_write = \"Hello, this is a test string.\\nThis is another line.\"\n",
        "\n",
        "    with open(file_path, \"w\") as f:\n",
        "        f.write(string_to_write)\n",
        "\n",
        "    print(f\"String successfully written to '{file_path}'\")"
      ],
      "metadata": {
        "colab": {
          "base_uri": "https://localhost:8080/"
        },
        "id": "N9lKtEuLS40W",
        "outputId": "50bee07f-f154-49cb-e66a-7a0cf943bea4"
      },
      "execution_count": 1,
      "outputs": [
        {
          "output_type": "stream",
          "name": "stdout",
          "text": [
            "String successfully written to 'output.txt'\n"
          ]
        }
      ]
    },
    {
      "cell_type": "markdown",
      "source": [
        "**Q2. Write a Python program to read the contents of a file and print each line.**"
      ],
      "metadata": {
        "id": "ihz1uzBDTK3O"
      }
    },
    {
      "cell_type": "code",
      "source": [
        "file_name = \"your_file.txt\"  # Replace with the actual file name\n",
        "\n",
        "try:\n",
        "    with open(file_name, 'r') as file:\n",
        "        for line in file:\n",
        "            print(line.strip())  # .strip() removes leading/trailing whitespace, including newlines\n",
        "except FileNotFoundError:\n",
        "    print(f\"Error: The file '{file_name}' was not found.\")\n",
        "except Exception as e:\n",
        "    print(f\"An error occurred: {e}\")"
      ],
      "metadata": {
        "colab": {
          "base_uri": "https://localhost:8080/"
        },
        "id": "-u_zmukITVl6",
        "outputId": "1bc2b6d2-1f75-4f84-e1b4-a0f2fd33c68f"
      },
      "execution_count": 7,
      "outputs": [
        {
          "output_type": "stream",
          "name": "stdout",
          "text": [
            "Error: The file 'your_file.txt' was not found.\n"
          ]
        }
      ]
    },
    {
      "cell_type": "markdown",
      "source": [
        "**Q3. How would you handle a case where the file doesn't exist while trying to open it for reading ?**"
      ],
      "metadata": {
        "id": "gszTiCuJTtkK"
      }
    },
    {
      "cell_type": "code",
      "source": [
        "try:\n",
        "    with open(\"my_file.txt\", \"r\") as file:  # Attempt to open the file in read mode\n",
        "        content = file.read()\n",
        "        print(\"File content:\", content)\n",
        "except FileNotFoundError:\n",
        "    print(\"Error: The specified file was not found.\")"
      ],
      "metadata": {
        "colab": {
          "base_uri": "https://localhost:8080/"
        },
        "id": "PidwwZkzUCki",
        "outputId": "a411031d-5c00-45a0-f2d0-b14d4de24cdf"
      },
      "execution_count": 6,
      "outputs": [
        {
          "output_type": "stream",
          "name": "stdout",
          "text": [
            "Error: The specified file was not found.\n"
          ]
        }
      ]
    },
    {
      "cell_type": "markdown",
      "source": [
        "**Q4. Write a Python script that reads from one file and writes its content to another file.**"
      ],
      "metadata": {
        "id": "SfS1mGIDUSCv"
      }
    },
    {
      "cell_type": "code",
      "source": [
        "def copy_file_content(source_file_path, destination_file_path):\n",
        "    try:\n",
        "        with open(source_file_path, 'r') as source_file:\n",
        "            content = source_file.read()  # Read the entire content of the source file\n",
        "\n",
        "        with open(destination_file_path, 'w') as destination_file:\n",
        "            destination_file.write(content)  # Write the content to the destination file\n",
        "\n",
        "        print(f\"Content successfully copied from '{source_file_path}' to '{destination_file_path}'.\")\n",
        "\n",
        "    except FileNotFoundError:\n",
        "        print(f\"Error: One of the files was not found. Please check the paths.\")\n",
        "    except Exception as e:\n",
        "        print(f\"An unexpected error occurred: {e}\")"
      ],
      "metadata": {
        "id": "gscP_F_cUXkv"
      },
      "execution_count": 9,
      "outputs": []
    },
    {
      "cell_type": "code",
      "source": [
        "# Example usage:\n",
        "if __name__ == \"__main__\":\n",
        "    # Create a dummy source file for demonstration\n",
        "    with open(\"source.txt\", \"w\") as f:\n",
        "        f.write(\"This is some sample text.\\n\")\n",
        "        f.write(\"This is the second line.\\n\")\n",
        "\n",
        "    source_file = \"source.txt\"\n",
        "    destination_file = \"destination.txt\"\n",
        "    copy_file_content(source_file, destination_file)"
      ],
      "metadata": {
        "colab": {
          "base_uri": "https://localhost:8080/"
        },
        "id": "lO0_m8xUUlsr",
        "outputId": "6f53161d-d10b-4a10-f3b3-e6ebf1ba7072"
      },
      "execution_count": 10,
      "outputs": [
        {
          "output_type": "stream",
          "name": "stdout",
          "text": [
            "Content successfully copied from 'source.txt' to 'destination.txt'.\n"
          ]
        }
      ]
    },
    {
      "cell_type": "markdown",
      "source": [
        "**Q5. How would you catch and handle division by zero error in Python ?**"
      ],
      "metadata": {
        "id": "eCbIYDE9Unmy"
      }
    },
    {
      "cell_type": "code",
      "source": [
        "try:\n",
        "    numerator = 10\n",
        "    denominator = 0\n",
        "    result = numerator / denominator\n",
        "    print(f\"The result is: {result}\")\n",
        "except ZeroDivisionError:\n",
        "    print(\"Error: Cannot divide by zero!\")\n",
        "    # You can also assign a default value or take other recovery actions here\n",
        "    result = None\n",
        "    print(f\"Result set to: {result}\")"
      ],
      "metadata": {
        "colab": {
          "base_uri": "https://localhost:8080/"
        },
        "id": "HGTDuHJAUsV2",
        "outputId": "989e098e-8142-4ef5-b1b2-ecbf1791b92c"
      },
      "execution_count": 12,
      "outputs": [
        {
          "output_type": "stream",
          "name": "stdout",
          "text": [
            "Error: Cannot divide by zero!\n",
            "Result set to: None\n"
          ]
        }
      ]
    },
    {
      "cell_type": "code",
      "source": [
        "numerator = 10\n",
        "denominator = 0\n",
        "\n",
        "if denominator != 0:\n",
        "    result = numerator / denominator\n",
        "    print(f\"The result is: {result}\")\n",
        "else:\n",
        "    print(\"Error: Cannot divide by zero!\")\n",
        "    result = None\n",
        "    print(f\"Result set to: {result}\")"
      ],
      "metadata": {
        "colab": {
          "base_uri": "https://localhost:8080/"
        },
        "id": "024HB5ldU3Km",
        "outputId": "4f5f12b9-3e2c-4204-9297-110d8cc49f5e"
      },
      "execution_count": 13,
      "outputs": [
        {
          "output_type": "stream",
          "name": "stdout",
          "text": [
            "Error: Cannot divide by zero!\n",
            "Result set to: None\n"
          ]
        }
      ]
    },
    {
      "cell_type": "markdown",
      "source": [
        "**Q6. Write a Python program that logs an error message to a log file when a division by zero exception occurs.**"
      ],
      "metadata": {
        "id": "R7cBulukU8Jv"
      }
    },
    {
      "cell_type": "code",
      "source": [
        "import logging\n",
        "\n",
        "# Configure logging to write to a file\n",
        "logging.basicConfig(\n",
        "    filename='error_log.log',  # Name of the log file\n",
        "    level=logging.ERROR,       # Log level (only ERROR and higher will be logged)\n",
        "    format='%(asctime)s - %(levelname)s - %(message)s' # Format of the log message\n",
        ")\n",
        "\n",
        "def divide_numbers(numerator, denominator):\n",
        "    try:\n",
        "        result = numerator / denominator\n",
        "        print(f\"Result of division: {result}\")\n",
        "        return result\n",
        "    except ZeroDivisionError as e:\n",
        "        logging.error(f\"Attempted division by zero: {e}\")\n",
        "        print(\"Error: Cannot divide by zero. Check error_log.log for details.\")\n",
        "        return None"
      ],
      "metadata": {
        "id": "yfDBi9YXVAoX"
      },
      "execution_count": 15,
      "outputs": []
    },
    {
      "cell_type": "code",
      "source": [
        "# Example usage\n",
        "divide_numbers(10, 2)\n",
        "divide_numbers(10, 0)\n",
        "divide_numbers(5, 3)"
      ],
      "metadata": {
        "colab": {
          "base_uri": "https://localhost:8080/"
        },
        "id": "9EdykA02VLlc",
        "outputId": "e77ec080-7feb-4449-b49a-ede92f3f7393"
      },
      "execution_count": 16,
      "outputs": [
        {
          "output_type": "stream",
          "name": "stderr",
          "text": [
            "ERROR:root:Attempted division by zero: division by zero\n"
          ]
        },
        {
          "output_type": "stream",
          "name": "stdout",
          "text": [
            "Result of division: 5.0\n",
            "Error: Cannot divide by zero. Check error_log.log for details.\n",
            "Result of division: 1.6666666666666667\n"
          ]
        },
        {
          "output_type": "execute_result",
          "data": {
            "text/plain": [
              "1.6666666666666667"
            ]
          },
          "metadata": {},
          "execution_count": 16
        }
      ]
    },
    {
      "cell_type": "markdown",
      "source": [
        "**Q7. How do you log information at different levels (INFO, ERROR, WARNING) in Python using the logging module ?**"
      ],
      "metadata": {
        "id": "hUnoYTSXVO-X"
      }
    },
    {
      "cell_type": "code",
      "source": [
        "import logging\n",
        "\n",
        "# Configure basic logging to output INFO and higher level messages to the console\n",
        "logging.basicConfig(level=logging.INFO, format='%(levelname)s: %(message)s')\n",
        "\n",
        "# Log messages at different levels\n",
        "logging.debug(\"This is a debug message (will not be shown with current config).\")\n",
        "logging.info(\"This is an informational message.\")\n",
        "logging.warning(\"This is a warning message, something might be wrong.\")\n",
        "logging.error(\"This is an error message, something went wrong.\")\n",
        "logging.critical(\"This is a critical error, the application might stop.\")\n",
        "\n",
        "# You can also create and use specific logger instances\n",
        "logger = logging.getLogger(\"my_application_logger\")\n",
        "logger.setLevel(logging.DEBUG) # Set a lower level for this specific logger\n",
        "\n",
        "logger.debug(\"This debug message from 'my_application_logger' will be shown.\")"
      ],
      "metadata": {
        "colab": {
          "base_uri": "https://localhost:8080/"
        },
        "id": "aH_fOF1TVYyY",
        "outputId": "06967fd3-c68b-4b78-c31a-85ff4b39b0ba"
      },
      "execution_count": 17,
      "outputs": [
        {
          "output_type": "stream",
          "name": "stderr",
          "text": [
            "WARNING:root:This is a warning message, something might be wrong.\n",
            "ERROR:root:This is an error message, something went wrong.\n",
            "CRITICAL:root:This is a critical error, the application might stop.\n",
            "DEBUG:my_application_logger:This debug message from 'my_application_logger' will be shown.\n"
          ]
        }
      ]
    },
    {
      "cell_type": "markdown",
      "source": [
        "**Q8. Write a program to handle a file opening error using exception handling.**"
      ],
      "metadata": {
        "id": "s8veE2Z4VzTn"
      }
    },
    {
      "cell_type": "code",
      "source": [
        "def read_file_with_exception_handling(filename):\n",
        "    try:\n",
        "        with open(filename, 'r') as file:\n",
        "            content = file.read()\n",
        "            print(f\"File '{filename}' opened successfully. Content:\\n{content}\")\n",
        "    except FileNotFoundError:\n",
        "        print(f\"Error: The file '{filename}' was not found.\")\n",
        "    except IOError as e:\n",
        "        print(f\"Error: An I/O error occurred while opening or reading '{filename}': {e}\")\n",
        "    except Exception as e:\n",
        "        print(f\"An unexpected error occurred: {e}\")\n",
        "\n",
        "# Example usage:\n",
        "# 1. Attempt to open a file that exists\n",
        "read_file_with_exception_handling(\"existing_file.txt\")\n",
        "\n",
        "# 2. Attempt to open a file that does not exist\n",
        "read_file_with_exception_handling(\"nonexistent_file.txt\")"
      ],
      "metadata": {
        "colab": {
          "base_uri": "https://localhost:8080/"
        },
        "id": "VmdmplWWV5sq",
        "outputId": "04c91f1b-58b1-4073-fa7e-fba0f9c338a8"
      },
      "execution_count": 18,
      "outputs": [
        {
          "output_type": "stream",
          "name": "stdout",
          "text": [
            "Error: The file 'existing_file.txt' was not found.\n",
            "Error: The file 'nonexistent_file.txt' was not found.\n"
          ]
        }
      ]
    },
    {
      "cell_type": "markdown",
      "source": [
        "**Q9. How can you read a file line by line and store its content in a list in Python ?**"
      ],
      "metadata": {
        "id": "6WjxRAZNWC4C"
      }
    },
    {
      "cell_type": "code",
      "source": [
        "# Create a dummy file for demonstration\n",
        "with open(\"sample.txt\", \"w\") as f:\n",
        "    f.write(\"This is line 1.\\n\")\n",
        "    f.write(\"This is line 2.\\n\")\n",
        "    f.write(\"This is line 3.\")\n",
        "\n",
        "# Open the file in read mode and store its content in a list\n",
        "try:\n",
        "    with open(\"sample.txt\", \"r\") as file:\n",
        "        lines = file.readlines()\n",
        "\n",
        "    # Print the list to verify the content\n",
        "    print(\"Content of the file stored in a list:\")\n",
        "    print(lines)\n",
        "\n",
        "    print(\"\\nProcessing each line (stripping newline characters):\")\n",
        "    processed_lines = [line.strip() for line in lines]\n",
        "    print(processed_lines)\n",
        "\n",
        "except FileNotFoundError:\n",
        "    print(\"Error: The file 'sample.txt' was not found.\")\n",
        "except Exception as e:\n",
        "    print(f\"An error occurred: {e}\")"
      ],
      "metadata": {
        "colab": {
          "base_uri": "https://localhost:8080/"
        },
        "id": "5fxZFk2fWuXi",
        "outputId": "1adf2d25-598f-4b48-9734-aee15567c9df"
      },
      "execution_count": 24,
      "outputs": [
        {
          "output_type": "stream",
          "name": "stdout",
          "text": [
            "Content of the file stored in a list:\n",
            "['This is line 1.\\n', 'This is line 2.\\n', 'This is line 3.']\n",
            "\n",
            "Processing each line (stripping newline characters):\n",
            "['This is line 1.', 'This is line 2.', 'This is line 3.']\n"
          ]
        }
      ]
    },
    {
      "cell_type": "markdown",
      "source": [
        "**Q10. How can you append data to an existing file in Python ?**"
      ],
      "metadata": {
        "id": "wpFerIwVW02g"
      }
    },
    {
      "cell_type": "code",
      "source": [
        "# Create a file with initial content (if it doesn't exist)\n",
        "try:\n",
        "    with open(\"my_file.txt\", \"w\") as file:\n",
        "        file.write(\"This is the original content.\\n\")\n",
        "except FileExistsError:\n",
        "    pass # File already exists, proceed to append\n",
        "\n",
        "# Open the file in append mode and add new data\n",
        "with open(\"my_file.txt\", \"a\") as file:\n",
        "    file.write(\"This is new appended content.\\n\")\n",
        "    file.write(\"Another line of appended text.\\n\")\n",
        "\n",
        "# Verify the content (optional)\n",
        "with open(\"my_file.txt\", \"r\") as file:\n",
        "    content = file.read()\n",
        "    print(content)"
      ],
      "metadata": {
        "colab": {
          "base_uri": "https://localhost:8080/"
        },
        "id": "29uQJioCXIsz",
        "outputId": "4371d3f7-9c48-43d1-a194-dacc7a053ee6"
      },
      "execution_count": 27,
      "outputs": [
        {
          "output_type": "stream",
          "name": "stdout",
          "text": [
            "This is the original content.\n",
            "This is new appended content.\n",
            "Another line of appended text.\n",
            "\n"
          ]
        }
      ]
    },
    {
      "cell_type": "markdown",
      "source": [
        "**Q11. Write a Python program that uses a try-except block to handle an error when attempting to access a dictionary key that doesn't exist.**"
      ],
      "metadata": {
        "id": "XnUns_K4XM6u"
      }
    },
    {
      "cell_type": "code",
      "source": [
        "# Define a sample dictionary\n",
        "my_dictionary = {\n",
        "    \"name\": \"Alice\",\n",
        "    \"age\": 30,\n",
        "    \"city\": \"New York\"\n",
        "}\n",
        "\n",
        "# Key to attempt accessing\n",
        "key_to_find = \"occupation\"\n",
        "\n",
        "try:\n",
        "    # Attempt to access the key\n",
        "    value = my_dictionary[key_to_find]\n",
        "    print(f\"Successfully accessed '{key_to_find}': {value}\")\n",
        "except KeyError:\n",
        "    # Handle the KeyError if the key does not exist\n",
        "    print(f\"Error: The key '{key_to_find}' does not exist in the dictionary.\")\n",
        "    print(\"Please try accessing an existing key like 'name', 'age', or 'city'.\")\n",
        "\n",
        "# Another example with an existing key\n",
        "key_to_find_existing = \"name\"\n",
        "try:\n",
        "    value_existing = my_dictionary[key_to_find_existing]\n",
        "    print(f\"\\nSuccessfully accessed '{key_to_find_existing}': {value_existing}\")\n",
        "except KeyError:\n",
        "    print(f\"Error: The key '{key_to_find_existing}' does not exist in the dictionary.\")"
      ],
      "metadata": {
        "colab": {
          "base_uri": "https://localhost:8080/"
        },
        "id": "KqT_yhgAXT1q",
        "outputId": "1dcef33c-a0fb-448d-b8a0-5040367def65"
      },
      "execution_count": 28,
      "outputs": [
        {
          "output_type": "stream",
          "name": "stdout",
          "text": [
            "Error: The key 'occupation' does not exist in the dictionary.\n",
            "Please try accessing an existing key like 'name', 'age', or 'city'.\n",
            "\n",
            "Successfully accessed 'name': Alice\n"
          ]
        }
      ]
    },
    {
      "cell_type": "markdown",
      "source": [
        "**Q12. Write a program that demonstrates using multiple except blocks to handle different types of exceptions.**"
      ],
      "metadata": {
        "id": "lw29h1Y9Xf6-"
      }
    },
    {
      "cell_type": "code",
      "source": [
        "def perform_calculation():\n",
        "    try:\n",
        "        # Prompt user for input and attempt to convert it to an integer\n",
        "        user_input = input(\"Enter a number: \")\n",
        "        number = int(user_input)\n",
        "\n",
        "        # Attempt to perform a division operation\n",
        "        result = 100 / number\n",
        "        print(f\"Result of division: {result}\")\n",
        "\n",
        "    except ValueError:\n",
        "        # This block handles exceptions related to invalid input type\n",
        "        print(\"Error: Invalid input. Please enter a valid integer.\")\n",
        "\n",
        "    except ZeroDivisionError:\n",
        "        # This block handles exceptions related to division by zero\n",
        "        print(\"Error: Cannot divide by zero. Please enter a non-zero number.\")\n",
        "\n",
        "    except Exception as e:\n",
        "        # This is a general exception handler for any other unexpected errors\n",
        "        print(f\"An unexpected error occurred: {e}\")\n",
        "\n",
        "# Call the function to demonstrate exception handling\n",
        "perform_calculation()"
      ],
      "metadata": {
        "colab": {
          "base_uri": "https://localhost:8080/"
        },
        "id": "XXbiPJlWXl-c",
        "outputId": "56173f09-3499-4228-ee3b-2ffa435e3396"
      },
      "execution_count": 29,
      "outputs": [
        {
          "output_type": "stream",
          "name": "stdout",
          "text": [
            "Enter a number: 22\n",
            "Result of division: 4.545454545454546\n"
          ]
        }
      ]
    },
    {
      "cell_type": "markdown",
      "source": [
        "**Q13. How would you check if a file exists before attempting to read it in Python ?**"
      ],
      "metadata": {
        "id": "gbW9y0eUX1Zz"
      }
    },
    {
      "cell_type": "code",
      "source": [
        "import os\n",
        "\n",
        "file_path = \"my_document.txt\"\n",
        "\n",
        "if os.path.exists(file_path):\n",
        "    print(f\"The file '{file_path}' exists.\")\n",
        "    # Proceed with reading the file\n",
        "    try:\n",
        "        with open(file_path, 'r') as f:\n",
        "            content = f.read()\n",
        "            print(\"File content:\")\n",
        "            print(content)\n",
        "    except IOError as e:\n",
        "        print(f\"Error reading file: {e}\")\n",
        "else:\n",
        "    print(f\"The file '{file_path}' does not exist.\")"
      ],
      "metadata": {
        "colab": {
          "base_uri": "https://localhost:8080/"
        },
        "id": "enfeT9okX5R9",
        "outputId": "fe27904f-f97a-4de3-8a78-793005cbf7a0"
      },
      "execution_count": 30,
      "outputs": [
        {
          "output_type": "stream",
          "name": "stdout",
          "text": [
            "The file 'my_document.txt' does not exist.\n"
          ]
        }
      ]
    },
    {
      "cell_type": "markdown",
      "source": [
        "**Q14. Write a program that uses the logging module to log both informational and error messages.**"
      ],
      "metadata": {
        "id": "ErZOVPuMX9QL"
      }
    },
    {
      "cell_type": "code",
      "source": [
        "import logging\n",
        "\n",
        "def configure_logger():\n",
        "    \"\"\"Configures the logging system to write logs to a file.\"\"\"\n",
        "    logging.basicConfig(\n",
        "        filename='application.log',  # Name of the log file\n",
        "        level=logging.INFO,         # Sets the minimum logging level to INFO\n",
        "        format='%(asctime)s - %(levelname)s - %(message)s' # Defines the log message format\n",
        "    )\n",
        "\n",
        "def perform_operation(value):\n",
        "    \"\"\"Simulates an operation that might produce an error.\"\"\"\n",
        "    try:\n",
        "        result = 10 / value\n",
        "        logging.info(f\"Operation successful: 10 divided by {value} is {result}\")\n",
        "    except ZeroDivisionError:\n",
        "        logging.error(\"Error: Attempted to divide by zero!\")\n",
        "    except Exception as e:\n",
        "        logging.error(f\"An unexpected error occurred: {e}\")\n",
        "\n",
        "if __name__ == \"__main__\":\n",
        "    configure_logger()\n",
        "\n",
        "    logging.info(\"Program started.\")\n",
        "\n",
        "    perform_operation(5)  # This will log an informational message\n",
        "    perform_operation(0)  # This will log an error message\n",
        "    perform_operation(2.5) # This will log an informational message\n",
        "\n",
        "    logging.info(\"Program finished.\")"
      ],
      "metadata": {
        "colab": {
          "base_uri": "https://localhost:8080/"
        },
        "id": "csESL1eVYCsW",
        "outputId": "3f5f18e2-1d04-4e8b-f031-5cb3aa0549c0"
      },
      "execution_count": 31,
      "outputs": [
        {
          "output_type": "stream",
          "name": "stderr",
          "text": [
            "ERROR:root:Error: Attempted to divide by zero!\n"
          ]
        }
      ]
    },
    {
      "cell_type": "markdown",
      "source": [
        "**Q15. Write a Python program that prints the content of a file and handles the case when the file is empty.**"
      ],
      "metadata": {
        "id": "bm9mqer_YKmB"
      }
    },
    {
      "cell_type": "code",
      "source": [
        "def print_file_content(file_path):\n",
        "    try:\n",
        "        with open(file_path, 'r') as file:\n",
        "            content = file.read()\n",
        "            if not content:  # Checks if the content string is empty\n",
        "                print(f\"The file '{file_path}' is empty.\")\n",
        "            else:\n",
        "                print(f\"Content of '{file_path}':\")\n",
        "                print(content)\n",
        "    except FileNotFoundError:\n",
        "        print(f\"Error: The file '{file_path}' was not found.\")\n",
        "    except Exception as e:\n",
        "        print(f\"An unexpected error occurred: {e}\")\n",
        "\n",
        "# Example usage:\n",
        "# Create a dummy file for testing\n",
        "with open(\"example.txt\", \"w\") as f:\n",
        "    f.write(\"This is a test file.\\n\")\n",
        "    f.write(\"It has multiple lines.\")\n",
        "\n",
        "with open(\"empty_file.txt\", \"w\") as f:\n",
        "    pass  # Creates an empty file\n",
        "\n",
        "print_file_content(\"example.txt\")\n",
        "print(\"\\n---\")\n",
        "print_file_content(\"empty_file.txt\")\n",
        "print(\"\\n---\")\n",
        "print_file_content(\"non_existent_file.txt\")"
      ],
      "metadata": {
        "colab": {
          "base_uri": "https://localhost:8080/"
        },
        "id": "IYs6NbJmYa0P",
        "outputId": "42d5c8f7-e9e3-4c2a-b594-817615492d48"
      },
      "execution_count": 32,
      "outputs": [
        {
          "output_type": "stream",
          "name": "stdout",
          "text": [
            "Content of 'example.txt':\n",
            "This is a test file.\n",
            "It has multiple lines.\n",
            "\n",
            "---\n",
            "The file 'empty_file.txt' is empty.\n",
            "\n",
            "---\n",
            "Error: The file 'non_existent_file.txt' was not found.\n"
          ]
        }
      ]
    },
    {
      "cell_type": "markdown",
      "source": [
        "**Q16. Demonstrate how to use memory profiling to check the memory usage of a small program.**"
      ],
      "metadata": {
        "id": "QlaiHxKeYhaB"
      }
    },
    {
      "cell_type": "code",
      "source": [
        "pip install memory_profiler"
      ],
      "metadata": {
        "colab": {
          "base_uri": "https://localhost:8080/"
        },
        "id": "70cFOcSwZqMk",
        "outputId": "9123d86e-9dad-4a65-ac7f-c6c264e295d8"
      },
      "execution_count": 37,
      "outputs": [
        {
          "output_type": "stream",
          "name": "stdout",
          "text": [
            "Requirement already satisfied: memory_profiler in /usr/local/lib/python3.11/dist-packages (0.61.0)\n",
            "Requirement already satisfied: psutil in /usr/local/lib/python3.11/dist-packages (from memory_profiler) (5.9.5)\n"
          ]
        }
      ]
    },
    {
      "cell_type": "code",
      "source": [
        "from memory_profiler import profile\n",
        "\n",
        "@profile\n",
        "def create_large_lists():\n",
        "    \"\"\"\n",
        "    This function creates two large lists to demonstrate memory usage.\n",
        "    \"\"\"\n",
        "    list_a = [i for i in range(1000000)]  # Create a list of 1 million integers\n",
        "    list_b = [str(i) for i in range(500000)] # Create a list of 500k strings\n",
        "    del list_a # Delete a list to show memory release\n",
        "    return list_b\n",
        "\n",
        "if __name__ == '__main__':\n",
        "    result = create_large_lists()\n",
        "    print(\"Function execution complete.\")"
      ],
      "metadata": {
        "colab": {
          "base_uri": "https://localhost:8080/"
        },
        "id": "X-mTu5eHZuoT",
        "outputId": "64bc9e6a-c0b6-42ac-eaeb-70aef0e8ed80"
      },
      "execution_count": 42,
      "outputs": [
        {
          "output_type": "stream",
          "name": "stdout",
          "text": [
            "ERROR: Could not find file /tmp/ipython-input-1749942173.py\n",
            "Function execution complete.\n"
          ]
        }
      ]
    },
    {
      "cell_type": "markdown",
      "source": [
        "**Q17. Write a Python program to create and write a list of numbers to a file, one number per line.**"
      ],
      "metadata": {
        "id": "gaQNDNmBZ_H6"
      }
    },
    {
      "cell_type": "code",
      "source": [
        "def write_numbers_to_file(filename, number_list):\n",
        "    try:\n",
        "        with open(filename, 'w') as file:\n",
        "            for number in number_list:\n",
        "                file.write(str(number) + '\\n')\n",
        "        print(f\"Numbers successfully written to '{filename}'.\")\n",
        "    except IOError as e:\n",
        "        print(f\"Error writing to file '{filename}': {e}\")\n",
        "\n",
        "if __name__ == \"__main__\":\n",
        "    # Create a sample list of numbers\n",
        "    my_numbers = [10, 25, 30, 45, 60, 75, 90]\n",
        "\n",
        "    # Specify the output filename\n",
        "    output_file = \"numbers.txt\"\n",
        "\n",
        "    # Call the function to write the numbers to the file\n",
        "    write_numbers_to_file(output_file, my_numbers)\n",
        "\n",
        "    # Optional: Verify the content by reading the file\n",
        "    print(\"\\nContent of the file:\")\n",
        "    try:\n",
        "        with open(output_file, 'r') as file:\n",
        "            print(file.read())\n",
        "    except IOError as e:\n",
        "        print(f\"Error reading file '{output_file}': {e}\")"
      ],
      "metadata": {
        "colab": {
          "base_uri": "https://localhost:8080/"
        },
        "id": "y3cWN0xnaE1v",
        "outputId": "38e9b4c8-a7b8-4d6b-e6fd-70fc56a212b0"
      },
      "execution_count": 44,
      "outputs": [
        {
          "output_type": "stream",
          "name": "stdout",
          "text": [
            "Numbers successfully written to 'numbers.txt'.\n",
            "\n",
            "Content of the file:\n",
            "10\n",
            "25\n",
            "30\n",
            "45\n",
            "60\n",
            "75\n",
            "90\n",
            "\n"
          ]
        }
      ]
    },
    {
      "cell_type": "markdown",
      "source": [
        "**Q18. How would you implement a basic logging setup that logs to a file with rotation after 1MB ?**"
      ],
      "metadata": {
        "id": "S9wEg3cLaNL6"
      }
    },
    {
      "cell_type": "code",
      "source": [
        "import logging\n",
        "from logging.handlers import RotatingFileHandler\n",
        "\n",
        "def setup_rotating_logger(log_file_name='application.log', max_bytes=1048576, backup_count=5):\n",
        "    # Create a logger\n",
        "    logger = logging.getLogger(__name__)\n",
        "    logger.setLevel(logging.INFO)  # Set the logging level (e.g., INFO, DEBUG, WARNING, ERROR, CRITICAL)\n",
        "\n",
        "    # Create a RotatingFileHandler\n",
        "    # maxBytes is 1MB (1024 * 1024 bytes)\n",
        "    # backupCount is the number of backup files to keep\n",
        "    handler = RotatingFileHandler(log_file_name, maxBytes=max_bytes, backupCount=backup_count)\n",
        "\n",
        "    # Create a formatter\n",
        "    formatter = logging.Formatter('%(asctime)s - %(levelname)s - %(message)s')\n",
        "\n",
        "    # Add the formatter to the handler\n",
        "    handler.setFormatter(formatter)\n",
        "\n",
        "    # Add the handler to the logger\n",
        "    logger.addHandler(handler)\n",
        "\n",
        "    return logger"
      ],
      "metadata": {
        "id": "iIdZ6Hk2aR5p"
      },
      "execution_count": 46,
      "outputs": []
    },
    {
      "cell_type": "code",
      "source": [
        "# Example usage:\n",
        "if __name__ == \"__main__\":\n",
        "    my_logger = setup_rotating_logger()\n",
        "\n",
        "    # Log some messages\n",
        "    my_logger.info(\"This is an informational message.\")\n",
        "    my_logger.warning(\"This is a warning message.\")\n",
        "    my_logger.error(\"This is an error message.\")\n",
        "\n",
        "    # Simulate writing enough data to trigger rotation (for testing)\n",
        "    for i in range(10000): # Adjust this range based on the size of your log messages\n",
        "        my_logger.debug(f\"This is a debug message, iteration {i}.\")"
      ],
      "metadata": {
        "colab": {
          "base_uri": "https://localhost:8080/"
        },
        "id": "P4qsPlnIadfQ",
        "outputId": "19c1318d-b8ac-43b1-8300-a43fc1257174"
      },
      "execution_count": 47,
      "outputs": [
        {
          "output_type": "stream",
          "name": "stderr",
          "text": [
            "INFO:__main__:This is an informational message.\n",
            "WARNING:__main__:This is a warning message.\n",
            "ERROR:__main__:This is an error message.\n"
          ]
        }
      ]
    },
    {
      "cell_type": "markdown",
      "source": [
        "**Q19. Write a program that handles both IndexError and KeyError using a try-except block.**"
      ],
      "metadata": {
        "id": "uHIforifafQZ"
      }
    },
    {
      "cell_type": "code",
      "source": [
        "def access_data(data_source, key_or_index):\n",
        "    try:\n",
        "        if isinstance(data_source, list):\n",
        "            # Attempt to access an element by index in a list\n",
        "            result = data_source[key_or_index]\n",
        "            print(f\"Accessed list element: {result}\")\n",
        "        elif isinstance(data_source, dict):\n",
        "            # Attempt to access a value by key in a dictionary\n",
        "            result = data_source[key_or_index]\n",
        "            print(f\"Accessed dictionary value: {result}\")\n",
        "        else:\n",
        "            print(\"Unsupported data source type.\")\n",
        "    except (IndexError, KeyError) as e:\n",
        "        print(f\"An error occurred: {type(e).__name__} - {e}\")\n",
        "\n",
        "# Example Usage:\n",
        "\n",
        "# Handling IndexError\n",
        "my_list = [10, 20, 30]\n",
        "print(\"\\n--- Testing IndexError ---\")\n",
        "access_data(my_list, 1)  # Valid index\n",
        "access_data(my_list, 5)  # Invalid index\n",
        "\n",
        "# Handling KeyError\n",
        "my_dict = {\"name\": \"Alice\", \"age\": 30}\n",
        "print(\"\\n--- Testing KeyError ---\")\n",
        "access_data(my_dict, \"name\")  # Valid key\n",
        "access_data(my_dict, \"city\")  # Invalid key\n",
        "\n",
        "# Handling with an unsupported data type\n",
        "print(\"\\n--- Testing Unsupported Type ---\")\n",
        "access_data(\"hello\", 0)"
      ],
      "metadata": {
        "colab": {
          "base_uri": "https://localhost:8080/"
        },
        "id": "bHY_aAp_ajnR",
        "outputId": "b360c289-8e71-4c9d-ddc5-6a213a1af523"
      },
      "execution_count": 48,
      "outputs": [
        {
          "output_type": "stream",
          "name": "stdout",
          "text": [
            "\n",
            "--- Testing IndexError ---\n",
            "Accessed list element: 20\n",
            "An error occurred: IndexError - list index out of range\n",
            "\n",
            "--- Testing KeyError ---\n",
            "Accessed dictionary value: Alice\n",
            "An error occurred: KeyError - 'city'\n",
            "\n",
            "--- Testing Unsupported Type ---\n",
            "Unsupported data source type.\n"
          ]
        }
      ]
    },
    {
      "cell_type": "markdown",
      "source": [
        "**Q20. How would you open a file and read its contents using a context manager in Python ?**"
      ],
      "metadata": {
        "id": "tf5VksKLauuh"
      }
    },
    {
      "cell_type": "code",
      "source": [
        "file_path = \"example.txt\"  # Replace with your file's path\n",
        "\n",
        "try:\n",
        "    with open(file_path, 'r') as file:\n",
        "        contents = file.read()\n",
        "        print(\"File contents:\")\n",
        "        print(contents)\n",
        "except FileNotFoundError:\n",
        "    print(f\"Error: The file '{file_path}' was not found.\")\n",
        "except Exception as e:\n",
        "    print(f\"An error occurred: {e}\")"
      ],
      "metadata": {
        "colab": {
          "base_uri": "https://localhost:8080/"
        },
        "id": "dDSWaQKIayaK",
        "outputId": "0259d56c-bfa9-4529-b64b-539fdc16b40f"
      },
      "execution_count": 49,
      "outputs": [
        {
          "output_type": "stream",
          "name": "stdout",
          "text": [
            "File contents:\n",
            "This is a test file.\n",
            "It has multiple lines.\n"
          ]
        }
      ]
    },
    {
      "cell_type": "markdown",
      "source": [
        "**Q21. Write a Python program that reads a file and prints the number of occurrences of a specific word.**"
      ],
      "metadata": {
        "id": "hE1I049Sa257"
      }
    },
    {
      "cell_type": "code",
      "source": [
        "def count_word_occurrences(filepath, target_word):\n",
        "    count = 0\n",
        "    try:\n",
        "        with open(filepath, 'r', encoding='utf-8') as file:\n",
        "            for line in file:\n",
        "                # Convert line to lowercase for case-insensitive matching\n",
        "                # and split into words\n",
        "                words = line.lower().split()\n",
        "                # Count occurrences of the target word in the current line\n",
        "                count += words.count(target_word.lower())\n",
        "    except FileNotFoundError:\n",
        "        print(f\"Error: The file '{filepath}' was not found.\")\n",
        "        return -1  # Indicate an error\n",
        "    except Exception as e:\n",
        "        print(f\"An error occurred: {e}\")\n",
        "        return -1\n",
        "\n",
        "    return count\n",
        "\n",
        "# Example usage:\n",
        "file_to_analyze = \"sample.txt\"  # Replace with your file path\n",
        "word_to_find = \"python\"\n",
        "\n",
        "# Create a sample file for demonstration\n",
        "with open(file_to_analyze, 'w', encoding='utf-8') as f:\n",
        "    f.write(\"Python is a great programming language.\\n\")\n",
        "    f.write(\"Learn Python for data science.\\n\")\n",
        "    f.write(\"Python projects are fun.\\n\")\n",
        "\n",
        "occurrences = count_word_occurrences(file_to_analyze, word_to_find)\n",
        "\n",
        "if occurrences != -1:\n",
        "    print(f\"The word '{word_to_find}' appears {occurrences} times in '{file_to_analyze}'.\")\n"
      ],
      "metadata": {
        "colab": {
          "base_uri": "https://localhost:8080/"
        },
        "id": "mD60Z2eba7tw",
        "outputId": "89530237-884f-4c36-b3af-6c2c6fbf8f34"
      },
      "execution_count": 50,
      "outputs": [
        {
          "output_type": "stream",
          "name": "stdout",
          "text": [
            "The word 'python' appears 3 times in 'sample.txt'.\n"
          ]
        }
      ]
    },
    {
      "cell_type": "markdown",
      "source": [
        "**Q22. How can you check if a file is empty before attempting to read its contents ?**"
      ],
      "metadata": {
        "id": "ntZwQOt4bCUf"
      }
    },
    {
      "cell_type": "code",
      "source": [
        "import os\n",
        "\n",
        "file_path = \"your_file.txt\"\n",
        "\n",
        "if os.path.exists(file_path):\n",
        "    if os.path.getsize(file_path) == 0:\n",
        "        print(f\"The file '{file_path}' is empty.\")\n",
        "    else:\n",
        "        print(f\"The file '{file_path}' is not empty.\")\n",
        "        # Proceed to read the file\n",
        "else:\n",
        "    print(f\"The file '{file_path}' does not exist.\")"
      ],
      "metadata": {
        "colab": {
          "base_uri": "https://localhost:8080/"
        },
        "id": "aO1OwYYTbHVE",
        "outputId": "4e2848f9-87f2-497f-d54b-75da84598bf5"
      },
      "execution_count": 51,
      "outputs": [
        {
          "output_type": "stream",
          "name": "stdout",
          "text": [
            "The file 'your_file.txt' does not exist.\n"
          ]
        }
      ]
    },
    {
      "cell_type": "markdown",
      "source": [
        "**Q23. Write a Python program that writes to a log file when an error occurs during file handling.**"
      ],
      "metadata": {
        "id": "wGtEIB6VbNDX"
      }
    },
    {
      "cell_type": "code",
      "source": [
        "import logging\n",
        "import os\n",
        "\n",
        "# Configure the logger\n",
        "log_file = 'file_handling_errors.log'\n",
        "logging.basicConfig(\n",
        "    filename=log_file,\n",
        "    level=logging.ERROR,  # Only log messages with severity ERROR or higher\n",
        "    format='%(asctime)s - %(levelname)s - %(message)s'\n",
        ")\n",
        "\n",
        "def handle_file_operation(filename, mode, content=None):\n",
        "    try:\n",
        "        if mode == 'w':  # Write mode\n",
        "            with open(filename, mode) as f:\n",
        "                if content:\n",
        "                    f.write(content)\n",
        "            logging.info(f\"Successfully wrote to '{filename}'\")\n",
        "        elif mode == 'r':  # Read mode\n",
        "            with open(filename, mode) as f:\n",
        "                data = f.read()\n",
        "            logging.info(f\"Successfully read from '{filename}': {data[:50]}...\")\n",
        "            return data\n",
        "        else:\n",
        "            logging.warning(f\"Unsupported file mode: '{mode}'\")\n",
        "\n",
        "    except FileNotFoundError:\n",
        "        logging.error(f\"File not found: '{filename}'\")\n",
        "    except PermissionError:\n",
        "        logging.error(f\"Permission denied when accessing '{filename}'\")\n",
        "    except IOError as e:\n",
        "        logging.error(f\"An I/O error occurred with '{filename}': {e}\")\n",
        "    except Exception as e:\n",
        "        logging.error(f\"An unexpected error occurred during file handling: {e}\")"
      ],
      "metadata": {
        "id": "VsjkMDT3bTqJ"
      },
      "execution_count": 53,
      "outputs": []
    },
    {
      "cell_type": "code",
      "source": [
        "# Example Usage:\n",
        "\n",
        "# 1. Attempt to write to a file (successful)\n",
        "handle_file_operation('my_document.txt', 'w', 'This is some sample content.')\n",
        "\n",
        "# 2. Attempt to read from a non-existent file (FileNotFoundError)\n",
        "handle_file_operation('non_existent_file.txt', 'r')\n",
        "\n",
        "print(f\"Check the '{log_file}' file for error logs.\")"
      ],
      "metadata": {
        "colab": {
          "base_uri": "https://localhost:8080/"
        },
        "id": "U7oN69bcbc4L",
        "outputId": "8b38da48-4e42-46ab-d8c2-121fa9ce1efe"
      },
      "execution_count": 54,
      "outputs": [
        {
          "output_type": "stream",
          "name": "stderr",
          "text": [
            "ERROR:root:File not found: 'non_existent_file.txt'\n"
          ]
        },
        {
          "output_type": "stream",
          "name": "stdout",
          "text": [
            "Check the 'file_handling_errors.log' file for error logs.\n"
          ]
        }
      ]
    }
  ]
}