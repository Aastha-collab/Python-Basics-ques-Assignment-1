{
  "nbformat": 4,
  "nbformat_minor": 0,
  "metadata": {
    "colab": {
      "provenance": []
    },
    "kernelspec": {
      "name": "python3",
      "display_name": "Python 3"
    },
    "language_info": {
      "name": "python"
    }
  },
  "cells": [
    {
      "cell_type": "markdown",
      "source": [
        "# **Statistics Advanced - 1 Assignment**"
      ],
      "metadata": {
        "id": "8Yf_9rndQxO2"
      }
    },
    {
      "cell_type": "markdown",
      "source": [
        "**Question 1: What is a random variable in probability theory?**"
      ],
      "metadata": {
        "id": "1B64CWSDQzrH"
      }
    },
    {
      "cell_type": "markdown",
      "source": [
        "A random variable is a function that maps the outcomes of a random experiment to numerical values, allowing for the quantification of these outcomes in probability theory."
      ],
      "metadata": {
        "id": "rWeHGCQVQ71x"
      }
    },
    {
      "cell_type": "markdown",
      "source": [
        "**Question 2: What are the types of random variables?**"
      ],
      "metadata": {
        "id": "ueRPaeSZRDXZ"
      }
    },
    {
      "cell_type": "markdown",
      "source": [
        "There are two primary types of random variables: **discrete and continuous**."
      ],
      "metadata": {
        "id": "hAlCvdB7RHA_"
      }
    },
    {
      "cell_type": "markdown",
      "source": [
        "**Question 3: Explain the difference between discrete and continuous distributions.**"
      ],
      "metadata": {
        "id": "wvq4zLgmRb2y"
      }
    },
    {
      "cell_type": "markdown",
      "source": [
        "A discrete random variable has a countable number of possible values, such as the outcome of a dice roll or the number of heads in three coin flips.\n",
        "\n",
        "A continuous random variable, in contrast, can take on any value within a given range, like the height of a person or the time it takes for a bulb to burn out."
      ],
      "metadata": {
        "id": "ZxQbZy5dRhRh"
      }
    },
    {
      "cell_type": "markdown",
      "source": [
        "**Question 4: What is a binomial distribution, and how is it used in probability?**"
      ],
      "metadata": {
        "id": "EMQCqjILR02Z"
      }
    },
    {
      "cell_type": "markdown",
      "source": [
        "A binomial distribution is a discrete probability distribution used to model the number of successes in a fixed number of independent trials, each with two possible outcomes and a constant probability of success. It is used in probability to calculate the likelihood of a specific number of successes occurring in such a sequence of trials."
      ],
      "metadata": {
        "id": "KOC2BWv4R2vR"
      }
    },
    {
      "cell_type": "markdown",
      "source": [
        "**Question 5: What is the standard normal distribution, and why is it important?**"
      ],
      "metadata": {
        "id": "5wp5eEUNSAhe"
      }
    },
    {
      "cell_type": "markdown",
      "source": [
        "The standard normal distribution is a specific normal distribution with a mean of 0 and a standard deviation of 1, often called the z-distribution.\n",
        "\n",
        "It is important because it serves as a universal reference point, allowing the standardization of any normal distribution through z-scores"
      ],
      "metadata": {
        "id": "z7rsWZ-dSEo2"
      }
    },
    {
      "cell_type": "markdown",
      "source": [
        "**Question 6: What is the Central Limit Theorem (CLT), and why is it critical in statistics?**"
      ],
      "metadata": {
        "id": "plO-8jx_SOLI"
      }
    },
    {
      "cell_type": "markdown",
      "source": [
        "The Central Limit Theorem (CLT) states that the distribution of sample means from any sufficiently large sample size will approximate a normal (bell-shaped) distribution, regardless of the original population's distribution.\n",
        "\n",
        "It's critical in statistics because it allows statisticians to apply powerful normal distribution-based methods, such as hypothesis testing and confidence intervals, to make reliable inferences about a population using sample data, even when the population's original data is not normally distributed"
      ],
      "metadata": {
        "id": "frh8JzcuSSiA"
      }
    },
    {
      "cell_type": "markdown",
      "source": [
        "**Question 7: What is the significance of confidence intervals in statistical analysis?**"
      ],
      "metadata": {
        "id": "i4CL8FQdSgi6"
      }
    },
    {
      "cell_type": "markdown",
      "source": [
        "Confidence intervals are significant in statistical analysis because they provide a range of plausible values for an unknown population parameter, rather than just a single point estimate. They quantify the uncertainty in an estimate, indicating how reliable a sample statistic is in representing the population"
      ],
      "metadata": {
        "id": "5cCWd2TkSkro"
      }
    },
    {
      "cell_type": "markdown",
      "source": [
        "**Question 8: What is the concept of expected value in a probability distribution?**"
      ],
      "metadata": {
        "id": "R0Kty_dyS2FW"
      }
    },
    {
      "cell_type": "markdown",
      "source": [
        "The expected value, also known as the mean or average, of a random variable in a probability distribution represents the long-term average outcome if an experiment or process were to be repeated many times. It is a measure of the central tendency of the distribution."
      ],
      "metadata": {
        "id": "1UiUPW0eS6Nu"
      }
    },
    {
      "cell_type": "markdown",
      "source": [
        "**Question 9: Write a Python program to generate 1000 random numbers from a normal distribution with mean = 50 and standard deviation = 5. Compute its mean and standard deviation using NumPy, and draw a histogram to visualize the distribution.**"
      ],
      "metadata": {
        "id": "soPbPpOGTCk6"
      }
    },
    {
      "cell_type": "code",
      "source": [
        "import numpy as np\n",
        "import matplotlib.pyplot as plt\n",
        "\n",
        "# Parameters for the normal distribution\n",
        "mean = 50\n",
        "std_dev = 5\n",
        "num_samples = 1000\n",
        "\n",
        "# Generate random numbers from a normal distribution\n",
        "random_numbers = np.random.normal(loc=mean, scale=std_dev, size=num_samples)"
      ],
      "metadata": {
        "id": "gFnb_9iPTS7z"
      },
      "execution_count": 1,
      "outputs": []
    },
    {
      "cell_type": "code",
      "source": [
        "# Compute the mean and standard deviation of the generated numbers using NumPy\n",
        "computed_mean = np.mean(random_numbers)\n",
        "computed_std_dev = np.std(random_numbers)\n",
        "\n",
        "print(f\"Generated data mean: {computed_mean:.2f}\")\n",
        "print(f\"Generated data standard deviation: {computed_std_dev:.2f}\")"
      ],
      "metadata": {
        "colab": {
          "base_uri": "https://localhost:8080/"
        },
        "id": "IGJ6BcgoTg3m",
        "outputId": "7edaf3a3-013b-439f-e66c-eb561791b565"
      },
      "execution_count": 3,
      "outputs": [
        {
          "output_type": "stream",
          "name": "stdout",
          "text": [
            "Generated data mean: 49.95\n",
            "Generated data standard deviation: 4.81\n"
          ]
        }
      ]
    },
    {
      "cell_type": "code",
      "source": [
        "# Draw a histogram to visualize the distribution\n",
        "plt.hist(random_numbers, bins=30, density=True, alpha=0.6, color='g')\n",
        "plt.title('Histogram of Normally Distributed Random Numbers')\n",
        "plt.xlabel('Value')\n",
        "plt.ylabel('Density')\n",
        "plt.grid(True)\n",
        "plt.show()"
      ],
      "metadata": {
        "colab": {
          "base_uri": "https://localhost:8080/",
          "height": 472
        },
        "id": "aExy-bQZT1HP",
        "outputId": "09ece77f-b64c-416c-d171-1dded61f826b"
      },
      "execution_count": 4,
      "outputs": [
        {
          "output_type": "display_data",
          "data": {
            "text/plain": [
              "<Figure size 640x480 with 1 Axes>"
            ],
            "image/png": "[encoded data removed]"
          },
          "metadata": {}
        }
      ]
    },
    {
      "cell_type": "markdown",
      "source": [
        "Question 10: You are working as a data analyst for a retail company. The company has collected daily sales data for 2 years and wants you to identify the overall sales trend.\n",
        "\n",
        "daily_sales = [220, 245, 210, 265, 230, 250, 260, 275, 240, 255,\n",
        " 235, 260, 245, 250, 225, 270, 265, 255, 250, 260]\n",
        "\n",
        "● Explain how you would apply the Central Limit Theorem to estimate the average sales with a 95% confidence interval.\n",
        "\n",
        "● Write the Python code to compute the mean sales and its confidence interval."
      ],
      "metadata": {
        "id": "FFeulDVVT5hc"
      }
    },
    {
      "cell_type": "markdown",
      "source": [
        "Calculate Sample Statistics: The first step is to calculate the sample mean (x) and the sample standard deviation (s) from the provided daily_sales data. The sample mean will serve as the best estimate for the true average sales of the company.\n",
        "\n",
        "Estimate Standard Error: The CLT allows us to estimate the standard deviation of the sampling distribution of the mean, also known as the standard error of the mean (SEM), using the formula \\(SEM=s/\\sqrt{n}\\), where \\(n\\) is the sample size. This value quantifies the variability of our sample mean.\n",
        "\n",
        "Construct Confidence Interval: To create a 95% confidence interval, we will use the t-distribution because the sample size (\\(n=20\\)) is small. The interval is calculated as:\\(\\={x}\\pm t_{\\alpha /2,n-1}\\times SEM\\)\n",
        "\n",
        "For a 95% confidence interval, \\(\\alpha \\) is 0.05. We use the t-score (\\(t_{\\alpha /2,n-1}\\)) for a two-tailed test with 19 degrees of freedom to determine the margin of error. This interval will provide a range of values within which we are 95% confident that the true average sales of the company lie."
      ],
      "metadata": {
        "id": "PgP8OETooo63"
      }
    },
    {
      "cell_type": "code",
      "source": [
        "import numpy as np\n",
        "from scipy import stats\n",
        "\n",
        "daily_sales = np.array([220, 245, 210, 265, 230, 250, 260, 275, 240, 255, 235, 260, 245, 250, 225, 270, 265, 255, 250, 260])\n",
        "\n",
        "# Calculate the mean\n",
        "mean_sales = np.mean(daily_sales)\n",
        "\n",
        "# Calculate the standard error of the mean (SEM)\n",
        "sem = stats.sem(daily_sales)\n",
        "\n",
        "# Set confidence level\n",
        "confidence_level = 0.95\n",
        "\n",
        "# Calculate the confidence interval\n",
        "confidence_interval = stats.t.interval(confidence_level, len(daily_sales)-1, loc=mean_sales, scale=sem)\n",
        "\n",
        "print(f\"The sample mean sales is: {mean_sales:.2f}\")\n",
        "print(f\"The 95% confidence interval for the average sales is: ({confidence_interval[0]:.2f}, {confidence_interval[1]:.2f})\")\n"
      ],
      "metadata": {
        "colab": {
          "base_uri": "https://localhost:8080/"
        },
        "id": "_jKe0zsHnznD",
        "outputId": "ed1a4e37-0eec-49f2-c9c3-61405440057c"
      },
      "execution_count": 5,
      "outputs": [
        {
          "output_type": "stream",
          "name": "stdout",
          "text": [
            "The sample mean sales is: 248.25\n",
            "The 95% confidence interval for the average sales is: (240.17, 256.33)\n"
          ]
        }
      ]
    }
  ]
}