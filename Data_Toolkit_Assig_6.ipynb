{
  "nbformat": 4,
  "nbformat_minor": 0,
  "metadata": {
    "colab": {
      "provenance": []
    },
    "kernelspec": {
      "name": "python3",
      "display_name": "Python 3"
    },
    "language_info": {
      "name": "python"
    }
  },
  "cells": [
    {
      "cell_type": "markdown",
      "source": [
        "# **Data Toolkit Assig-6**"
      ],
      "metadata": {
        "id": "PORXl1j07TCy"
      }
    },
    {
      "cell_type": "markdown",
      "source": [
        "**Q1.  What is NumPy, and why is it widely used in Python ?**"
      ],
      "metadata": {
        "id": "OJdCKDr87bQ3"
      }
    },
    {
      "cell_type": "markdown",
      "source": [
        "NumPy (Numerical Python) is a powerful, open-source Python library for numerical and scientific computing.\n",
        "\n",
        "NumPy is widely used in Python for several key reasons:\n",
        "- Performance\n",
        "- Multi-dimensional Arrays\n",
        "- Rich Functionality\n",
        "- Ease of Use"
      ],
      "metadata": {
        "id": "e2jIJfYn7fxu"
      }
    },
    {
      "cell_type": "markdown",
      "source": [
        "**Q2. How does broadcasting work in NumPy ?**"
      ],
      "metadata": {
        "id": "cikGprD28GD8"
      }
    },
    {
      "cell_type": "markdown",
      "source": [
        "NumPy broadcasting is a mechanism that allows NumPy to perform arithmetic operations on arrays of different shapes and sizes. It enables the element-wise operation of arrays without making unnecessary copies of data, thereby enhancing performance and memory efficiency."
      ],
      "metadata": {
        "id": "Ye2R1hxD8K3j"
      }
    },
    {
      "cell_type": "markdown",
      "source": [
        "**Q3. What is a Pandas DataFrame ?**"
      ],
      "metadata": {
        "id": "Fzv7jFwH8oqg"
      }
    },
    {
      "cell_type": "markdown",
      "source": [
        "A Pandas DataFrame is a two-dimensional, size-mutable, and potentially heterogeneous tabular data structure with labeled axes (rows and columns). It is a core data structure in the Pandas library for Python, widely used for data analysis and manipulation."
      ],
      "metadata": {
        "id": "o5frViFe80R3"
      }
    },
    {
      "cell_type": "markdown",
      "source": [
        "**Q4. Explain the use of the groupby() method in Pandas ?**"
      ],
      "metadata": {
        "id": "PhIBQI1h9BHI"
      }
    },
    {
      "cell_type": "markdown",
      "source": [
        "The groupby() method in Pandas is a fundamental tool for data analysis, enabling the \"split-apply-combine\" strategy. This method allows to group a DataFrame based on one or more column values, apply a function to each group, and then combine the results."
      ],
      "metadata": {
        "id": "JdGhOVL49F4r"
      }
    },
    {
      "cell_type": "markdown",
      "source": [
        "**Q5. Why is Seaborn preferred for statistical visualizations ?**"
      ],
      "metadata": {
        "id": "HEo9t1t99RYj"
      }
    },
    {
      "cell_type": "markdown",
      "source": [
        "Seaborn is often preferred for statistical visualizations in Python due to its high-level interface and focus on statistical graphics."
      ],
      "metadata": {
        "id": "ki7TTEph9Wux"
      }
    },
    {
      "cell_type": "markdown",
      "source": [
        "**Q6. What are the differences between NumPy arrays and Python lists ?**"
      ],
      "metadata": {
        "id": "VnmvxvTy9fmW"
      }
    },
    {
      "cell_type": "markdown",
      "source": [
        "We should choose NumPy arrays for numerical computations involving large, homogeneous datasets where performance and memory efficiency are critical.\n",
        "\n",
        "Use Python lists for general-purpose data storage where flexibility, dynamic sizing, and heterogeneous data types are required."
      ],
      "metadata": {
        "id": "k65XTDGu9lIu"
      }
    },
    {
      "cell_type": "markdown",
      "source": [
        "**Q7. What is a heatmap, and when should it be used ?**"
      ],
      "metadata": {
        "id": "7XfP55JW900Z"
      }
    },
    {
      "cell_type": "markdown",
      "source": [
        "A heatmap is a visual representation of data where values are depicted using colors, typically with warmer colors (like red or orange) indicating higher values and cooler colors (like blue or green) indicating lower values.\n",
        "\n",
        "They are used to identify patterns, trends, and outliers in datasets, especially where there are two or more dimensions of data.\n",
        "\n",
        "Use a heatmap:\n",
        "- Website and App Analysis\n",
        "- Performance Monitoring\n",
        "- Marketing and Advertising"
      ],
      "metadata": {
        "id": "1sZxMjHf-CYN"
      }
    },
    {
      "cell_type": "markdown",
      "source": [
        "**Q8. What does the term “vectorized operation” mean in NumPy ?**"
      ],
      "metadata": {
        "id": "l6PEFz9L-ZxQ"
      }
    },
    {
      "cell_type": "markdown",
      "source": [
        "In NumPy, a \"vectorized operation\" refers to performing operations on entire arrays (or parts of arrays) at once, rather than iterating through individual elements using explicit Python loops. This approach leverages highly optimized, pre-compiled C code that lies beneath NumPy's functions and methods, leading to significantly faster execution times, especially when dealing with large datasets."
      ],
      "metadata": {
        "id": "-bFK5Jos-f0a"
      }
    },
    {
      "cell_type": "markdown",
      "source": [
        "**Q9. How does Matplotlib differ from Plotly ?**"
      ],
      "metadata": {
        "id": "J1Lo0-fp-skc"
      }
    },
    {
      "cell_type": "markdown",
      "source": [
        "Tthe choice between Matplotlib and Plotly often depends on the project's specific needs: Matplotlib for highly customized static plots and scientific visualization, and Plotly for interactive web-based applications and exploratory data analysis."
      ],
      "metadata": {
        "id": "QcbU3e1M-xbU"
      }
    },
    {
      "cell_type": "markdown",
      "source": [
        "**Q10. What is the significance of hierarchical indexing in Pandas ?**"
      ],
      "metadata": {
        "id": "GGlIpFKy--sX"
      }
    },
    {
      "cell_type": "markdown",
      "source": [
        "Hierarchical indexing in pandas provides a robust framework for working with multi-dimensional data, enabling more sophisticated data organization, analysis, and manipulation within the familiar Series and DataFrame structures."
      ],
      "metadata": {
        "id": "XsDxVcQi_D9e"
      }
    },
    {
      "cell_type": "markdown",
      "source": [
        "**Q11. What is the role of Seaborn’s pairplot() function ?**"
      ],
      "metadata": {
        "id": "jWTMjMhn_TMu"
      }
    },
    {
      "cell_type": "markdown",
      "source": [
        "Seaborn's pairplot() function serves as a powerful tool for visualizing pairwise relationships and distributions within a dataset, particularly during exploratory data analysis (EDA). Its primary role is to generate a grid of plots."
      ],
      "metadata": {
        "id": "50DY9Mo6_aBc"
      }
    },
    {
      "cell_type": "markdown",
      "source": [
        "**Q12. What is the purpose of the describe() function in Pandas ?**"
      ],
      "metadata": {
        "id": "BkN5vSjK_tQp"
      }
    },
    {
      "cell_type": "markdown",
      "source": [
        "The describe() function in Pandas is used to generate descriptive statistics of a DataFrame or Series. Its primary purpose is to provide a quick summary of the central tendency, dispersion, and shape of the distribution of a dataset."
      ],
      "metadata": {
        "id": "oj9jjI0b_xuA"
      }
    },
    {
      "cell_type": "markdown",
      "source": [
        "**Q13. Why is handling missing data important in Pandas ?**"
      ],
      "metadata": {
        "id": "rps375cb_4cA"
      }
    },
    {
      "cell_type": "markdown",
      "source": [
        "Addressing missing data in Pandas is a fundamental step in data cleaning and preprocessing, ensuring the quality, accuracy, and usability of your dataset for subsequent analysis and modeling."
      ],
      "metadata": {
        "id": "aDbbgEwm_94q"
      }
    },
    {
      "cell_type": "markdown",
      "source": [
        "**Q14. What are the benefits of using Plotly for data visualization ?**"
      ],
      "metadata": {
        "id": "2UvfQDw5AKB2"
      }
    },
    {
      "cell_type": "markdown",
      "source": [
        "Plotly offers a wide range of chart types, from simple line charts to complex 3D plots, enabling diverse and comprehensive data visualizations. Its ability to handle large datasets efficiently ensures smooth performance even with extensive data, making it suitable for data-intensive applications."
      ],
      "metadata": {
        "id": "cg8ndRhqAO23"
      }
    },
    {
      "cell_type": "markdown",
      "source": [
        "**Q15. How does NumPy handle multidimensional arrays ?**"
      ],
      "metadata": {
        "id": "qdSv_KLWAh39"
      }
    },
    {
      "cell_type": "markdown",
      "source": [
        "NumPy's core object for handling multidimensional arrays is the ndarray. This object allows for efficient storage and manipulation of homogeneous data (all elements are of the same data type) in an n-dimensional grid."
      ],
      "metadata": {
        "id": "2bv6pHTAAnjA"
      }
    },
    {
      "cell_type": "markdown",
      "source": [
        "**Q16. What is the role of Bokeh in data visualization ?**"
      ],
      "metadata": {
        "id": "mAGi2sLkAusk"
      }
    },
    {
      "cell_type": "markdown",
      "source": [
        "Bokeh is a Python library specifically designed for creating interactive and web-ready data visualizations. Its primary role in data visualization is to enable the creation of dynamic, engaging, and highly customizable plots and dashboards that can be easily deployed in web browsers."
      ],
      "metadata": {
        "id": "Y5nkhZC5Az1H"
      }
    },
    {
      "cell_type": "markdown",
      "source": [
        "**Q17. Explain the difference between apply() and map() in Pandas.**"
      ],
      "metadata": {
        "id": "wMUCj9-bA5ob"
      }
    },
    {
      "cell_type": "markdown",
      "source": [
        "1. map():\n",
        "- Scope: Exclusively used on Series objects (e.g., a single column of a DataFrame).\n",
        "- Purpose: Primarily for element-wise transformations or substitutions. It's highly efficient when you need to substitute values in a Series based on a dictionary, another Series, or a simple function.\n",
        "- Input: Can accept a dictionary, a Series, or a callable (function).\n",
        "\n",
        "2. apply():\n",
        "- Scope: Can be used on both Series and DataFrame objects.\n",
        "- Purpose: More versatile than map(). It's used to apply a function along an axis (rows or columns) of a DataFrame or to each element of a Series. It's suitable for more complex operations, including aggregations or functions that require access to multiple elements or rows/columns.\n",
        "- Input: Accepts a callable (function)."
      ],
      "metadata": {
        "id": "5mzS8a1yBIIc"
      }
    },
    {
      "cell_type": "markdown",
      "source": [
        "**Q18. What are some advanced features of NumPy ?**"
      ],
      "metadata": {
        "id": "2sLTuTrtBdei"
      }
    },
    {
      "cell_type": "markdown",
      "source": [
        "NumPy provides powerful features for efficient numerical computations and array manipulation in Python. Here are some of its advanced capabilities:\n",
        "1. Broadcasting\n",
        "2. Universal functions (ufuncs)\n",
        "3. Advanced indexing\n",
        "4. Structured arrays\n",
        "5. Memory management and optimization\n",
        "6. Linear algebra capabilities"
      ],
      "metadata": {
        "id": "c7Sn-v5ZBiMF"
      }
    },
    {
      "cell_type": "markdown",
      "source": [
        "**Q19. How does Pandas simplify time series analysis ?**"
      ],
      "metadata": {
        "id": "spm0j0FhB6M8"
      }
    },
    {
      "cell_type": "markdown",
      "source": [
        "Many data analysts choose Pandas for time series analysis because it provides easy ways of manipulating the data. For example, the DatetimeIndex makes performing most operations in Pandas very simple, as it allows you to index, slice, and resample data based on the date and time"
      ],
      "metadata": {
        "id": "vFzom53mB_Fw"
      }
    },
    {
      "cell_type": "markdown",
      "source": [
        "**Q20. What is the role of a pivot table in Pandas ?**"
      ],
      "metadata": {
        "id": "eLLid1TbCbIM"
      }
    },
    {
      "cell_type": "markdown",
      "source": [
        "The pivot function in Pandas is a method used to reshape data by transforming rows into columns. The Pandas pivot function comes into play when there's a need to rearrange data from a “long” format to a “wide” format."
      ],
      "metadata": {
        "id": "zJ9whhvfCiUI"
      }
    },
    {
      "cell_type": "markdown",
      "source": [
        "**Q21. Why is NumPy’s array slicing faster than Python’s list slicing ?**"
      ],
      "metadata": {
        "id": "hqioCweXCyF3"
      }
    },
    {
      "cell_type": "markdown",
      "source": [
        "NumPy arrays are stored at one continuous place in memory unlike lists, so processes can access and manipulate them very efficiently. This behavior is called locality of reference in computer science. This is the main reason why NumPy is faster than lists."
      ],
      "metadata": {
        "id": "sPMpCdFWC7X8"
      }
    },
    {
      "cell_type": "markdown",
      "source": [
        "**Q22. What are some common use cases for Seaborn ?**"
      ],
      "metadata": {
        "id": "9aE3gDsQDE3A"
      }
    },
    {
      "cell_type": "markdown",
      "source": [
        "Seaborn is a Python data visualization library built on Matplotlib, commonly used for creating informative and aesthetically pleasing statistical graphics.\n",
        "\n",
        "Its common use cases include:\n",
        "\n",
        "- Exploring Data Distributions\n",
        "- Analyzing Relationships Between Variables\n",
        "- Regression Analysis\n",
        "- Statistical Data Exploration\n",
        "- Creating Publication-Quality Graphics"
      ],
      "metadata": {
        "id": "n70rHMuCDPWb"
      }
    },
    {
      "cell_type": "markdown",
      "source": [
        "# **Practical**"
      ],
      "metadata": {
        "id": "hdXEhG7nDz2L"
      }
    },
    {
      "cell_type": "markdown",
      "source": [
        "**Q1. How do you create a 2D NumPy array and calculate the sum of each row ?**"
      ],
      "metadata": {
        "id": "ia_JjnCwD4o1"
      }
    },
    {
      "cell_type": "code",
      "source": [
        "import numpy as np\n",
        "\n",
        "# Create a 2D NumPy array\n",
        "my_array = np.array([[10, 20, 30],\n",
        "                     [40, 50, 60],\n",
        "                     [70, 80, 90]])\n",
        "\n",
        "print(\"Original 2D Array:\")\n",
        "print(my_array)\n",
        "\n",
        "# Calculate the sum of each row\n",
        "row_sums = np.sum(my_array, axis=1)\n",
        "\n",
        "print(\"\\nSum of each row:\")\n",
        "print(row_sums)"
      ],
      "metadata": {
        "colab": {
          "base_uri": "https://localhost:8080/"
        },
        "id": "Cmoyo3YNEAx4",
        "outputId": "4f9eee40-456c-47f0-ba7e-cb76b6969fd3"
      },
      "execution_count": 1,
      "outputs": [
        {
          "output_type": "stream",
          "name": "stdout",
          "text": [
            "Original 2D Array:\n",
            "[[10 20 30]\n",
            " [40 50 60]\n",
            " [70 80 90]]\n",
            "\n",
            "Sum of each row:\n",
            "[ 60 150 240]\n"
          ]
        }
      ]
    },
    {
      "cell_type": "markdown",
      "source": [
        "**Q2. Write a Pandas script to find the mean of a specific column in a DataFrame.**"
      ],
      "metadata": {
        "id": "s84-6iVJEN0t"
      }
    },
    {
      "cell_type": "code",
      "source": [
        "import pandas as pd\n",
        "\n",
        "# Create a sample DataFrame\n",
        "data = {'Column_A': [10, 20, 30, 40, 50],\n",
        "        'Column_B': [5, 15, 25, 35, 45],\n",
        "        'Column_C': [1, 2, 3, 4, 5]}\n",
        "df = pd.DataFrame(data)\n",
        "\n",
        "# Calculate the mean of 'Column_A'\n",
        "mean_of_column_A = df['Column_A'].mean()\n",
        "\n",
        "# Print the result\n",
        "print(f\"The mean of 'Column_A' is: {mean_of_column_A}\")"
      ],
      "metadata": {
        "colab": {
          "base_uri": "https://localhost:8080/"
        },
        "id": "XDIF45-ZEUq_",
        "outputId": "9a38697d-2781-4e78-9fb4-437912b90388"
      },
      "execution_count": 2,
      "outputs": [
        {
          "output_type": "stream",
          "name": "stdout",
          "text": [
            "The mean of 'Column_A' is: 30.0\n"
          ]
        }
      ]
    },
    {
      "cell_type": "markdown",
      "source": [
        "**Q3. Create a scatter plot using Matplotlib.**"
      ],
      "metadata": {
        "id": "ZMsL9_tGEeEY"
      }
    },
    {
      "cell_type": "code",
      "source": [
        "import matplotlib.pyplot as plt\n",
        "import numpy as np\n",
        "\n",
        "# Generate some sample data\n",
        "x_data = np.random.rand(50) * 10\n",
        "y_data = np.random.rand(50) * 10\n",
        "\n",
        "# Create the scatter plot\n",
        "plt.scatter(x_data, y_data)\n",
        "\n",
        "# Add labels and a title\n",
        "plt.xlabel(\"X-axis Label\")\n",
        "plt.ylabel(\"Y-axis Label\")\n",
        "plt.title(\"Simple Scatter Plot\")\n",
        "\n",
        "# Display the plot\n",
        "plt.show()"
      ],
      "metadata": {
        "colab": {
          "base_uri": "https://localhost:8080/",
          "height": 472
        },
        "id": "VeQZkb5LEiX_",
        "outputId": "56150961-03c3-4412-e3a5-99b997c04653"
      },
      "execution_count": 3,
      "outputs": [
        {
          "output_type": "display_data",
          "data": {
            "text/plain": [
              "<Figure size 640x480 with 1 Axes>"
            ],
            "image/png": "[encoded data removed]"
          },
          "metadata": {}
        }
      ]
    },
    {
      "cell_type": "markdown",
      "source": [
        "**Q4. How do you calculate the correlation matrix using Seaborn and visualize it with a heatmap ?**"
      ],
      "metadata": {
        "id": "2KH283BqEst3"
      }
    },
    {
      "cell_type": "code",
      "source": [
        "import pandas as pd\n",
        "import seaborn as sns\n",
        "import matplotlib.pyplot as plt\n",
        "\n",
        "# Example: Creating a sample DataFrame\n",
        "data = {'A': [1, 2, 3, 4, 5],\n",
        "        'B': [5, 4, 3, 2, 1],\n",
        "        'C': [1, 3, 5, 7, 9],\n",
        "        'D': [2, 2, 3, 4, 5]}\n",
        "df = pd.DataFrame(data)\n",
        "\n",
        "correlation_matrix = df.corr()\n",
        "\n",
        "plt.figure(figsize=(8, 6)) # Adjust figure size as needed\n",
        "sns.heatmap(correlation_matrix, annot=True, cmap='coolwarm', fmt=\".2f\", linewidths=.5)\n",
        "plt.title('Correlation Matrix Heatmap')\n",
        "plt.show()"
      ],
      "metadata": {
        "colab": {
          "base_uri": "https://localhost:8080/",
          "height": 545
        },
        "id": "HeOJ6YlPExPJ",
        "outputId": "a9d7773f-7a9a-4be4-aa94-6dcfe71ebd4f"
      },
      "execution_count": 15,
      "outputs": [
        {
          "output_type": "display_data",
          "data": {
            "text/plain": [
              "<Figure size 800x600 with 2 Axes>"
            ],
            "image/png": "[encoded data removed]"
          },
          "metadata": {}
        }
      ]
    },
    {
      "cell_type": "markdown",
      "source": [
        "**Q5.  Generate a bar plot using Plotly.**"
      ],
      "metadata": {
        "id": "ApDXYyHBF2rW"
      }
    },
    {
      "cell_type": "code",
      "source": [
        "import plotly.graph_objects as go\n",
        "\n",
        "# Sample data\n",
        "categories = ['A', 'B', 'C', 'D']\n",
        "values = [20, 35, 15, 40]\n",
        "\n",
        "# Create a bar trace\n",
        "bar_trace = go.Bar(x=categories, y=values)\n",
        "\n",
        "# Create a figure and add the trace\n",
        "fig = go.Figure(data=[bar_trace])\n",
        "\n",
        "# Update layout for title\n",
        "fig.update_layout(title_text='Sample Bar Plot (Graph Objects)')\n",
        "\n",
        "# Show the plot\n",
        "fig.show()"
      ],
      "metadata": {
        "colab": {
          "base_uri": "https://localhost:8080/",
          "height": 542
        },
        "id": "4ugq1pptF62S",
        "outputId": "b824dab2-cb3c-4f84-82a8-f8e721aaec3c"
      },
      "execution_count": 16,
      "outputs": [
        {
          "output_type": "display_data",
          "data": {
            "text/html": [
              "<html>\n",
              "<head><meta charset=\"utf-8\" /></head>\n",
              "<body>\n",
              "    <div>            <script src=\"https://cdnjs.cloudflare.com/ajax/libs/mathjax/2.7.5/MathJax.js?config=TeX-AMS-MML_SVG\"></script><script type=\"text/javascript\">if (window.MathJax && window.MathJax.Hub && window.MathJax.Hub.Config) {window.MathJax.Hub.Config({SVG: {font: \"STIX-Web\"}});}</script>                <script type=\"text/javascript\">window.PlotlyConfig = {MathJaxConfig: 'local'};</script>\n",
              "        <script charset=\"utf-8\" src=\"https://cdn.plot.ly/plotly-2.35.2.min.js\"></script>                <div id=\"944663f7-ad5c-428c-970b-503179295a43\" class=\"plotly-graph-div\" style=\"height:525px; width:100%;\"></div>            <script type=\"text/javascript\">                                    window.PLOTLYENV=window.PLOTLYENV || {};                                    if (document.getElementById(\"944663f7-ad5c-428c-970b-503179295a43\")) {                    Plotly.newPlot(                        \"944663f7-ad5c-428c-970b-503179295a43\",                        [{\"x\":[\"A\",\"B\",\"C\",\"D\"],\"y\":[20,35,15,40],\"type\":\"bar\"}],                        {\"template\":{\"data\":{\"histogram2dcontour\":[{\"type\":\"histogram2dcontour\",\"colorbar\":{\"outlinewidth\":0,\"ticks\":\"\"},\"colorscale\":[[0.0,\"#0d0887\"],[0.1111111111111111,\"#46039f\"],[0.2222222222222222,\"#7201a8\"],[0.3333333333333333,\"#9c179e\"],[0.4444444444444444,\"#bd3786\"],[0.5555555555555556,\"#d8576b\"],[0.6666666666666666,\"#ed7953\"],[0.7777777777777778,\"#fb9f3a\"],[0.8888888888888888,\"#fdca26\"],[1.0,\"#f0f921\"]]}],\"choropleth\":[{\"type\":\"choropleth\",\"colorbar\":{\"outlinewidth\":0,\"ticks\":\"\"}}],\"histogram2d\":[{\"type\":\"histogram2d\",\"colorbar\":{\"outlinewidth\":0,\"ticks\":\"\"},\"colorscale\":[[0.0,\"#0d0887\"],[0.1111111111111111,\"#46039f\"],[0.2222222222222222,\"#7201a8\"],[0.3333333333333333,\"#9c179e\"],[0.4444444444444444,\"#bd3786\"],[0.5555555555555556,\"#d8576b\"],[0.6666666666666666,\"#ed7953\"],[0.7777777777777778,\"#fb9f3a\"],[0.8888888888888888,\"#fdca26\"],[1.0,\"#f0f921\"]]}],\"heatmap\":[{\"type\":\"heatmap\",\"colorbar\":{\"outlinewidth\":0,\"ticks\":\"\"},\"colorscale\":[[0.0,\"#0d0887\"],[0.1111111111111111,\"#46039f\"],[0.2222222222222222,\"#7201a8\"],[0.3333333333333333,\"#9c179e\"],[0.4444444444444444,\"#bd3786\"],[0.5555555555555556,\"#d8576b\"],[0.6666666666666666,\"#ed7953\"],[0.7777777777777778,\"#fb9f3a\"],[0.8888888888888888,\"#fdca26\"],[1.0,\"#f0f921\"]]}],\"heatmapgl\":[{\"type\":\"heatmapgl\",\"colorbar\":{\"outlinewidth\":0,\"ticks\":\"\"},\"colorscale\":[[0.0,\"#0d0887\"],[0.1111111111111111,\"#46039f\"],[0.2222222222222222,\"#7201a8\"],[0.3333333333333333,\"#9c179e\"],[0.4444444444444444,\"#bd3786\"],[0.5555555555555556,\"#d8576b\"],[0.6666666666666666,\"#ed7953\"],[0.7777777777777778,\"#fb9f3a\"],[0.8888888888888888,\"#fdca26\"],[1.0,\"#f0f921\"]]}],\"contourcarpet\":[{\"type\":\"contourcarpet\",\"colorbar\":{\"outlinewidth\":0,\"ticks\":\"\"}}],\"contour\":[{\"type\":\"contour\",\"colorbar\":{\"outlinewidth\":0,\"ticks\":\"\"},\"colorscale\":[[0.0,\"#0d0887\"],[0.1111111111111111,\"#46039f\"],[0.2222222222222222,\"#7201a8\"],[0.3333333333333333,\"#9c179e\"],[0.4444444444444444,\"#bd3786\"],[0.5555555555555556,\"#d8576b\"],[0.6666666666666666,\"#ed7953\"],[0.7777777777777778,\"#fb9f3a\"],[0.8888888888888888,\"#fdca26\"],[1.0,\"#f0f921\"]]}],\"surface\":[{\"type\":\"surface\",\"colorbar\":{\"outlinewidth\":0,\"ticks\":\"\"},\"colorscale\":[[0.0,\"#0d0887\"],[0.1111111111111111,\"#46039f\"],[0.2222222222222222,\"#7201a8\"],[0.3333333333333333,\"#9c179e\"],[0.4444444444444444,\"#bd3786\"],[0.5555555555555556,\"#d8576b\"],[0.6666666666666666,\"#ed7953\"],[0.7777777777777778,\"#fb9f3a\"],[0.8888888888888888,\"#fdca26\"],[1.0,\"#f0f921\"]]}],\"mesh3d\":[{\"type\":\"mesh3d\",\"colorbar\":{\"outlinewidth\":0,\"ticks\":\"\"}}],\"scatter\":[{\"fillpattern\":{\"fillmode\":\"overlay\",\"size\":10,\"solidity\":0.2},\"type\":\"scatter\"}],\"parcoords\":[{\"type\":\"parcoords\",\"line\":{\"colorbar\":{\"outlinewidth\":0,\"ticks\":\"\"}}}],\"scatterpolargl\":[{\"type\":\"scatterpolargl\",\"marker\":{\"colorbar\":{\"outlinewidth\":0,\"ticks\":\"\"}}}],\"bar\":[{\"error_x\":{\"color\":\"#2a3f5f\"},\"error_y\":{\"color\":\"#2a3f5f\"},\"marker\":{\"line\":{\"color\":\"#E5ECF6\",\"width\":0.5},\"pattern\":{\"fillmode\":\"overlay\",\"size\":10,\"solidity\":0.2}},\"type\":\"bar\"}],\"scattergeo\":[{\"type\":\"scattergeo\",\"marker\":{\"colorbar\":{\"outlinewidth\":0,\"ticks\":\"\"}}}],\"scatterpolar\":[{\"type\":\"scatterpolar\",\"marker\":{\"colorbar\":{\"outlinewidth\":0,\"ticks\":\"\"}}}],\"histogram\":[{\"marker\":{\"pattern\":{\"fillmode\":\"overlay\",\"size\":10,\"solidity\":0.2}},\"type\":\"histogram\"}],\"scattergl\":[{\"type\":\"scattergl\",\"marker\":{\"colorbar\":{\"outlinewidth\":0,\"ticks\":\"\"}}}],\"scatter3d\":[{\"type\":\"scatter3d\",\"line\":{\"colorbar\":{\"outlinewidth\":0,\"ticks\":\"\"}},\"marker\":{\"colorbar\":{\"outlinewidth\":0,\"ticks\":\"\"}}}],\"scattermapbox\":[{\"type\":\"scattermapbox\",\"marker\":{\"colorbar\":{\"outlinewidth\":0,\"ticks\":\"\"}}}],\"scatterternary\":[{\"type\":\"scatterternary\",\"marker\":{\"colorbar\":{\"outlinewidth\":0,\"ticks\":\"\"}}}],\"scattercarpet\":[{\"type\":\"scattercarpet\",\"marker\":{\"colorbar\":{\"outlinewidth\":0,\"ticks\":\"\"}}}],\"carpet\":[{\"aaxis\":{\"endlinecolor\":\"#2a3f5f\",\"gridcolor\":\"white\",\"linecolor\":\"white\",\"minorgridcolor\":\"white\",\"startlinecolor\":\"#2a3f5f\"},\"baxis\":{\"endlinecolor\":\"#2a3f5f\",\"gridcolor\":\"white\",\"linecolor\":\"white\",\"minorgridcolor\":\"white\",\"startlinecolor\":\"#2a3f5f\"},\"type\":\"carpet\"}],\"table\":[{\"cells\":{\"fill\":{\"color\":\"#EBF0F8\"},\"line\":{\"color\":\"white\"}},\"header\":{\"fill\":{\"color\":\"#C8D4E3\"},\"line\":{\"color\":\"white\"}},\"type\":\"table\"}],\"barpolar\":[{\"marker\":{\"line\":{\"color\":\"#E5ECF6\",\"width\":0.5},\"pattern\":{\"fillmode\":\"overlay\",\"size\":10,\"solidity\":0.2}},\"type\":\"barpolar\"}],\"pie\":[{\"automargin\":true,\"type\":\"pie\"}]},\"layout\":{\"autotypenumbers\":\"strict\",\"colorway\":[\"#636efa\",\"#EF553B\",\"#00cc96\",\"#ab63fa\",\"#FFA15A\",\"#19d3f3\",\"#FF6692\",\"#B6E880\",\"#FF97FF\",\"#FECB52\"],\"font\":{\"color\":\"#2a3f5f\"},\"hovermode\":\"closest\",\"hoverlabel\":{\"align\":\"left\"},\"paper_bgcolor\":\"white\",\"plot_bgcolor\":\"#E5ECF6\",\"polar\":{\"bgcolor\":\"#E5ECF6\",\"angularaxis\":{\"gridcolor\":\"white\",\"linecolor\":\"white\",\"ticks\":\"\"},\"radialaxis\":{\"gridcolor\":\"white\",\"linecolor\":\"white\",\"ticks\":\"\"}},\"ternary\":{\"bgcolor\":\"#E5ECF6\",\"aaxis\":{\"gridcolor\":\"white\",\"linecolor\":\"white\",\"ticks\":\"\"},\"baxis\":{\"gridcolor\":\"white\",\"linecolor\":\"white\",\"ticks\":\"\"},\"caxis\":{\"gridcolor\":\"white\",\"linecolor\":\"white\",\"ticks\":\"\"}},\"coloraxis\":{\"colorbar\":{\"outlinewidth\":0,\"ticks\":\"\"}},\"colorscale\":{\"sequential\":[[0.0,\"#0d0887\"],[0.1111111111111111,\"#46039f\"],[0.2222222222222222,\"#7201a8\"],[0.3333333333333333,\"#9c179e\"],[0.4444444444444444,\"#bd3786\"],[0.5555555555555556,\"#d8576b\"],[0.6666666666666666,\"#ed7953\"],[0.7777777777777778,\"#fb9f3a\"],[0.8888888888888888,\"#fdca26\"],[1.0,\"#f0f921\"]],\"sequentialminus\":[[0.0,\"#0d0887\"],[0.1111111111111111,\"#46039f\"],[0.2222222222222222,\"#7201a8\"],[0.3333333333333333,\"#9c179e\"],[0.4444444444444444,\"#bd3786\"],[0.5555555555555556,\"#d8576b\"],[0.6666666666666666,\"#ed7953\"],[0.7777777777777778,\"#fb9f3a\"],[0.8888888888888888,\"#fdca26\"],[1.0,\"#f0f921\"]],\"diverging\":[[0,\"#8e0152\"],[0.1,\"#c51b7d\"],[0.2,\"#de77ae\"],[0.3,\"#f1b6da\"],[0.4,\"#fde0ef\"],[0.5,\"#f7f7f7\"],[0.6,\"#e6f5d0\"],[0.7,\"#b8e186\"],[0.8,\"#7fbc41\"],[0.9,\"#4d9221\"],[1,\"#276419\"]]},\"xaxis\":{\"gridcolor\":\"white\",\"linecolor\":\"white\",\"ticks\":\"\",\"title\":{\"standoff\":15},\"zerolinecolor\":\"white\",\"automargin\":true,\"zerolinewidth\":2},\"yaxis\":{\"gridcolor\":\"white\",\"linecolor\":\"white\",\"ticks\":\"\",\"title\":{\"standoff\":15},\"zerolinecolor\":\"white\",\"automargin\":true,\"zerolinewidth\":2},\"scene\":{\"xaxis\":{\"backgroundcolor\":\"#E5ECF6\",\"gridcolor\":\"white\",\"linecolor\":\"white\",\"showbackground\":true,\"ticks\":\"\",\"zerolinecolor\":\"white\",\"gridwidth\":2},\"yaxis\":{\"backgroundcolor\":\"#E5ECF6\",\"gridcolor\":\"white\",\"linecolor\":\"white\",\"showbackground\":true,\"ticks\":\"\",\"zerolinecolor\":\"white\",\"gridwidth\":2},\"zaxis\":{\"backgroundcolor\":\"#E5ECF6\",\"gridcolor\":\"white\",\"linecolor\":\"white\",\"showbackground\":true,\"ticks\":\"\",\"zerolinecolor\":\"white\",\"gridwidth\":2}},\"shapedefaults\":{\"line\":{\"color\":\"#2a3f5f\"}},\"annotationdefaults\":{\"arrowcolor\":\"#2a3f5f\",\"arrowhead\":0,\"arrowwidth\":1},\"geo\":{\"bgcolor\":\"white\",\"landcolor\":\"#E5ECF6\",\"subunitcolor\":\"white\",\"showland\":true,\"showlakes\":true,\"lakecolor\":\"white\"},\"title\":{\"x\":0.05},\"mapbox\":{\"style\":\"light\"}}},\"title\":{\"text\":\"Sample Bar Plot (Graph Objects)\"}},                        {\"responsive\": true}                    ).then(function(){\n",
              "                            \n",
              "var gd = document.getElementById('944663f7-ad5c-428c-970b-503179295a43');\n",
              "var x = new MutationObserver(function (mutations, observer) {{\n",
              "        var display = window.getComputedStyle(gd).display;\n",
              "        if (!display || display === 'none') {{\n",
              "            console.log([gd, 'removed!']);\n",
              "            Plotly.purge(gd);\n",
              "            observer.disconnect();\n",
              "        }}\n",
              "}});\n",
              "\n",
              "// Listen for the removal of the full notebook cells\n",
              "var notebookContainer = gd.closest('#notebook-container');\n",
              "if (notebookContainer) {{\n",
              "    x.observe(notebookContainer, {childList: true});\n",
              "}}\n",
              "\n",
              "// Listen for the clearing of the current output cell\n",
              "var outputEl = gd.closest('.output');\n",
              "if (outputEl) {{\n",
              "    x.observe(outputEl, {childList: true});\n",
              "}}\n",
              "\n",
              "                        })                };                            </script>        </div>\n",
              "</body>\n",
              "</html>"
            ]
          },
          "metadata": {}
        }
      ]
    },
    {
      "cell_type": "markdown",
      "source": [
        "**Q6. Create a DataFrame and add a new column based on an existing column.**"
      ],
      "metadata": {
        "id": "5YMdD1ynGDcS"
      }
    },
    {
      "cell_type": "code",
      "source": [
        "import pandas as pd\n",
        "\n",
        "# Create a DataFrame\n",
        "df = pd.DataFrame({\n",
        "    'Name': ['Alice', 'Bob', 'Charlie', 'David'],\n",
        "    'Age': [25, 30, 22, 35],\n",
        "    'City': ['New York', 'London', 'Paris', 'Tokyo']\n",
        "})\n",
        "\n",
        "# Add a new column 'Age_Category' based on the 'Age' column\n",
        "df['Age_Category'] = df['Age'].apply(lambda x: 'Adult' if x >= 18 else 'Minor')\n",
        "\n",
        "print(df)"
      ],
      "metadata": {
        "colab": {
          "base_uri": "https://localhost:8080/"
        },
        "id": "-PfzxX0sGZWR",
        "outputId": "9e913ef5-e36e-4ee3-80eb-2b0255482dd9"
      },
      "execution_count": 20,
      "outputs": [
        {
          "output_type": "stream",
          "name": "stdout",
          "text": [
            "      Name  Age      City Age_Category\n",
            "0    Alice   25  New York        Adult\n",
            "1      Bob   30    London        Adult\n",
            "2  Charlie   22     Paris        Adult\n",
            "3    David   35     Tokyo        Adult\n"
          ]
        }
      ]
    },
    {
      "cell_type": "markdown",
      "source": [
        "**Q7. Write a program to perform element-wise multiplication of two NumPy arrays.**"
      ],
      "metadata": {
        "id": "Xh7aPPQ8GzMa"
      }
    },
    {
      "cell_type": "code",
      "source": [
        "import numpy as np\n",
        "\n",
        "# Define two NumPy arrays\n",
        "array1 = np.array([1, 2, 3, 4])\n",
        "array2 = np.array([5, 6, 7, 8])\n",
        "\n",
        "# Perform element-wise multiplication using the * operator\n",
        "result_operator = array1 * array2\n",
        "\n",
        "# Perform element-wise multiplication using np.multiply()\n",
        "result_function = np.multiply(array1, array2)\n",
        "\n",
        "# Print the results\n",
        "print(f\"Result using * operator: {result_operator}\")\n",
        "print(f\"Result using np.multiply(): {result_function}\")"
      ],
      "metadata": {
        "colab": {
          "base_uri": "https://localhost:8080/"
        },
        "id": "FHQggkcKG4eM",
        "outputId": "45e1884b-0686-4252-f779-c8a9e19495a2"
      },
      "execution_count": 21,
      "outputs": [
        {
          "output_type": "stream",
          "name": "stdout",
          "text": [
            "Result using * operator: [ 5 12 21 32]\n",
            "Result using np.multiply(): [ 5 12 21 32]\n"
          ]
        }
      ]
    },
    {
      "cell_type": "markdown",
      "source": [
        "**Q8. Create a line plot with multiple lines using Matplotlib.**"
      ],
      "metadata": {
        "id": "JHxf3FcFG_aW"
      }
    },
    {
      "cell_type": "code",
      "source": [
        "import matplotlib.pyplot as plt\n",
        "import numpy as np\n",
        "\n",
        "# Data for the first line\n",
        "x1 = np.array([0, 1, 2, 3, 4, 5])\n",
        "y1 = np.array([0, 1, 4, 9, 16, 25])\n",
        "\n",
        "# Data for the second line\n",
        "x2 = np.array([0, 1, 2, 3, 4, 5])\n",
        "y2 = np.array([0, 0.5, 1, 1.5, 2, 2.5])\n",
        "\n",
        "# Data for the third line\n",
        "x3 = np.array([0, 1, 2, 3, 4, 5])\n",
        "y3 = np.array([5, 4, 3, 2, 1, 0])\n",
        "\n",
        "# Plotting the lines\n",
        "plt.plot(x1, y1, label='Line 1: y = x^2', color='blue', linestyle='-')\n",
        "plt.plot(x2, y2, label='Line 2: y = 0.5x', color='red', linestyle='--')\n",
        "plt.plot(x3, y3, label='Line 3: y = 5 - x', color='green', linestyle=':')\n",
        "\n",
        "# Adding labels and title\n",
        "plt.xlabel('X-axis')\n",
        "plt.ylabel('Y-axis')\n",
        "plt.title('Multiple Line Plot Example')\n",
        "\n",
        "# Adding a legend to distinguish the lines\n",
        "plt.legend()\n",
        "\n",
        "# Displaying the plot\n",
        "plt.show()"
      ],
      "metadata": {
        "colab": {
          "base_uri": "https://localhost:8080/",
          "height": 472
        },
        "id": "m79AyrSlHEHn",
        "outputId": "7b839c6f-7a32-4efb-b7e5-515b26eab396"
      },
      "execution_count": 22,
      "outputs": [
        {
          "output_type": "display_data",
          "data": {
            "text/plain": [
              "<Figure size 640x480 with 1 Axes>"
            ],
            "image/png": "[encoded data removed]"
          },
          "metadata": {}
        }
      ]
    },
    {
      "cell_type": "markdown",
      "source": [
        "**Q9. Generate a Pandas DataFrame and filter rows where a column value is greater than a threshold.**"
      ],
      "metadata": {
        "id": "4hD2qtRJHPyV"
      }
    },
    {
      "cell_type": "code",
      "source": [
        "import pandas as pd\n",
        "\n",
        "# 1. Create the DataFrame\n",
        "data = {'Name': ['Alice', 'Bob', 'Charlie', 'David', 'Eve'],\n",
        "        'Age': [25, 30, 22, 35, 28],\n",
        "        'Score': [85, 92, 78, 95, 88]}\n",
        "df = pd.DataFrame(data)\n",
        "\n",
        "# 2. Define the threshold\n",
        "threshold = 90\n",
        "\n",
        "# 3. Filter the DataFrame in a single line\n",
        "filtered_df = df[df['Score'] > threshold]\n",
        "\n",
        "# Print the original and filtered DataFrames\n",
        "print(\"Original DataFrame:\")\n",
        "print(df)\n",
        "print(\"\\nFiltered DataFrame (Score > 90):\")\n",
        "print(filtered_df)"
      ],
      "metadata": {
        "colab": {
          "base_uri": "https://localhost:8080/"
        },
        "id": "wHJYOrdNHUgp",
        "outputId": "b8c6faff-c7af-4684-b54a-1d1309a05bef"
      },
      "execution_count": 23,
      "outputs": [
        {
          "output_type": "stream",
          "name": "stdout",
          "text": [
            "Original DataFrame:\n",
            "      Name  Age  Score\n",
            "0    Alice   25     85\n",
            "1      Bob   30     92\n",
            "2  Charlie   22     78\n",
            "3    David   35     95\n",
            "4      Eve   28     88\n",
            "\n",
            "Filtered DataFrame (Score > 90):\n",
            "    Name  Age  Score\n",
            "1    Bob   30     92\n",
            "3  David   35     95\n"
          ]
        }
      ]
    },
    {
      "cell_type": "markdown",
      "source": [
        "**Q10. Create a histogram using Seaborn to visualize a distribution.**"
      ],
      "metadata": {
        "id": "G_vuhDn0Hbvu"
      }
    },
    {
      "cell_type": "code",
      "source": [
        "import seaborn as sns\n",
        "import matplotlib.pyplot as plt\n",
        "import numpy as np\n",
        "\n",
        "# Generate some random data for the distribution\n",
        "data = np.random.normal(loc=0, scale=1, size=1000)\n",
        "\n",
        "# Create the histogram using Seaborn's histplot\n",
        "sns.histplot(data=data, kde=True)\n",
        "\n",
        "# Add plot title and labels (optional)\n",
        "plt.title(\"Distribution of Sample Data\")\n",
        "plt.xlabel(\"Value\")\n",
        "plt.ylabel(\"Frequency\")\n",
        "\n",
        "# Display the plot\n",
        "plt.show()"
      ],
      "metadata": {
        "colab": {
          "base_uri": "https://localhost:8080/",
          "height": 472
        },
        "id": "Die1bUZ2Hf3u",
        "outputId": "797f2b0d-338b-42fd-ccbc-67b0c4b7c8df"
      },
      "execution_count": 24,
      "outputs": [
        {
          "output_type": "display_data",
          "data": {
            "text/plain": [
              "<Figure size 640x480 with 1 Axes>"
            ],
            "image/png": "[encoded data removed]"
          },
          "metadata": {}
        }
      ]
    },
    {
      "cell_type": "markdown",
      "source": [
        "**Q11.  Perform matrix multiplication using NumPy.**"
      ],
      "metadata": {
        "id": "mpFDE90AHl0W"
      }
    },
    {
      "cell_type": "code",
      "source": [
        "import numpy as np\n",
        "\n",
        "# Define two matrices\n",
        "matrix_a = np.array([[1, 2], [3, 4]])\n",
        "matrix_b = np.array([[5, 6], [7, 8]])\n",
        "\n",
        "# Perform matrix multiplication using the @ operator\n",
        "result_at_operator = matrix_a @ matrix_b\n",
        "\n",
        "# Perform matrix multiplication using np.matmul()\n",
        "result_matmul = np.matmul(matrix_a, matrix_b)\n",
        "\n",
        "# Perform matrix multiplication using np.dot()\n",
        "result_dot = np.dot(matrix_a, matrix_b)\n",
        "\n",
        "# Print the results\n",
        "print(\"Result using @ operator:\\n\", result_at_operator)\n",
        "print(\"\\nResult using np.matmul():\\n\", result_matmul)\n",
        "print(\"\\nResult using np.dot():\\n\", result_dot)"
      ],
      "metadata": {
        "colab": {
          "base_uri": "https://localhost:8080/"
        },
        "id": "mm4-U4WrHqGH",
        "outputId": "426d11b1-c1b4-47ce-a976-1d63f1702530"
      },
      "execution_count": 25,
      "outputs": [
        {
          "output_type": "stream",
          "name": "stdout",
          "text": [
            "Result using @ operator:\n",
            " [[19 22]\n",
            " [43 50]]\n",
            "\n",
            "Result using np.matmul():\n",
            " [[19 22]\n",
            " [43 50]]\n",
            "\n",
            "Result using np.dot():\n",
            " [[19 22]\n",
            " [43 50]]\n"
          ]
        }
      ]
    },
    {
      "cell_type": "markdown",
      "source": [
        "**Q12. Use Pandas to load a CSV file and display its first 5 rows.**"
      ],
      "metadata": {
        "id": "fUxFo_5nHxDd"
      }
    },
    {
      "cell_type": "code",
      "source": [
        "import pandas as pd\n",
        "\n",
        "# Create a sample CSV file for demonstration\n",
        "data = {'Name': ['Alice', 'Bob', 'Charlie', 'David', 'Eve', 'Frank', 'Grace'],\n",
        "        'Age': [25, 30, 35, 40, 45, 50, 55],\n",
        "        'City': ['New York', 'London', 'Paris', 'Tokyo', 'Sydney', 'Berlin', 'Rome']}\n",
        "sample_df = pd.DataFrame(data)\n",
        "sample_df.to_csv(\"sample_data.csv\", index=False)\n",
        "\n",
        "# Define the file name\n",
        "file_name = \"sample_data.csv\"\n",
        "\n",
        "# Load the CSV file into a DataFrame\n",
        "df = pd.read_csv(file_name)\n",
        "\n",
        "# Display the first 5 rows\n",
        "print(\"First 5 rows of the DataFrame:\")\n",
        "print(df.head())"
      ],
      "metadata": {
        "colab": {
          "base_uri": "https://localhost:8080/"
        },
        "id": "W4r5hpzlH3Ma",
        "outputId": "3339e47b-aa8b-49d9-9f74-fdf6e8dfee3f"
      },
      "execution_count": 32,
      "outputs": [
        {
          "output_type": "stream",
          "name": "stdout",
          "text": [
            "First 5 rows of the DataFrame:\n",
            "      Name  Age      City\n",
            "0    Alice   25  New York\n",
            "1      Bob   30    London\n",
            "2  Charlie   35     Paris\n",
            "3    David   40     Tokyo\n",
            "4      Eve   45    Sydney\n"
          ]
        }
      ]
    },
    {
      "cell_type": "markdown",
      "source": [
        "**Q13. Create a 3D scatter plot using Plotly.**"
      ],
      "metadata": {
        "id": "kyFGIv1OISFn"
      }
    },
    {
      "cell_type": "code",
      "source": [
        "import plotly.express as px\n",
        "\n",
        "# Load the Iris dataset, a built-in dataset in Plotly Express\n",
        "df = px.data.iris()\n",
        "\n",
        "# Create the 3D scatter plot\n",
        "fig = px.scatter_3d(\n",
        "    data_frame=df,\n",
        "    x='sepal_width',\n",
        "    y='sepal_length',\n",
        "    z='petal_length',\n",
        "    color='species',  # Color points by species\n",
        "    title='3D Scatter Plot of Iris Dataset'\n",
        ")\n",
        "\n",
        "# Display the plot\n",
        "fig.show()"
      ],
      "metadata": {
        "colab": {
          "base_uri": "https://localhost:8080/",
          "height": 542
        },
        "id": "3nkESM2mIX9R",
        "outputId": "caf0cce4-5a94-432f-d1e3-0b7b27689f5a"
      },
      "execution_count": 30,
      "outputs": [
        {
          "output_type": "display_data",
          "data": {
            "text/html": [
              "<html>\n",
              "<head><meta charset=\"utf-8\" /></head>\n",
              "<body>\n",
              "    <div>            <script src=\"https://cdnjs.cloudflare.com/ajax/libs/mathjax/2.7.5/MathJax.js?config=TeX-AMS-MML_SVG\"></script><script type=\"text/javascript\">if (window.MathJax && window.MathJax.Hub && window.MathJax.Hub.Config) {window.MathJax.Hub.Config({SVG: {font: \"STIX-Web\"}});}</script>                <script type=\"text/javascript\">window.PlotlyConfig = {MathJaxConfig: 'local'};</script>\n",
              "        <script charset=\"utf-8\" src=\"https://cdn.plot.ly/plotly-2.35.2.min.js\"></script>                <div id=\"5a97566e-00cf-4f98-b7a8-2687bee67327\" class=\"plotly-graph-div\" style=\"height:525px; width:100%;\"></div>            <script type=\"text/javascript\">                                    window.PLOTLYENV=window.PLOTLYENV || {};                                    if (document.getElementById(\"5a97566e-00cf-4f98-b7a8-2687bee67327\")) {                    Plotly.newPlot(                        \"5a97566e-00cf-4f98-b7a8-2687bee67327\",                        [{\"hovertemplate\":\"species=setosa\\u003cbr\\u003esepal_width=%{x}\\u003cbr\\u003esepal_length=%{y}\\u003cbr\\u003epetal_length=%{z}\\u003cextra\\u003e\\u003c\\u002fextra\\u003e\",\"legendgroup\":\"setosa\",\"marker\":{\"color\":\"#636efa\",\"symbol\":\"circle\"},\"mode\":\"markers\",\"name\":\"setosa\",\"scene\":\"scene\",\"showlegend\":true,\"x\":[3.5,3.0,3.2,3.1,3.6,3.9,3.4,3.4,2.9,3.1,3.7,3.4,3.0,3.0,4.0,4.4,3.9,3.5,3.8,3.8,3.4,3.7,3.6,3.3,3.4,3.0,3.4,3.5,3.4,3.2,3.1,3.4,4.1,4.2,3.1,3.2,3.5,3.1,3.0,3.4,3.5,2.3,3.2,3.5,3.8,3.0,3.8,3.2,3.7,3.3],\"y\":[5.1,4.9,4.7,4.6,5.0,5.4,4.6,5.0,4.4,4.9,5.4,4.8,4.8,4.3,5.8,5.7,5.4,5.1,5.7,5.1,5.4,5.1,4.6,5.1,4.8,5.0,5.0,5.2,5.2,4.7,4.8,5.4,5.2,5.5,4.9,5.0,5.5,4.9,4.4,5.1,5.0,4.5,4.4,5.0,5.1,4.8,5.1,4.6,5.3,5.0],\"z\":[1.4,1.4,1.3,1.5,1.4,1.7,1.4,1.5,1.4,1.5,1.5,1.6,1.4,1.1,1.2,1.5,1.3,1.4,1.7,1.5,1.7,1.5,1.0,1.7,1.9,1.6,1.6,1.5,1.4,1.6,1.6,1.5,1.5,1.4,1.5,1.2,1.3,1.5,1.3,1.5,1.3,1.3,1.3,1.6,1.9,1.4,1.6,1.4,1.5,1.4],\"type\":\"scatter3d\"},{\"hovertemplate\":\"species=versicolor\\u003cbr\\u003esepal_width=%{x}\\u003cbr\\u003esepal_length=%{y}\\u003cbr\\u003epetal_length=%{z}\\u003cextra\\u003e\\u003c\\u002fextra\\u003e\",\"legendgroup\":\"versicolor\",\"marker\":{\"color\":\"#EF553B\",\"symbol\":\"circle\"},\"mode\":\"markers\",\"name\":\"versicolor\",\"scene\":\"scene\",\"showlegend\":true,\"x\":[3.2,3.2,3.1,2.3,2.8,2.8,3.3,2.4,2.9,2.7,2.0,3.0,2.2,2.9,2.9,3.1,3.0,2.7,2.2,2.5,3.2,2.8,2.5,2.8,2.9,3.0,2.8,3.0,2.9,2.6,2.4,2.4,2.7,2.7,3.0,3.4,3.1,2.3,3.0,2.5,2.6,3.0,2.6,2.3,2.7,3.0,2.9,2.9,2.5,2.8],\"y\":[7.0,6.4,6.9,5.5,6.5,5.7,6.3,4.9,6.6,5.2,5.0,5.9,6.0,6.1,5.6,6.7,5.6,5.8,6.2,5.6,5.9,6.1,6.3,6.1,6.4,6.6,6.8,6.7,6.0,5.7,5.5,5.5,5.8,6.0,5.4,6.0,6.7,6.3,5.6,5.5,5.5,6.1,5.8,5.0,5.6,5.7,5.7,6.2,5.1,5.7],\"z\":[4.7,4.5,4.9,4.0,4.6,4.5,4.7,3.3,4.6,3.9,3.5,4.2,4.0,4.7,3.6,4.4,4.5,4.1,4.5,3.9,4.8,4.0,4.9,4.7,4.3,4.4,4.8,5.0,4.5,3.5,3.8,3.7,3.9,5.1,4.5,4.5,4.7,4.4,4.1,4.0,4.4,4.6,4.0,3.3,4.2,4.2,4.2,4.3,3.0,4.1],\"type\":\"scatter3d\"},{\"hovertemplate\":\"species=virginica\\u003cbr\\u003esepal_width=%{x}\\u003cbr\\u003esepal_length=%{y}\\u003cbr\\u003epetal_length=%{z}\\u003cextra\\u003e\\u003c\\u002fextra\\u003e\",\"legendgroup\":\"virginica\",\"marker\":{\"color\":\"#00cc96\",\"symbol\":\"circle\"},\"mode\":\"markers\",\"name\":\"virginica\",\"scene\":\"scene\",\"showlegend\":true,\"x\":[3.3,2.7,3.0,2.9,3.0,3.0,2.5,2.9,2.5,3.6,3.2,2.7,3.0,2.5,2.8,3.2,3.0,3.8,2.6,2.2,3.2,2.8,2.8,2.7,3.3,3.2,2.8,3.0,2.8,3.0,2.8,3.8,2.8,2.8,2.6,3.0,3.4,3.1,3.0,3.1,3.1,3.1,2.7,3.2,3.3,3.0,2.5,3.0,3.4,3.0],\"y\":[6.3,5.8,7.1,6.3,6.5,7.6,4.9,7.3,6.7,7.2,6.5,6.4,6.8,5.7,5.8,6.4,6.5,7.7,7.7,6.0,6.9,5.6,7.7,6.3,6.7,7.2,6.2,6.1,6.4,7.2,7.4,7.9,6.4,6.3,6.1,7.7,6.3,6.4,6.0,6.9,6.7,6.9,5.8,6.8,6.7,6.7,6.3,6.5,6.2,5.9],\"z\":[6.0,5.1,5.9,5.6,5.8,6.6,4.5,6.3,5.8,6.1,5.1,5.3,5.5,5.0,5.1,5.3,5.5,6.7,6.9,5.0,5.7,4.9,6.7,4.9,5.7,6.0,4.8,4.9,5.6,5.8,6.1,6.4,5.6,5.1,5.6,6.1,5.6,5.5,4.8,5.4,5.6,5.1,5.1,5.9,5.7,5.2,5.0,5.2,5.4,5.1],\"type\":\"scatter3d\"}],                        {\"template\":{\"data\":{\"histogram2dcontour\":[{\"type\":\"histogram2dcontour\",\"colorbar\":{\"outlinewidth\":0,\"ticks\":\"\"},\"colorscale\":[[0.0,\"#0d0887\"],[0.1111111111111111,\"#46039f\"],[0.2222222222222222,\"#7201a8\"],[0.3333333333333333,\"#9c179e\"],[0.4444444444444444,\"#bd3786\"],[0.5555555555555556,\"#d8576b\"],[0.6666666666666666,\"#ed7953\"],[0.7777777777777778,\"#fb9f3a\"],[0.8888888888888888,\"#fdca26\"],[1.0,\"#f0f921\"]]}],\"choropleth\":[{\"type\":\"choropleth\",\"colorbar\":{\"outlinewidth\":0,\"ticks\":\"\"}}],\"histogram2d\":[{\"type\":\"histogram2d\",\"colorbar\":{\"outlinewidth\":0,\"ticks\":\"\"},\"colorscale\":[[0.0,\"#0d0887\"],[0.1111111111111111,\"#46039f\"],[0.2222222222222222,\"#7201a8\"],[0.3333333333333333,\"#9c179e\"],[0.4444444444444444,\"#bd3786\"],[0.5555555555555556,\"#d8576b\"],[0.6666666666666666,\"#ed7953\"],[0.7777777777777778,\"#fb9f3a\"],[0.8888888888888888,\"#fdca26\"],[1.0,\"#f0f921\"]]}],\"heatmap\":[{\"type\":\"heatmap\",\"colorbar\":{\"outlinewidth\":0,\"ticks\":\"\"},\"colorscale\":[[0.0,\"#0d0887\"],[0.1111111111111111,\"#46039f\"],[0.2222222222222222,\"#7201a8\"],[0.3333333333333333,\"#9c179e\"],[0.4444444444444444,\"#bd3786\"],[0.5555555555555556,\"#d8576b\"],[0.6666666666666666,\"#ed7953\"],[0.7777777777777778,\"#fb9f3a\"],[0.8888888888888888,\"#fdca26\"],[1.0,\"#f0f921\"]]}],\"heatmapgl\":[{\"type\":\"heatmapgl\",\"colorbar\":{\"outlinewidth\":0,\"ticks\":\"\"},\"colorscale\":[[0.0,\"#0d0887\"],[0.1111111111111111,\"#46039f\"],[0.2222222222222222,\"#7201a8\"],[0.3333333333333333,\"#9c179e\"],[0.4444444444444444,\"#bd3786\"],[0.5555555555555556,\"#d8576b\"],[0.6666666666666666,\"#ed7953\"],[0.7777777777777778,\"#fb9f3a\"],[0.8888888888888888,\"#fdca26\"],[1.0,\"#f0f921\"]]}],\"contourcarpet\":[{\"type\":\"contourcarpet\",\"colorbar\":{\"outlinewidth\":0,\"ticks\":\"\"}}],\"contour\":[{\"type\":\"contour\",\"colorbar\":{\"outlinewidth\":0,\"ticks\":\"\"},\"colorscale\":[[0.0,\"#0d0887\"],[0.1111111111111111,\"#46039f\"],[0.2222222222222222,\"#7201a8\"],[0.3333333333333333,\"#9c179e\"],[0.4444444444444444,\"#bd3786\"],[0.5555555555555556,\"#d8576b\"],[0.6666666666666666,\"#ed7953\"],[0.7777777777777778,\"#fb9f3a\"],[0.8888888888888888,\"#fdca26\"],[1.0,\"#f0f921\"]]}],\"surface\":[{\"type\":\"surface\",\"colorbar\":{\"outlinewidth\":0,\"ticks\":\"\"},\"colorscale\":[[0.0,\"#0d0887\"],[0.1111111111111111,\"#46039f\"],[0.2222222222222222,\"#7201a8\"],[0.3333333333333333,\"#9c179e\"],[0.4444444444444444,\"#bd3786\"],[0.5555555555555556,\"#d8576b\"],[0.6666666666666666,\"#ed7953\"],[0.7777777777777778,\"#fb9f3a\"],[0.8888888888888888,\"#fdca26\"],[1.0,\"#f0f921\"]]}],\"mesh3d\":[{\"type\":\"mesh3d\",\"colorbar\":{\"outlinewidth\":0,\"ticks\":\"\"}}],\"scatter\":[{\"fillpattern\":{\"fillmode\":\"overlay\",\"size\":10,\"solidity\":0.2},\"type\":\"scatter\"}],\"parcoords\":[{\"type\":\"parcoords\",\"line\":{\"colorbar\":{\"outlinewidth\":0,\"ticks\":\"\"}}}],\"scatterpolargl\":[{\"type\":\"scatterpolargl\",\"marker\":{\"colorbar\":{\"outlinewidth\":0,\"ticks\":\"\"}}}],\"bar\":[{\"error_x\":{\"color\":\"#2a3f5f\"},\"error_y\":{\"color\":\"#2a3f5f\"},\"marker\":{\"line\":{\"color\":\"#E5ECF6\",\"width\":0.5},\"pattern\":{\"fillmode\":\"overlay\",\"size\":10,\"solidity\":0.2}},\"type\":\"bar\"}],\"scattergeo\":[{\"type\":\"scattergeo\",\"marker\":{\"colorbar\":{\"outlinewidth\":0,\"ticks\":\"\"}}}],\"scatterpolar\":[{\"type\":\"scatterpolar\",\"marker\":{\"colorbar\":{\"outlinewidth\":0,\"ticks\":\"\"}}}],\"histogram\":[{\"marker\":{\"pattern\":{\"fillmode\":\"overlay\",\"size\":10,\"solidity\":0.2}},\"type\":\"histogram\"}],\"scattergl\":[{\"type\":\"scattergl\",\"marker\":{\"colorbar\":{\"outlinewidth\":0,\"ticks\":\"\"}}}],\"scatter3d\":[{\"type\":\"scatter3d\",\"line\":{\"colorbar\":{\"outlinewidth\":0,\"ticks\":\"\"}},\"marker\":{\"colorbar\":{\"outlinewidth\":0,\"ticks\":\"\"}}}],\"scattermapbox\":[{\"type\":\"scattermapbox\",\"marker\":{\"colorbar\":{\"outlinewidth\":0,\"ticks\":\"\"}}}],\"scatterternary\":[{\"type\":\"scatterternary\",\"marker\":{\"colorbar\":{\"outlinewidth\":0,\"ticks\":\"\"}}}],\"scattercarpet\":[{\"type\":\"scattercarpet\",\"marker\":{\"colorbar\":{\"outlinewidth\":0,\"ticks\":\"\"}}}],\"carpet\":[{\"aaxis\":{\"endlinecolor\":\"#2a3f5f\",\"gridcolor\":\"white\",\"linecolor\":\"white\",\"minorgridcolor\":\"white\",\"startlinecolor\":\"#2a3f5f\"},\"baxis\":{\"endlinecolor\":\"#2a3f5f\",\"gridcolor\":\"white\",\"linecolor\":\"white\",\"minorgridcolor\":\"white\",\"startlinecolor\":\"#2a3f5f\"},\"type\":\"carpet\"}],\"table\":[{\"cells\":{\"fill\":{\"color\":\"#EBF0F8\"},\"line\":{\"color\":\"white\"}},\"header\":{\"fill\":{\"color\":\"#C8D4E3\"},\"line\":{\"color\":\"white\"}},\"type\":\"table\"}],\"barpolar\":[{\"marker\":{\"line\":{\"color\":\"#E5ECF6\",\"width\":0.5},\"pattern\":{\"fillmode\":\"overlay\",\"size\":10,\"solidity\":0.2}},\"type\":\"barpolar\"}],\"pie\":[{\"automargin\":true,\"type\":\"pie\"}]},\"layout\":{\"autotypenumbers\":\"strict\",\"colorway\":[\"#636efa\",\"#EF553B\",\"#00cc96\",\"#ab63fa\",\"#FFA15A\",\"#19d3f3\",\"#FF6692\",\"#B6E880\",\"#FF97FF\",\"#FECB52\"],\"font\":{\"color\":\"#2a3f5f\"},\"hovermode\":\"closest\",\"hoverlabel\":{\"align\":\"left\"},\"paper_bgcolor\":\"white\",\"plot_bgcolor\":\"#E5ECF6\",\"polar\":{\"bgcolor\":\"#E5ECF6\",\"angularaxis\":{\"gridcolor\":\"white\",\"linecolor\":\"white\",\"ticks\":\"\"},\"radialaxis\":{\"gridcolor\":\"white\",\"linecolor\":\"white\",\"ticks\":\"\"}},\"ternary\":{\"bgcolor\":\"#E5ECF6\",\"aaxis\":{\"gridcolor\":\"white\",\"linecolor\":\"white\",\"ticks\":\"\"},\"baxis\":{\"gridcolor\":\"white\",\"linecolor\":\"white\",\"ticks\":\"\"},\"caxis\":{\"gridcolor\":\"white\",\"linecolor\":\"white\",\"ticks\":\"\"}},\"coloraxis\":{\"colorbar\":{\"outlinewidth\":0,\"ticks\":\"\"}},\"colorscale\":{\"sequential\":[[0.0,\"#0d0887\"],[0.1111111111111111,\"#46039f\"],[0.2222222222222222,\"#7201a8\"],[0.3333333333333333,\"#9c179e\"],[0.4444444444444444,\"#bd3786\"],[0.5555555555555556,\"#d8576b\"],[0.6666666666666666,\"#ed7953\"],[0.7777777777777778,\"#fb9f3a\"],[0.8888888888888888,\"#fdca26\"],[1.0,\"#f0f921\"]],\"sequentialminus\":[[0.0,\"#0d0887\"],[0.1111111111111111,\"#46039f\"],[0.2222222222222222,\"#7201a8\"],[0.3333333333333333,\"#9c179e\"],[0.4444444444444444,\"#bd3786\"],[0.5555555555555556,\"#d8576b\"],[0.6666666666666666,\"#ed7953\"],[0.7777777777777778,\"#fb9f3a\"],[0.8888888888888888,\"#fdca26\"],[1.0,\"#f0f921\"]],\"diverging\":[[0,\"#8e0152\"],[0.1,\"#c51b7d\"],[0.2,\"#de77ae\"],[0.3,\"#f1b6da\"],[0.4,\"#fde0ef\"],[0.5,\"#f7f7f7\"],[0.6,\"#e6f5d0\"],[0.7,\"#b8e186\"],[0.8,\"#7fbc41\"],[0.9,\"#4d9221\"],[1,\"#276419\"]]},\"xaxis\":{\"gridcolor\":\"white\",\"linecolor\":\"white\",\"ticks\":\"\",\"title\":{\"standoff\":15},\"zerolinecolor\":\"white\",\"automargin\":true,\"zerolinewidth\":2},\"yaxis\":{\"gridcolor\":\"white\",\"linecolor\":\"white\",\"ticks\":\"\",\"title\":{\"standoff\":15},\"zerolinecolor\":\"white\",\"automargin\":true,\"zerolinewidth\":2},\"scene\":{\"xaxis\":{\"backgroundcolor\":\"#E5ECF6\",\"gridcolor\":\"white\",\"linecolor\":\"white\",\"showbackground\":true,\"ticks\":\"\",\"zerolinecolor\":\"white\",\"gridwidth\":2},\"yaxis\":{\"backgroundcolor\":\"#E5ECF6\",\"gridcolor\":\"white\",\"linecolor\":\"white\",\"showbackground\":true,\"ticks\":\"\",\"zerolinecolor\":\"white\",\"gridwidth\":2},\"zaxis\":{\"backgroundcolor\":\"#E5ECF6\",\"gridcolor\":\"white\",\"linecolor\":\"white\",\"showbackground\":true,\"ticks\":\"\",\"zerolinecolor\":\"white\",\"gridwidth\":2}},\"shapedefaults\":{\"line\":{\"color\":\"#2a3f5f\"}},\"annotationdefaults\":{\"arrowcolor\":\"#2a3f5f\",\"arrowhead\":0,\"arrowwidth\":1},\"geo\":{\"bgcolor\":\"white\",\"landcolor\":\"#E5ECF6\",\"subunitcolor\":\"white\",\"showland\":true,\"showlakes\":true,\"lakecolor\":\"white\"},\"title\":{\"x\":0.05},\"mapbox\":{\"style\":\"light\"}}},\"scene\":{\"domain\":{\"x\":[0.0,1.0],\"y\":[0.0,1.0]},\"xaxis\":{\"title\":{\"text\":\"sepal_width\"}},\"yaxis\":{\"title\":{\"text\":\"sepal_length\"}},\"zaxis\":{\"title\":{\"text\":\"petal_length\"}}},\"legend\":{\"title\":{\"text\":\"species\"},\"tracegroupgap\":0},\"title\":{\"text\":\"3D Scatter Plot of Iris Dataset\"}},                        {\"responsive\": true}                    ).then(function(){\n",
              "                            \n",
              "var gd = document.getElementById('5a97566e-00cf-4f98-b7a8-2687bee67327');\n",
              "var x = new MutationObserver(function (mutations, observer) {{\n",
              "        var display = window.getComputedStyle(gd).display;\n",
              "        if (!display || display === 'none') {{\n",
              "            console.log([gd, 'removed!']);\n",
              "            Plotly.purge(gd);\n",
              "            observer.disconnect();\n",
              "        }}\n",
              "}});\n",
              "\n",
              "// Listen for the removal of the full notebook cells\n",
              "var notebookContainer = gd.closest('#notebook-container');\n",
              "if (notebookContainer) {{\n",
              "    x.observe(notebookContainer, {childList: true});\n",
              "}}\n",
              "\n",
              "// Listen for the clearing of the current output cell\n",
              "var outputEl = gd.closest('.output');\n",
              "if (outputEl) {{\n",
              "    x.observe(outputEl, {childList: true});\n",
              "}}\n",
              "\n",
              "                        })                };                            </script>        </div>\n",
              "</body>\n",
              "</html>"
            ]
          },
          "metadata": {}
        }
      ]
    }
  ]
}