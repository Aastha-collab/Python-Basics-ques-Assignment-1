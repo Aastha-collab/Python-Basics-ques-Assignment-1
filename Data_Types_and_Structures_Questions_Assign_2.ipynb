{
  "nbformat": 4,
  "nbformat_minor": 0,
  "metadata": {
    "colab": {
      "provenance": []
    },
    "kernelspec": {
      "name": "python3",
      "display_name": "Python 3"
    },
    "language_info": {
      "name": "python"
    }
  },
  "cells": [
    {
      "cell_type": "markdown",
      "source": [
        "# **Data Types and Structures Theoritical Questions**"
      ],
      "metadata": {
        "id": "35-iLQmwlGHZ"
      }
    },
    {
      "cell_type": "markdown",
      "source": [
        "Q1. What are data structures, and why are they important?"
      ],
      "metadata": {
        "id": "tEcdQbBPlVFM"
      }
    },
    {
      "cell_type": "markdown",
      "source": [
        "- Data structures are specialized formats for organizing, storing, and accessing collections of data.\n",
        "\n",
        " They are important because:\n",
        "- Choosing the right data structure significantly impacts the efficiency and performance of program.\n",
        "-Well-chosen data structures can:\n",
        "-Simplify data manipulation (adding, removing, modifying elements)\n",
        "-Optimize searching and sorting operations\n",
        "-Conserve memory usage"
      ],
      "metadata": {
        "id": "3oSnOzbGlgYC"
      }
    },
    {
      "cell_type": "markdown",
      "source": [
        " **Q2. Explain the difference between mutable and immutable data types with examples?**"
      ],
      "metadata": {
        "id": "bP3JgqsMmyAx"
      }
    },
    {
      "cell_type": "markdown",
      "source": [
        "In Python, mutable data types can be modified after creation, while immutable data types cannot.\n",
        "\n",
        "- Lists, dictionaries, and sets are mutable, meaning their contents can be changed.\n",
        "-Strings and tuples are immutable, meaning they cannot be changed once created"
      ],
      "metadata": {
        "id": "DYs2Qu35m3FP"
      }
    },
    {
      "cell_type": "markdown",
      "source": [
        "**Q3. What are the main differences between lists and tuples in Python?**\n"
      ],
      "metadata": {
        "id": "jkShRYqJnU8_"
      }
    },
    {
      "cell_type": "markdown",
      "source": [
        "The main differences between lists and tuples in Python are-\n",
        "- Lists are mutable: Their elements can be changed, added, or removed after creation.\n",
        "- Lists are defined using square brackets [].\n",
        "\n",
        "- Tuples are immutable: Once created, their elements cannot be changed, added, or removed.\n",
        "- Tuples are defined using parentheses ()"
      ],
      "metadata": {
        "id": "geDCokvanec_"
      }
    },
    {
      "cell_type": "markdown",
      "source": [
        "**Q4. Describe how dictionaries store data?**"
      ],
      "metadata": {
        "id": "SFXqfqR4oE_P"
      }
    },
    {
      "cell_type": "markdown",
      "source": [
        "- Dictionaries are unordered collections of data and are represented with curly brackets { } .\n",
        "- Like lists, dictionaries are mutable(changeable) and indexed.\n",
        "- With dictionaries, data is stored in a key:value format."
      ],
      "metadata": {
        "id": "KmpD7V1focoX"
      }
    },
    {
      "cell_type": "markdown",
      "source": [
        "**Q5. Why might you use a set instead of a list in Python?**"
      ],
      "metadata": {
        "id": "D_V_R_aho11d"
      }
    },
    {
      "cell_type": "markdown",
      "source": [
        "Set might be used instead of a list in Python because sets cannot have multiple occurrences of the same element, it makes sets highly useful to efficiently remove duplicate values from a list or tuple and to perform common math operations like unions and intersections."
      ],
      "metadata": {
        "id": "oM6hg8mao9c8"
      }
    },
    {
      "cell_type": "markdown",
      "source": [
        "**Q6. What is a string in Python, and how is it different from a list?**"
      ],
      "metadata": {
        "id": "xCf8Hj9apeVT"
      }
    },
    {
      "cell_type": "markdown",
      "source": [
        "A string is a sequence of characters between single or double quotes.\n",
        "\n",
        "A list is a sequence of items, where each item could be anything (an integer, a float, a string, etc)."
      ],
      "metadata": {
        "id": "SK7rinQNpoUd"
      }
    },
    {
      "cell_type": "markdown",
      "source": [
        "Q7. How do tuples ensure data integrity in Python?"
      ],
      "metadata": {
        "id": "7COGsCEQp8FG"
      }
    },
    {
      "cell_type": "markdown",
      "source": [
        "Tuples in Python ensure data integrity primarily through their immutability. This fundamental characteristic means that once a tuple is created, its elements cannot be changed, added, or removed."
      ],
      "metadata": {
        "id": "UMBgOA_xqCeA"
      }
    },
    {
      "cell_type": "markdown",
      "source": [
        "**Q8. What is a hash table, and how does it relate to dictionaries in Python?**"
      ],
      "metadata": {
        "id": "iiPbpEf0qOqF"
      }
    },
    {
      "cell_type": "markdown",
      "source": [
        "A hash table is a collection of associated pairs of items where each pair consists of a key and a value. Hash tables are often called the more general term map because the associated hash function “maps” the key to the value.\n",
        "\n",
        "When a key-value pair is inserted, the hash function calculates an index for the key, and the value is stored at that location. When retrieving a value, the same hash function is applied to the key to quickly locate its corresponding value."
      ],
      "metadata": {
        "id": "LWCQTc92qYYr"
      }
    },
    {
      "cell_type": "markdown",
      "source": [
        "Q9. Can lists contain different data types in Python?"
      ],
      "metadata": {
        "id": "yNLcI4YKrSXp"
      }
    },
    {
      "cell_type": "markdown",
      "source": [
        "Yes, lists in Python can contain elements of different data types. This characteristic makes Python lists highly versatile and flexible."
      ],
      "metadata": {
        "id": "ModQizhHrXOw"
      }
    },
    {
      "cell_type": "markdown",
      "source": [
        "**Q10. Explain why strings are immutable in Python?**"
      ],
      "metadata": {
        "id": "R6uzrMCLrf7J"
      }
    },
    {
      "cell_type": "markdown",
      "source": [
        "If the string object can be modified, its value can be changed, and because of this, the class that will be loaded will be different. To avoid such misinterpretation, strings are immutable."
      ],
      "metadata": {
        "id": "ty6GkOYernAr"
      }
    },
    {
      "cell_type": "markdown",
      "source": [
        "**Q11. What advantages do dictionaries offer over lists for certain tasks?**"
      ],
      "metadata": {
        "id": "fLxoQNvsr2Pu"
      }
    },
    {
      "cell_type": "markdown",
      "source": [
        "Dictionaries in Python offer fast data retrieval, unlike lists where we have to traverse through each element to find a value.\n",
        "Dictionaries use hash tables for quick access to values based on keys."
      ],
      "metadata": {
        "id": "y83ApjwRr7g3"
      }
    },
    {
      "cell_type": "markdown",
      "source": [
        "Q12. Describe a scenario where using a tuple would be preferable over a list?"
      ],
      "metadata": {
        "id": "3WKy3yjrsgR1"
      }
    },
    {
      "cell_type": "markdown",
      "source": [
        "List can be used if we need a mutable collection of items where we may need to add, remove, or change elements. Lists are more flexible and have more built-in methods, making them ideal for dynamic collections. Tuple can be used if we need an immutable collection where the elements won't change after creation."
      ],
      "metadata": {
        "id": "_7r3VDM9sos3"
      }
    },
    {
      "cell_type": "markdown",
      "source": [
        "**Q13. How do sets handle duplicate values in Python?**"
      ],
      "metadata": {
        "id": "hmVOBlkltX1E"
      }
    },
    {
      "cell_type": "markdown",
      "source": [
        "Python's set data type inherently manages duplicate values by disallowing them. When attempting to add an element that already exists within a set, the set remains unchanged, and the duplicate element is not added. This characteristic aligns with the mathematical definition of a set, which is an unordered collection of unique elements."
      ],
      "metadata": {
        "id": "iiwjmm1gtdmH"
      }
    },
    {
      "cell_type": "markdown",
      "source": [
        "**Q14. How does the “in” keyword work differently for lists and dictionaries?**"
      ],
      "metadata": {
        "id": "j6VLBJ2TuAOG"
      }
    },
    {
      "cell_type": "markdown",
      "source": [
        "The \"in\" keyword can be used to test whether certain value present in a list.\n",
        "\n",
        "The \"in\" keyword in Python serves two primary purposes:\n",
        "- Membership Testing: To check if a value exists in a sequence.\n",
        "- Iteration: To iterate through elements of a sequence in a for loop.\n"
      ],
      "metadata": {
        "id": "YN9uAxpfuIDX"
      }
    },
    {
      "cell_type": "markdown",
      "source": [
        "Q15.  Can you modify the elements of a tuple? Explain why or why not?"
      ],
      "metadata": {
        "id": "urM5MXfau39C"
      }
    },
    {
      "cell_type": "markdown",
      "source": [
        "No, we cannot directly modify the elements of a Python tuple. Tuples are immutable, meaning their contents cannot be changed after creation. This is a fundamental characteristic of tuples, differentiating them from lists which are mutable."
      ],
      "metadata": {
        "id": "-mHBH59fvGri"
      }
    },
    {
      "cell_type": "markdown",
      "source": [
        "Q16. What is a nested dictionary, and give an example of its use case?"
      ],
      "metadata": {
        "id": "P0MpfRPOvOCd"
      }
    },
    {
      "cell_type": "markdown",
      "source": [
        "A nested dictionary in Python is a dictionary that contains other dictionaries as its values. Essentially, it's a dictionary within a dictionary.\n",
        "\n",
        "Example: This example creates a nested dictionary to store details of multiple students. Each student is added as a key and their information (name, age, grade) is stored in an inner dictionary."
      ],
      "metadata": {
        "id": "YntoBKyzvUNJ"
      }
    },
    {
      "cell_type": "markdown",
      "source": [
        "**Q17. Describe the time complexity of accessing elements in a dictionary.**"
      ],
      "metadata": {
        "id": "UXS0sQQfv0Rl"
      }
    },
    {
      "cell_type": "markdown",
      "source": [
        "Accessing elements in a dictionary (or hash table) typically has a time complexity of O(1) on average. This means that the time it takes to retrieve a value by its key is, on average, constant and doesn't depend on the size of the dictionary.\n",
        "\n",
        "However, in the worst-case scenario (which is rare), the time complexity can be O(n), where n is the number of elements in the dictionary, due to hash collisions."
      ],
      "metadata": {
        "id": "JkdlMrm7v8ZA"
      }
    },
    {
      "cell_type": "markdown",
      "source": [
        "Q18. In what situations are lists preferred over dictionaries?"
      ],
      "metadata": {
        "id": "gJZTU_wNwK-U"
      }
    },
    {
      "cell_type": "markdown",
      "source": [
        "Lists are faster for index-based access, whereas dictionary lookups require computing a hash. Dictionaries require more memory, as they store keys along with values, unlike lists."
      ],
      "metadata": {
        "id": "aX8V1YNGwoXN"
      }
    },
    {
      "cell_type": "markdown",
      "source": [
        "**Q19. Why are dictionaries considered unordered, and how does that affect data retrieval?**"
      ],
      "metadata": {
        "id": "GrS9eziPwwXo"
      }
    },
    {
      "cell_type": "markdown",
      "source": [
        "A dictionary is termed an unordered collection of objects because dictionaries do not maintain any inherent order of the items based on when they were added. Dictionaries are optimized to retrieve values when the key is known"
      ],
      "metadata": {
        "id": "t0ULc3Udw3aw"
      }
    },
    {
      "cell_type": "markdown",
      "source": [
        "Q20. Explain the difference between a list and a dictionary in terms of data retrieval."
      ],
      "metadata": {
        "id": "GIDvKL8XxXMd"
      }
    },
    {
      "cell_type": "markdown",
      "source": [
        "A list is an ordered collection of items, whereas a dictionary is an unordered data collection in a key: value pair. Elements from the list can be accessed using the index, while the elements of the dictionary can be accessed using keys."
      ],
      "metadata": {
        "id": "ULPAn-Zhxkzn"
      }
    },
    {
      "cell_type": "markdown",
      "source": [
        "# **Practical Questions**"
      ],
      "metadata": {
        "id": "OI4qzWWhxvme"
      }
    },
    {
      "cell_type": "markdown",
      "source": [
        "Q1. Write a code to create a string with your name and print it."
      ],
      "metadata": {
        "id": "P0JT9yxNxymP"
      }
    },
    {
      "cell_type": "code",
      "source": [
        "name = input(\"Enter your name: \")\n",
        "print(\"My name is\", name)"
      ],
      "metadata": {
        "colab": {
          "base_uri": "https://localhost:8080/"
        },
        "id": "jR81ebGzx6RI",
        "outputId": "6576e68a-ebcd-4f4c-89da-e437c5540e06"
      },
      "execution_count": 4,
      "outputs": [
        {
          "output_type": "stream",
          "name": "stdout",
          "text": [
            "Enter your name: Aastha\n",
            "My name is Aastha\n"
          ]
        }
      ]
    },
    {
      "cell_type": "code",
      "source": [
        "name = \"Aastha\"\n",
        "print(\"My name is\", name)"
      ],
      "metadata": {
        "colab": {
          "base_uri": "https://localhost:8080/"
        },
        "id": "Mmvg-HQnyfoW",
        "outputId": "c10b1207-ade6-43b5-abc7-48368e807bba"
      },
      "execution_count": 5,
      "outputs": [
        {
          "output_type": "stream",
          "name": "stdout",
          "text": [
            "My name is Aastha\n"
          ]
        }
      ]
    },
    {
      "cell_type": "markdown",
      "source": [
        "**Q2. Write a code to find the length of the string \"Hello World\".**"
      ],
      "metadata": {
        "id": "RCJ9TZBiyobV"
      }
    },
    {
      "cell_type": "code",
      "source": [
        "string = \"Hello World\"\n",
        "print(len(string))"
      ],
      "metadata": {
        "colab": {
          "base_uri": "https://localhost:8080/"
        },
        "id": "DNG0cUFayyfh",
        "outputId": "b3eeb3b0-9932-4a3f-e7fe-3126a00de3f1"
      },
      "execution_count": 6,
      "outputs": [
        {
          "output_type": "stream",
          "name": "stdout",
          "text": [
            "11\n"
          ]
        }
      ]
    },
    {
      "cell_type": "markdown",
      "source": [
        "**Q3. Write a code to slice the first 3 characters from the string \"Python Programming\".**"
      ],
      "metadata": {
        "id": "M6XAaJS9zDUC"
      }
    },
    {
      "cell_type": "code",
      "source": [
        "string = \"Python Programming\"\n",
        "slicing = string[:3]\n",
        "print(slicing)"
      ],
      "metadata": {
        "colab": {
          "base_uri": "https://localhost:8080/"
        },
        "id": "9K5LWomLzUVk",
        "outputId": "4dda5e16-730d-48d6-e110-beefe488c0ef"
      },
      "execution_count": 10,
      "outputs": [
        {
          "output_type": "stream",
          "name": "stdout",
          "text": [
            "Pyt\n"
          ]
        }
      ]
    },
    {
      "cell_type": "markdown",
      "source": [
        "**Q4. Write a code to convert the string \"hello\" to uppercase.**"
      ],
      "metadata": {
        "id": "PTLZoNF0zoMe"
      }
    },
    {
      "cell_type": "code",
      "source": [
        "a = \"hello\"\n",
        "print(a.upper())"
      ],
      "metadata": {
        "colab": {
          "base_uri": "https://localhost:8080/"
        },
        "id": "ocx9Qae2zwhX",
        "outputId": "75f9f4ee-2e29-4c15-86b2-ea474ddbfb6f"
      },
      "execution_count": 11,
      "outputs": [
        {
          "output_type": "stream",
          "name": "stdout",
          "text": [
            "HELLO\n"
          ]
        }
      ]
    },
    {
      "cell_type": "markdown",
      "source": [
        "**Q5. Write a code to replace the word \"apple\" with \"orange\" in the string \"I like apple\".**"
      ],
      "metadata": {
        "id": "6S_5r2BZ0BCm"
      }
    },
    {
      "cell_type": "code",
      "source": [
        "b = \"I like apple\"\n",
        "print(b)"
      ],
      "metadata": {
        "colab": {
          "base_uri": "https://localhost:8080/"
        },
        "id": "2tSlJM_60E2T",
        "outputId": "05fd8a71-24b3-4564-e210-8258ddce7d08"
      },
      "execution_count": 13,
      "outputs": [
        {
          "output_type": "stream",
          "name": "stdout",
          "text": [
            "I like apple\n"
          ]
        }
      ]
    },
    {
      "cell_type": "code",
      "source": [
        "b.replace(\"apple\", \"orange\")"
      ],
      "metadata": {
        "colab": {
          "base_uri": "https://localhost:8080/",
          "height": 36
        },
        "id": "4LdsHo4l0Tf3",
        "outputId": "770ebfed-d015-47ea-c08c-46d0534a967a"
      },
      "execution_count": 15,
      "outputs": [
        {
          "output_type": "execute_result",
          "data": {
            "text/plain": [
              "'I like orange'"
            ],
            "application/vnd.google.colaboratory.intrinsic+json": {
              "type": "string"
            }
          },
          "metadata": {},
          "execution_count": 15
        }
      ]
    },
    {
      "cell_type": "markdown",
      "source": [
        "**Q6. Write a code to create a list with numbers 1 to 5 and print it.**"
      ],
      "metadata": {
        "id": "7_awk-hM0nM-"
      }
    },
    {
      "cell_type": "code",
      "source": [
        "list(range(1,6))"
      ],
      "metadata": {
        "colab": {
          "base_uri": "https://localhost:8080/"
        },
        "id": "FIX1YFC-0s9b",
        "outputId": "bdeb4232-7988-4635-9f5e-6ce180e72bac"
      },
      "execution_count": 29,
      "outputs": [
        {
          "output_type": "execute_result",
          "data": {
            "text/plain": [
              "[1, 2, 3, 4, 5]"
            ]
          },
          "metadata": {},
          "execution_count": 29
        }
      ]
    },
    {
      "cell_type": "code",
      "source": [
        "lis = list(range(1,6))\n",
        "print(lis)"
      ],
      "metadata": {
        "colab": {
          "base_uri": "https://localhost:8080/"
        },
        "id": "f_Z443tR1uOH",
        "outputId": "0e1761e4-7e33-4084-c2ef-66a8db8d7368"
      },
      "execution_count": 31,
      "outputs": [
        {
          "output_type": "stream",
          "name": "stdout",
          "text": [
            "[1, 2, 3, 4, 5]\n"
          ]
        }
      ]
    },
    {
      "cell_type": "code",
      "source": [
        "my_list = [1,2,3,4,5]\n",
        "print(my_list)"
      ],
      "metadata": {
        "colab": {
          "base_uri": "https://localhost:8080/"
        },
        "id": "4E7UjK6T16th",
        "outputId": "a8e909ec-318b-4c3c-ab6f-3b05a95f9502"
      },
      "execution_count": 32,
      "outputs": [
        {
          "output_type": "stream",
          "name": "stdout",
          "text": [
            "[1, 2, 3, 4, 5]\n"
          ]
        }
      ]
    },
    {
      "cell_type": "markdown",
      "source": [
        "**Q7. Write a code to append the number 10 to the list [1, 2, 3, 4].**"
      ],
      "metadata": {
        "id": "ICmZw3nE2Ci2"
      }
    },
    {
      "cell_type": "code",
      "source": [
        "lists = [1,2,3,4]\n",
        "lists.append(10)\n",
        "print(lists)"
      ],
      "metadata": {
        "colab": {
          "base_uri": "https://localhost:8080/"
        },
        "id": "HeZBqbK72MCu",
        "outputId": "b1e459c6-5b46-4c64-af9c-b7164b289150"
      },
      "execution_count": 34,
      "outputs": [
        {
          "output_type": "stream",
          "name": "stdout",
          "text": [
            "[1, 2, 3, 4, 10]\n"
          ]
        }
      ]
    },
    {
      "cell_type": "markdown",
      "source": [
        "**Q8.  Write a code to remove the number 3 from the list [1, 2, 3, 4, 5].**"
      ],
      "metadata": {
        "id": "iYKoPm2s2aLK"
      }
    },
    {
      "cell_type": "code",
      "source": [
        "d = [1,2,3,4,5]\n",
        "d.remove(3)\n",
        "print(d)"
      ],
      "metadata": {
        "colab": {
          "base_uri": "https://localhost:8080/"
        },
        "id": "pAA4p-rp2jkZ",
        "outputId": "d096ba8e-f84a-41c9-bfb3-46f1b2f5b778"
      },
      "execution_count": 35,
      "outputs": [
        {
          "output_type": "stream",
          "name": "stdout",
          "text": [
            "[1, 2, 4, 5]\n"
          ]
        }
      ]
    },
    {
      "cell_type": "markdown",
      "source": [
        "**Q9. Write a code to access the second element in the list ['a', 'b', 'c', 'd'].**"
      ],
      "metadata": {
        "id": "o_QdnT-F2z1X"
      }
    },
    {
      "cell_type": "code",
      "source": [
        "elements = ['a', 'b', 'c', 'd']\n",
        "elements[1]"
      ],
      "metadata": {
        "colab": {
          "base_uri": "https://localhost:8080/",
          "height": 36
        },
        "id": "Bp9wSCg527Pd",
        "outputId": "01f2da3b-b2f4-4db1-d7a5-1ef0d707cb9e"
      },
      "execution_count": 37,
      "outputs": [
        {
          "output_type": "execute_result",
          "data": {
            "text/plain": [
              "'b'"
            ],
            "application/vnd.google.colaboratory.intrinsic+json": {
              "type": "string"
            }
          },
          "metadata": {},
          "execution_count": 37
        }
      ]
    },
    {
      "cell_type": "markdown",
      "source": [
        "**Q10. Write a code to reverse the list [10, 20, 30, 40, 50].**"
      ],
      "metadata": {
        "id": "wUI70qQS3grw"
      }
    },
    {
      "cell_type": "code",
      "source": [
        "e = [10, 20, 30, 40, 50]\n",
        "e.reverse()\n",
        "print(e)"
      ],
      "metadata": {
        "colab": {
          "base_uri": "https://localhost:8080/"
        },
        "id": "UP1ZcRWJ3xJI",
        "outputId": "de5ac50d-850d-48fa-cd8d-87d09ddd4539"
      },
      "execution_count": 42,
      "outputs": [
        {
          "output_type": "stream",
          "name": "stdout",
          "text": [
            "[50, 40, 30, 20, 10]\n"
          ]
        }
      ]
    },
    {
      "cell_type": "markdown",
      "source": [
        "**Q11. Write a code to create a tuple with the elements 100, 200, 300 and print it.**"
      ],
      "metadata": {
        "id": "b6PWzxpl4BZi"
      }
    },
    {
      "cell_type": "code",
      "source": [
        "tuples = (100,200,300)\n",
        "print(tuples)"
      ],
      "metadata": {
        "colab": {
          "base_uri": "https://localhost:8080/"
        },
        "id": "EGvveFRY4Hqj",
        "outputId": "4410a7ee-709d-4d50-b00f-69204d1a39d9"
      },
      "execution_count": 47,
      "outputs": [
        {
          "output_type": "stream",
          "name": "stdout",
          "text": [
            "(100, 200, 300)\n"
          ]
        }
      ]
    },
    {
      "cell_type": "code",
      "source": [
        "type(tuples)"
      ],
      "metadata": {
        "colab": {
          "base_uri": "https://localhost:8080/"
        },
        "id": "u9EWxWFZ4T9H",
        "outputId": "d75ea692-7df3-468d-9047-63c1c1400a55"
      },
      "execution_count": 45,
      "outputs": [
        {
          "output_type": "execute_result",
          "data": {
            "text/plain": [
              "tuple"
            ]
          },
          "metadata": {},
          "execution_count": 45
        }
      ]
    },
    {
      "cell_type": "markdown",
      "source": [
        "**Q12.  Write a code to access the second-to-last element of the tuple ('red', 'green', 'blue', 'yellow').**"
      ],
      "metadata": {
        "id": "QRNs3BuU4h2m"
      }
    },
    {
      "cell_type": "code",
      "source": [
        "tuple_1 = ('red', 'green', 'blue', 'yellow')\n",
        "tuple_1[2]"
      ],
      "metadata": {
        "colab": {
          "base_uri": "https://localhost:8080/",
          "height": 36
        },
        "id": "w4IJY5c84owl",
        "outputId": "ffd7df08-8aba-496e-c78a-0f5eb2fd5c4d"
      },
      "execution_count": 50,
      "outputs": [
        {
          "output_type": "execute_result",
          "data": {
            "text/plain": [
              "'blue'"
            ],
            "application/vnd.google.colaboratory.intrinsic+json": {
              "type": "string"
            }
          },
          "metadata": {},
          "execution_count": 50
        }
      ]
    },
    {
      "cell_type": "markdown",
      "source": [
        "**Q13.  Write a code to find the minimum number in the tuple (10, 20, 5, 15).**"
      ],
      "metadata": {
        "id": "llY3GvOy455C"
      }
    },
    {
      "cell_type": "code",
      "source": [
        "tuple_2 = min(10, 20, 5, 15)\n",
        "print(tuple_2)"
      ],
      "metadata": {
        "colab": {
          "base_uri": "https://localhost:8080/"
        },
        "id": "Xr6qew1y5HRW",
        "outputId": "4061a1a7-4400-4bfe-ac5d-50e07fc39ffa"
      },
      "execution_count": 53,
      "outputs": [
        {
          "output_type": "stream",
          "name": "stdout",
          "text": [
            "5\n"
          ]
        }
      ]
    },
    {
      "cell_type": "markdown",
      "source": [
        "**Q14. Write a code to find the index of the element \"cat\" in the tuple ('dog', 'cat', 'rabbit').**"
      ],
      "metadata": {
        "id": "iKAA41mz5tLh"
      }
    },
    {
      "cell_type": "code",
      "source": [
        "tuple_3 = ('dog', 'cat', 'rabbit')\n",
        "index = tuple_3.index(\"cat\")\n",
        "print(\"The index of the element 'cat' is\", index)"
      ],
      "metadata": {
        "colab": {
          "base_uri": "https://localhost:8080/"
        },
        "id": "gQzNIpIi5v-H",
        "outputId": "8c9b316b-feea-4179-a59d-206a1363d3a7"
      },
      "execution_count": 69,
      "outputs": [
        {
          "output_type": "stream",
          "name": "stdout",
          "text": [
            "The index of the element 'cat' is 1\n"
          ]
        }
      ]
    },
    {
      "cell_type": "markdown",
      "source": [
        "**Q15.  Write a code to create a tuple containing three different fruits and check if \"kiwi\" is in it.**"
      ],
      "metadata": {
        "id": "W9QHoBdA7QHU"
      }
    },
    {
      "cell_type": "code",
      "source": [
        "fruits = (\"apple\", \"banana\", \"kiwi\")\n",
        "if \"kiwi\" in fruits:\n",
        "  print(\"Kiwi is in the fruits\")\n",
        "else:\n",
        "  print(\"Kiwi is not in the fruits\")"
      ],
      "metadata": {
        "colab": {
          "base_uri": "https://localhost:8080/"
        },
        "id": "ic6aHFeO7UML",
        "outputId": "f8916573-169e-4fb9-da90-b76bdefb6df8"
      },
      "execution_count": 73,
      "outputs": [
        {
          "output_type": "stream",
          "name": "stdout",
          "text": [
            "Kiwi is in the fruits\n"
          ]
        }
      ]
    },
    {
      "cell_type": "markdown",
      "source": [
        "**Q16. Write a code to create a set with the elements 'a', 'b', 'c' and print it.**"
      ],
      "metadata": {
        "id": "ZtaneDdI8cQ1"
      }
    },
    {
      "cell_type": "code",
      "source": [
        "sets = {'a', 'b', 'c'}\n",
        "print(sets)"
      ],
      "metadata": {
        "colab": {
          "base_uri": "https://localhost:8080/"
        },
        "id": "mzWLmU5H8gcI",
        "outputId": "01c6ceae-2e66-4c6f-ec63-4b15fa2484ed"
      },
      "execution_count": 76,
      "outputs": [
        {
          "output_type": "stream",
          "name": "stdout",
          "text": [
            "{'a', 'b', 'c'}\n"
          ]
        }
      ]
    },
    {
      "cell_type": "code",
      "source": [
        "type(sets)"
      ],
      "metadata": {
        "colab": {
          "base_uri": "https://localhost:8080/"
        },
        "id": "oN9U4Wz_8rnH",
        "outputId": "463aa4ef-41af-4166-8073-e806ed4abc71"
      },
      "execution_count": 77,
      "outputs": [
        {
          "output_type": "execute_result",
          "data": {
            "text/plain": [
              "set"
            ]
          },
          "metadata": {},
          "execution_count": 77
        }
      ]
    },
    {
      "cell_type": "markdown",
      "source": [
        "**Q17. Write a code to clear all elements from the set {1, 2, 3, 4, 5}.**"
      ],
      "metadata": {
        "id": "_9n09u0e8vAe"
      }
    },
    {
      "cell_type": "code",
      "source": [
        "set_1 = {1, 2, 3, 4, 5}\n",
        "print(type(set_1))\n",
        "print(set_1)"
      ],
      "metadata": {
        "colab": {
          "base_uri": "https://localhost:8080/"
        },
        "id": "dIKMqkHy84Wg",
        "outputId": "b04acc2b-adc1-4450-9b5d-f653affac2cf"
      },
      "execution_count": 85,
      "outputs": [
        {
          "output_type": "stream",
          "name": "stdout",
          "text": [
            "<class 'set'>\n",
            "{1, 2, 3, 4, 5}\n"
          ]
        }
      ]
    },
    {
      "cell_type": "code",
      "source": [
        "set_1.clear()"
      ],
      "metadata": {
        "id": "Zs1Bp7QE9RoO"
      },
      "execution_count": 82,
      "outputs": []
    },
    {
      "cell_type": "markdown",
      "source": [
        "**Q18. Write a code to remove the element 4 from the set {1, 2, 3, 4}.**"
      ],
      "metadata": {
        "id": "JIG1jdxc9pFv"
      }
    },
    {
      "cell_type": "code",
      "source": [
        "set_2 =  {1, 2, 3, 4}\n",
        "set_2.remove(4)\n",
        "print(set_2)"
      ],
      "metadata": {
        "colab": {
          "base_uri": "https://localhost:8080/"
        },
        "id": "L2s_D2J09uVK",
        "outputId": "5036d7ef-76c6-4a59-f466-e5e4bb69b8ff"
      },
      "execution_count": 87,
      "outputs": [
        {
          "output_type": "stream",
          "name": "stdout",
          "text": [
            "{1, 2, 3}\n"
          ]
        }
      ]
    },
    {
      "cell_type": "markdown",
      "source": [
        "**Q19.  Write a code to find the union of two sets {1, 2, 3} and {3, 4, 5}.**"
      ],
      "metadata": {
        "id": "NGwTztcm-ABg"
      }
    },
    {
      "cell_type": "code",
      "source": [
        "set_3 = {1, 2, 3}\n",
        "set_4 = {3, 4, 5}\n",
        "result = set_3.union(set_4)\n",
        "print(result)"
      ],
      "metadata": {
        "colab": {
          "base_uri": "https://localhost:8080/"
        },
        "id": "IWJHeceZ-Fws",
        "outputId": "4609492f-7970-4fec-e18c-7b0a4880fdec"
      },
      "execution_count": 90,
      "outputs": [
        {
          "output_type": "stream",
          "name": "stdout",
          "text": [
            "{1, 2, 3, 4, 5}\n"
          ]
        }
      ]
    },
    {
      "cell_type": "markdown",
      "source": [
        "**Q20.  Write a code to find the intersection of two sets {1, 2, 3} and {2, 3, 4}.**"
      ],
      "metadata": {
        "id": "Zso5vjXd-1Ps"
      }
    },
    {
      "cell_type": "code",
      "source": [
        "set_5 =  {1, 2, 3}\n",
        "set_6 =  {2, 3, 4}\n",
        "results = set_5.intersection(set_6)\n",
        "print(results)"
      ],
      "metadata": {
        "colab": {
          "base_uri": "https://localhost:8080/"
        },
        "id": "eo4fkrK4-3v5",
        "outputId": "f11c2348-faf1-44b6-8548-a7f3d1f62e10"
      },
      "execution_count": 91,
      "outputs": [
        {
          "output_type": "stream",
          "name": "stdout",
          "text": [
            "{2, 3}\n"
          ]
        }
      ]
    },
    {
      "cell_type": "markdown",
      "source": [
        "**Q21.  Write a code to create a dictionary with the keys \"name\", \"age\", and \"city\", and print it.**"
      ],
      "metadata": {
        "id": "RAP7vY3A_Owe"
      }
    },
    {
      "cell_type": "code",
      "source": [
        "dic = {\n",
        "    \"name\" : \"Aastha\",\n",
        "    \"age\" : 20,\n",
        "    \"city\" : \"ggn\"\n",
        "}\n",
        "print(dic)"
      ],
      "metadata": {
        "colab": {
          "base_uri": "https://localhost:8080/"
        },
        "id": "vtLsmK7F_a9e",
        "outputId": "d62a24d0-453e-4ffc-fa3b-ac475dbb54b2"
      },
      "execution_count": 94,
      "outputs": [
        {
          "output_type": "stream",
          "name": "stdout",
          "text": [
            "{'name': 'Aastha', 'age': 20, 'city': 'ggn'}\n"
          ]
        }
      ]
    },
    {
      "cell_type": "markdown",
      "source": [
        "**Q22.  Write a code to add a new key-value pair \"country\": \"USA\" to the dictionary {'name': 'John', 'age': 25}.**"
      ],
      "metadata": {
        "id": "XEWRNRcDAA3y"
      }
    },
    {
      "cell_type": "code",
      "source": [
        "dic_1 = {\n",
        "    \"name\" : \"John\",\n",
        "    \"age\" : 25\n",
        "}\n",
        "dic_1[\"country\"] = \"USA\"\n",
        "print(dic_1)"
      ],
      "metadata": {
        "colab": {
          "base_uri": "https://localhost:8080/"
        },
        "id": "jyS9IjpKEHmK",
        "outputId": "c4149dca-0494-4e50-8b26-7ec8ac9345ca"
      },
      "execution_count": 107,
      "outputs": [
        {
          "output_type": "stream",
          "name": "stdout",
          "text": [
            "{'name': 'John', 'age': 25, 'country': 'USA'}\n"
          ]
        }
      ]
    },
    {
      "cell_type": "markdown",
      "source": [
        "**Q23. Write a code to access the value associated with the key \"name\" in the dictionary {'name': 'Alice', 'age': 30}.**"
      ],
      "metadata": {
        "id": "BNRPig1xFESf"
      }
    },
    {
      "cell_type": "code",
      "source": [
        "dic_2 = {\n",
        "    \"name\" : \"Aastha\",\n",
        "    \"age\" : 25\n",
        "}\n",
        "print(dic_2)"
      ],
      "metadata": {
        "colab": {
          "base_uri": "https://localhost:8080/"
        },
        "id": "KaEyg9gNFPhX",
        "outputId": "cb245eb4-9346-4e81-aee9-80d164f0957a"
      },
      "execution_count": 113,
      "outputs": [
        {
          "output_type": "stream",
          "name": "stdout",
          "text": [
            "{'name': 'Aastha', 'age': 25}\n"
          ]
        }
      ]
    },
    {
      "cell_type": "code",
      "source": [
        "dic_2[\"name\"]"
      ],
      "metadata": {
        "colab": {
          "base_uri": "https://localhost:8080/",
          "height": 36
        },
        "id": "aB0gYpE7Fdk1",
        "outputId": "24be6b1a-60aa-420b-c6ef-89e6400c90b2"
      },
      "execution_count": 114,
      "outputs": [
        {
          "output_type": "execute_result",
          "data": {
            "text/plain": [
              "'Aastha'"
            ],
            "application/vnd.google.colaboratory.intrinsic+json": {
              "type": "string"
            }
          },
          "metadata": {},
          "execution_count": 114
        }
      ]
    },
    {
      "cell_type": "markdown",
      "source": [
        "**Q24.  Write a code to remove the key \"age\" from the dictionary {'name': 'Bob', 'age': 22, 'city': 'New York'}.**"
      ],
      "metadata": {
        "id": "rEKbP0LTFsOh"
      }
    },
    {
      "cell_type": "code",
      "source": [
        "my_dict = {'name': 'Bob', 'age': 22, 'city': 'New York'}\n",
        "my_dict.pop(\"age\")\n",
        "print(my_dict)"
      ],
      "metadata": {
        "colab": {
          "base_uri": "https://localhost:8080/"
        },
        "id": "VNkPNsMCFysw",
        "outputId": "15bd9148-39f4-4068-d2eb-1858ea6c841d"
      },
      "execution_count": 123,
      "outputs": [
        {
          "output_type": "stream",
          "name": "stdout",
          "text": [
            "{'name': 'Bob', 'city': 'New York'}\n"
          ]
        }
      ]
    },
    {
      "cell_type": "markdown",
      "source": [
        "**Q25.  Write a code to check if the key \"city\" exists in the dictionary {'name': 'Alice', 'city': 'Paris'}.**"
      ],
      "metadata": {
        "id": "j8FR_Qb3Gkok"
      }
    },
    {
      "cell_type": "code",
      "source": [
        "dictionary = {'name': 'Alice', 'city': 'Paris'}\n",
        "if \"city\" in dictionary:\n",
        "  print(\"Key 'city' exist in the dictionary\")\n",
        "else:\n",
        "  print(\"Key 'city' does not exist in the dictionary\")"
      ],
      "metadata": {
        "colab": {
          "base_uri": "https://localhost:8080/"
        },
        "id": "n9j0uUJcGqy5",
        "outputId": "7edbfbf2-0786-4338-b922-74734c8afc53"
      },
      "execution_count": 125,
      "outputs": [
        {
          "output_type": "stream",
          "name": "stdout",
          "text": [
            "Key 'city' exist in the dictionary\n"
          ]
        }
      ]
    },
    {
      "cell_type": "markdown",
      "source": [
        "**Q26.  Write a code to create a list, a tuple, and a dictionary, and print them all.**"
      ],
      "metadata": {
        "id": "nj6vORphHTGs"
      }
    },
    {
      "cell_type": "code",
      "source": [
        "listsss = [1,2,3]\n",
        "tupless = (1,2,3)\n",
        "dictionaryy = {\"name\" : \"aastha\", \"age\" : 22}\n",
        "print(type(listsss), listsss)\n",
        "print(type(tupless), tupless)\n",
        "print(type(dictionaryy), dictionaryy)"
      ],
      "metadata": {
        "colab": {
          "base_uri": "https://localhost:8080/"
        },
        "id": "zMas2MdwHYTC",
        "outputId": "2a0931bc-73f3-4d8d-d7bd-122b03e41b16"
      },
      "execution_count": 128,
      "outputs": [
        {
          "output_type": "stream",
          "name": "stdout",
          "text": [
            "<class 'list'> [1, 2, 3]\n",
            "<class 'tuple'> (1, 2, 3)\n",
            "<class 'dict'> {'name': 'aastha', 'age': 22}\n"
          ]
        }
      ]
    },
    {
      "cell_type": "markdown",
      "source": [
        "**Q27. Write a code to create a list of 5 random numbers between 1 and 100, sort it in ascending order, and print the\n",
        "result** **.(replaced)**"
      ],
      "metadata": {
        "id": "BbZgxngQIX0A"
      }
    },
    {
      "cell_type": "code",
      "source": [
        "import random\n",
        "\n",
        "# Generate 5 random numbers between 1 and 100\n",
        "random_numbers = [random.randint(1, 100) for _ in range(5)]\n",
        "\n",
        "# Sort the list in ascending order\n",
        "random_numbers.sort()\n",
        "\n",
        "# Print the sorted list\n",
        "print(random_numbers)"
      ],
      "metadata": {
        "colab": {
          "base_uri": "https://localhost:8080/"
        },
        "id": "yqVc25b-IcWH",
        "outputId": "ba11a902-0c5f-4bab-95ad-3dfdc4888fb8"
      },
      "execution_count": 130,
      "outputs": [
        {
          "output_type": "stream",
          "name": "stdout",
          "text": [
            "[9, 24, 64, 66, 77]\n"
          ]
        }
      ]
    },
    {
      "cell_type": "markdown",
      "source": [
        "**Q28. Write a code to create a list with strings and print the element at the third index.**"
      ],
      "metadata": {
        "id": "fuvEgURUJo5i"
      }
    },
    {
      "cell_type": "code",
      "source": [
        "variable = [\"aastha\", \"atharav\", \"bipasha\", \"rahul\", \"yash\"]\n",
        "variable[3]"
      ],
      "metadata": {
        "colab": {
          "base_uri": "https://localhost:8080/",
          "height": 36
        },
        "id": "E89Kfw2NJuy_",
        "outputId": "fb3bca72-456f-466c-d59d-04940d6b0e45"
      },
      "execution_count": 140,
      "outputs": [
        {
          "output_type": "execute_result",
          "data": {
            "text/plain": [
              "'rahul'"
            ],
            "application/vnd.google.colaboratory.intrinsic+json": {
              "type": "string"
            }
          },
          "metadata": {},
          "execution_count": 140
        }
      ]
    },
    {
      "cell_type": "markdown",
      "source": [
        "**Q29. Write a code to combine two dictionaries into one and print the result.**"
      ],
      "metadata": {
        "id": "li-4QmflKmf9"
      }
    },
    {
      "cell_type": "code",
      "source": [
        "data_1 = {'name': 'aastha', 'age': 22, 'city': 'New York'}\n",
        "data_2 = {'age': 24, 'city': 'Paris'}\n",
        "resultss = data_1.update(data_2)\n",
        "print(resultss)"
      ],
      "metadata": {
        "colab": {
          "base_uri": "https://localhost:8080/"
        },
        "id": "wCYyjPquKued",
        "outputId": "9390a042-21b5-497e-b136-31572a420ffc"
      },
      "execution_count": 149,
      "outputs": [
        {
          "output_type": "stream",
          "name": "stdout",
          "text": [
            "None\n"
          ]
        }
      ]
    },
    {
      "cell_type": "code",
      "source": [
        "data_1 = {'name': 'aastha', 'age': 22}\n",
        "data_2 = {'score': 45, 'city': 'Paris'}\n",
        "resultss = {**data_1, **data_2}\n",
        "print(resultss)"
      ],
      "metadata": {
        "colab": {
          "base_uri": "https://localhost:8080/"
        },
        "id": "tIeNFtqpLw64",
        "outputId": "297ce368-e231-4c0e-9443-94ffde7e7309"
      },
      "execution_count": 148,
      "outputs": [
        {
          "output_type": "stream",
          "name": "stdout",
          "text": [
            "{'name': 'aastha', 'age': 22, 'score': 45, 'city': 'Paris'}\n"
          ]
        }
      ]
    },
    {
      "cell_type": "markdown",
      "source": [
        "**Q30. Write a code to convert a list of strings into a set.**"
      ],
      "metadata": {
        "id": "jmNn9ltPM4A7"
      }
    },
    {
      "cell_type": "code",
      "source": [
        "variable_1 = [\"aastha\", \"atharav\", \"bipasha\", \"rahul\", \"yash\"]\n",
        "changed = set(variable_1)\n",
        "print(changed)"
      ],
      "metadata": {
        "colab": {
          "base_uri": "https://localhost:8080/"
        },
        "id": "kitC3MGAM-pB",
        "outputId": "779fbdb1-fd3b-475f-aa3f-0806d1e35c13"
      },
      "execution_count": 151,
      "outputs": [
        {
          "output_type": "stream",
          "name": "stdout",
          "text": [
            "{'yash', 'aastha', 'bipasha', 'rahul', 'atharav'}\n"
          ]
        }
      ]
    },
    {
      "cell_type": "code",
      "source": [
        "type(changed)"
      ],
      "metadata": {
        "colab": {
          "base_uri": "https://localhost:8080/"
        },
        "id": "4oe2d0aqNhOK",
        "outputId": "db9b5dfe-5748-4579-d5c7-fa1b5f2c67e4"
      },
      "execution_count": 153,
      "outputs": [
        {
          "output_type": "execute_result",
          "data": {
            "text/plain": [
              "set"
            ]
          },
          "metadata": {},
          "execution_count": 153
        }
      ]
    }
  ]
}