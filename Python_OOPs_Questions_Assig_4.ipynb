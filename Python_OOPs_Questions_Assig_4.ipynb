{
  "nbformat": 4,
  "nbformat_minor": 0,
  "metadata": {
    "colab": {
      "provenance": []
    },
    "kernelspec": {
      "name": "python3",
      "display_name": "Python 3"
    },
    "language_info": {
      "name": "python"
    }
  },
  "cells": [
    {
      "cell_type": "markdown",
      "source": [
        "# **Python OOPs Questions Assign-3**\n"
      ],
      "metadata": {
        "id": "YMBta_iuovQC"
      }
    },
    {
      "cell_type": "markdown",
      "source": [
        "**Q1. What is Object-Oriented Programming (OOP) ?**"
      ],
      "metadata": {
        "id": "_u_FFofmo7GP"
      }
    },
    {
      "cell_type": "markdown",
      "source": [
        "Object-oriented programming is based on the concept of objects.\n",
        "\n",
        "In object-oriented programming data structures, or objects are defined, each with its own properties or attributes. Each object can also contain its own procedures or methods. Software is designed by using objects that interact with one another."
      ],
      "metadata": {
        "id": "9YFqKR9DpEwN"
      }
    },
    {
      "cell_type": "markdown",
      "source": [
        "**Q2. What is a class in OOP ?**"
      ],
      "metadata": {
        "id": "1wikUW5OpaXf"
      }
    },
    {
      "cell_type": "markdown",
      "source": [
        " A class serves as a blueprint or template for creating objects. It defines the structure and behavior that its objects will possess."
      ],
      "metadata": {
        "id": "N7iW3Lb8plun"
      }
    },
    {
      "cell_type": "markdown",
      "source": [
        "**Q3. What is an object in OOP ?**"
      ],
      "metadata": {
        "id": "QaMvKmXHpy7N"
      }
    },
    {
      "cell_type": "markdown",
      "source": [
        "An object is a fundamental building block that represents an instance of a class. It encapsulates both data (attributes or properties) and the functions or procedures (methods or behaviors) that operate on that data."
      ],
      "metadata": {
        "id": "IfqRUL2yp5_A"
      }
    },
    {
      "cell_type": "markdown",
      "source": [
        "**Q4. What is the difference between abstraction and encapsulation ?**"
      ],
      "metadata": {
        "id": "nPs1IOXxqAeO"
      }
    },
    {
      "cell_type": "markdown",
      "source": [
        "- Abstraction aims to simplify complexity by showing only relevant information, while encapsulation aims to protect data and control access.\n",
        "- Abstraction focuses on the \"what\" (interface), while encapsulation focuses on the \"how\" (implementation details and data protection).\n",
        "-Abstraction often involves defining interfaces and hiding implementation, while encapsulation involves bundling data and methods and controlling their access."
      ],
      "metadata": {
        "id": "dEx8J05uqgV5"
      }
    },
    {
      "cell_type": "markdown",
      "source": [
        "**Q5. What are dunder methods in Python ?**"
      ],
      "metadata": {
        "id": "LlIrz-i2qpLv"
      }
    },
    {
      "cell_type": "markdown",
      "source": [
        "Dunder methods, also known as magic methods or special methods, are distinct methods in Python that are identified by their double leading and double trailing underscores (e.g., __init__, __str__, __add__).\n",
        "\n",
        "The term \"dunder\" is a contraction of \"double underscore.\""
      ],
      "metadata": {
        "id": "qpuvbnVDquLT"
      }
    },
    {
      "cell_type": "markdown",
      "source": [
        "**Q6. Explain the concept of inheritance in OOP.**"
      ],
      "metadata": {
        "id": "9QiPk98Bq4fp"
      }
    },
    {
      "cell_type": "markdown",
      "source": [
        "Inheritance is the concept in OOPs in which one class inherits the attributes and methods of another class. The class whose properties and methods are inherited is known as the Parent class. And the class that inherits the properties from the parent class is the Child class."
      ],
      "metadata": {
        "id": "dpwP7bn0rKQN"
      }
    },
    {
      "cell_type": "markdown",
      "source": [
        "**Q7. What is polymorphism in OOP ?**"
      ],
      "metadata": {
        "id": "ZDHOakBLrPkJ"
      }
    },
    {
      "cell_type": "markdown",
      "source": [
        "Polymorphism in object-oriented programming (OOP) is the ability of an object to take on many forms.\n",
        "Polymorphism enables you to use a single interface to represent different underlying classes.\n",
        "\n",
        "This concept is fundamental to OOP and allows for greater flexibility, code reusability, and maintainability."
      ],
      "metadata": {
        "id": "fK-2uRsjrVAk"
      }
    },
    {
      "cell_type": "markdown",
      "source": [
        "**Q8. How is encapsulation achieved in Python ?**"
      ],
      "metadata": {
        "id": "gbj0k878r8Xe"
      }
    },
    {
      "cell_type": "markdown",
      "source": [
        "To achieve encapsulation, we typically declare **data members as private**: This restricts direct access to the data from outside the class.\n",
        "\n",
        "**Provide public methods** (getters and setters): These methods act as intermediaries, allowing controlled access to the data. Getters retrieve data values, while setters modify them."
      ],
      "metadata": {
        "id": "X0DT1lE6sFCu"
      }
    },
    {
      "cell_type": "markdown",
      "source": [
        "**Q9. What is a constructor in Python ?**"
      ],
      "metadata": {
        "id": "rNN6oQvts8il"
      }
    },
    {
      "cell_type": "markdown",
      "source": [
        "In Python, a constructor is a special method within a class that is automatically invoked when a new object (instance) of that class is created. Its primary purpose is to initialize the object's attributes and set up its initial state.\n",
        "\n",
        "Python's constructor is defined using the __init__ method."
      ],
      "metadata": {
        "id": "36cyRNiLtDyN"
      }
    },
    {
      "cell_type": "markdown",
      "source": [
        "**Q10. What are class and static methods in Python ?**"
      ],
      "metadata": {
        "id": "2wWJtL3ItNmH"
      }
    },
    {
      "cell_type": "markdown",
      "source": [
        "**Class methods** are used when we need to access or modify class-level attributes, or when we need to create new instances of the class.\n",
        "\n",
        " -Defined using the @classmethod decorator.\n",
        "\n",
        "**Static methods** are used when we have a utility function that does not depend on any state from the class or the instance.\n",
        "\n",
        " -Defined using the @staticmethod decorator."
      ],
      "metadata": {
        "id": "rdazHihrtZR1"
      }
    },
    {
      "cell_type": "markdown",
      "source": [
        "**Q11. What is method overloading in Python ?**"
      ],
      "metadata": {
        "id": "7y_Iody5t2m9"
      }
    },
    {
      "cell_type": "markdown",
      "source": [
        "Method overloading in Python means using one method name to handle different types or numbers of arguments. We can't do it directly, but we can achieve it using default arguments or *args."
      ],
      "metadata": {
        "id": "KlcZdPDPuFdW"
      }
    },
    {
      "cell_type": "markdown",
      "source": [
        "**Q12. What is method overriding in OOP ?**"
      ],
      "metadata": {
        "id": "QUApb7DVuYhk"
      }
    },
    {
      "cell_type": "markdown",
      "source": [
        "Method overriding in Python is when we have two methods with the same name that each perform different tasks. This is an important feature of inheritance in Python. In method overriding, the child class can change its functions that are defined by its ancestral classes."
      ],
      "metadata": {
        "id": "0cYsFyHuueHo"
      }
    },
    {
      "cell_type": "markdown",
      "source": [
        "**Q13.  What is a property decorator in Python ?**"
      ],
      "metadata": {
        "id": "Zqv6YC6iuvAW"
      }
    },
    {
      "cell_type": "markdown",
      "source": [
        "A property decorator in Python, denoted by @property, is a built-in decorator that allows a method within a class to be accessed and managed as if it were an attribute."
      ],
      "metadata": {
        "id": "OXYAqwK5u0P8"
      }
    },
    {
      "cell_type": "markdown",
      "source": [
        "**Q14. Why is polymorphism important in OOP ?**"
      ],
      "metadata": {
        "id": "81s9Ims8u_zn"
      }
    },
    {
      "cell_type": "markdown",
      "source": [
        "Polymorphism is crucial in object-oriented programming (OOP) because it enables code flexibility, reusability, and maintainability by allowing objects of different types to be treated as objects of a common type."
      ],
      "metadata": {
        "id": "43bUsAchvKWu"
      }
    },
    {
      "cell_type": "markdown",
      "source": [
        "**Q15.  What is an abstract class in Python ?**"
      ],
      "metadata": {
        "id": "r1gJDoG7vNl-"
      }
    },
    {
      "cell_type": "markdown",
      "source": [
        "An abstract class is like a template for other classes. It defines methods that must be included in any class that inherits from it, but it doesn't provide the actual code for those methods."
      ],
      "metadata": {
        "id": "76jidAvbvU14"
      }
    },
    {
      "cell_type": "markdown",
      "source": [
        "**Q16. What are the advantages of OOP ?**"
      ],
      "metadata": {
        "id": "YaN10VwPviwi"
      }
    },
    {
      "cell_type": "markdown",
      "source": [
        "Object-Oriented Programming (OOP) offers several advantages, including improved code organization, reusability, flexibility, and maintainability. OOP achieves these benefits through concepts like encapsulation, inheritance, and polymorphism."
      ],
      "metadata": {
        "id": "lDbL-C8tvoJk"
      }
    },
    {
      "cell_type": "markdown",
      "source": [
        "**Q17. What is the difference between a class variable and an instance variable ?**"
      ],
      "metadata": {
        "id": "3FQivbEavzKn"
      }
    },
    {
      "cell_type": "markdown",
      "source": [
        "Class variables are shared by all instances of a class. There is only one copy of a class variable, regardless of how many objects are created from the class. Changes made to a class variable through one instance will be reflected in all other instances.\n",
        "\n",
        "Instance variables are unique to each instance (object) of a class. Each object gets its own separate copy of the instance variables. Changes made to an instance variable in one object do not affect the same variable in other objects."
      ],
      "metadata": {
        "id": "6A01y8iIv5Jc"
      }
    },
    {
      "cell_type": "markdown",
      "source": [
        "**Q18. What is multiple inheritance in Python ?**"
      ],
      "metadata": {
        "id": "EXxsyuJ_wM6B"
      }
    },
    {
      "cell_type": "markdown",
      "source": [
        "Multiple inheritance in Python is a feature of object-oriented programming that allows a class to inherit attributes and methods from more than one parent (or base) class.\n",
        "\n",
        "This means a single child class can combine functionalities and characteristics from multiple distinct sources."
      ],
      "metadata": {
        "id": "Hw8dfUF6wYHs"
      }
    },
    {
      "cell_type": "markdown",
      "source": [
        "**Q19. Explain the purpose of ‘’_ _ str _ _’ and ‘ _ _ repr _ _’ ‘ methods in Python.**"
      ],
      "metadata": {
        "id": "cAMDv3U8wh0W"
      }
    },
    {
      "cell_type": "markdown",
      "source": [
        "In Python, __str__ and __repr__ are special methods (also known as \"dunder methods\") used to define how an object is represented as a string.\n",
        "\n",
        "**_ _ str _ _** allows defining how an object should be converted to a string when used with str() function or when displayed using print()\n",
        "\n",
        "**_ _repr_ _** method allows instances of the Book class to provide a detailed and developer-friendly string representation, which is useful for debugging and logging."
      ],
      "metadata": {
        "id": "Q4L4MSiow76q"
      }
    },
    {
      "cell_type": "markdown",
      "source": [
        "**Q20. What is the significance of the ‘super()’ function in Python.**"
      ],
      "metadata": {
        "id": "LLmMYj3bxTjo"
      }
    },
    {
      "cell_type": "markdown",
      "source": [
        "In Python, super() is a built-in function that allows access to methods and properties of a parent or superclass from a child or subclass. This is useful when working with inheritance in object-oriented programming."
      ],
      "metadata": {
        "id": "XssRH8n_yAez"
      }
    },
    {
      "cell_type": "markdown",
      "source": [
        "**Q21. What is the significance of the __del__ method in Python ?**"
      ],
      "metadata": {
        "id": "YlHYGZsPyMVH"
      }
    },
    {
      "cell_type": "markdown",
      "source": [
        "Python automatically calls . _ _del_ _() when a given object is about to be destroyed. This call allows the object to release external resources and clean itself up."
      ],
      "metadata": {
        "id": "Zl9MOHNVyRkm"
      }
    },
    {
      "cell_type": "markdown",
      "source": [
        "**Q22. What is the difference between @staticmethod and @classmethod in Python ?**"
      ],
      "metadata": {
        "id": "f_Ow0nOxyZS8"
      }
    },
    {
      "cell_type": "markdown",
      "source": [
        "@staticmethod:\n",
        "For functions that belong to the class conceptually but are independent of any instance or class state.\n",
        "\n",
        "@classmethod:\n",
        "For methods that need to interact with the class itself (e.g., class variables, alternative constructors)."
      ],
      "metadata": {
        "id": "IHkDMfiIyepK"
      }
    },
    {
      "cell_type": "markdown",
      "source": [
        "**Q23. How does polymorphism work in Python with inheritance ?**"
      ],
      "metadata": {
        "id": "NdnH-KX3yuXB"
      }
    },
    {
      "cell_type": "markdown",
      "source": [
        "Polymorphism in Python, particularly in conjunction with inheritance, primarily operates through method overriding."
      ],
      "metadata": {
        "id": "fAQnF3FkzETK"
      }
    },
    {
      "cell_type": "markdown",
      "source": [
        "**Q24. What is method chaining in Python OOP ?**"
      ],
      "metadata": {
        "id": "qXPZmZtLzFm0"
      }
    },
    {
      "cell_type": "markdown",
      "source": [
        "Method chaining is a powerful technique in Python programming that allows us to call multiple methods on an object in a single, continuous line of code."
      ],
      "metadata": {
        "id": "hCRd5saXzkuY"
      }
    },
    {
      "cell_type": "markdown",
      "source": [
        "**Q25. What is the purpose of the _ _call_ _ method in Python ?**"
      ],
      "metadata": {
        "id": "gf7-cR2XzsC7"
      }
    },
    {
      "cell_type": "markdown",
      "source": [
        "The _ _call_ _ method in Python allows instances of a class to be invoked or called as if they were regular functions. When this method is defined within a class, calling an object of that class (e.g. my_object()) automatically triggers the execution of the _ _call_ _ method."
      ],
      "metadata": {
        "id": "ZvurSzYVzxhg"
      }
    },
    {
      "cell_type": "markdown",
      "source": [
        "# **Practical Questions**"
      ],
      "metadata": {
        "id": "XSD8JGhL0cOE"
      }
    },
    {
      "cell_type": "markdown",
      "source": [
        "**Q1. Create a parent class Animal with a method speak() that prints a generic message. Create a child class Dog that overrides the speak() method to print \"Bark!\".**"
      ],
      "metadata": {
        "id": "RcqEWVWY0g04"
      }
    },
    {
      "cell_type": "code",
      "source": [
        "# Parent class\n",
        "class Animal:\n",
        "    def speak(self):\n",
        "        print(\"This animal makes a sound.\")  # Generic message\n",
        "\n",
        "# Child class inheriting from Animal\n",
        "class Dog(Animal):\n",
        "    def speak(self):\n",
        "        print(\"Bark!\")  # Overriding the speak() method\n",
        "\n",
        "# Example Usage\n",
        "animal_instance = Animal()\n",
        "dog_instance = Dog()\n",
        "\n",
        "animal_instance.speak()  # Output: This animal makes a sound.\n",
        "dog_instance.speak()      # Output: Bark!"
      ],
      "metadata": {
        "colab": {
          "base_uri": "https://localhost:8080/"
        },
        "id": "5J6H1Y4801Wb",
        "outputId": "2bbdc8f5-4c09-4319-a39d-61e3f196b0eb"
      },
      "execution_count": 3,
      "outputs": [
        {
          "output_type": "stream",
          "name": "stdout",
          "text": [
            "This animal makes a sound.\n",
            "Bark!\n"
          ]
        }
      ]
    },
    {
      "cell_type": "markdown",
      "source": [
        "**Q2. Write a program to create an abstract class Shape with a method area(). Derive classes Circle and Rectangle from it and implement the area() method in both.**"
      ],
      "metadata": {
        "id": "J0Uzevsl1moA"
      }
    },
    {
      "cell_type": "code",
      "source": [
        "from abc import ABC, abstractmethod\n",
        "\n",
        "class Shape(ABC):\n",
        "    @abstractmethod\n",
        "    def area(self):\n",
        "      pass\n",
        "\n",
        "class Circle(Shape):\n",
        "    def __init__(self, radius):\n",
        "        if radius <= 0:\n",
        "            raise ValueError(\"Radius must be a positive number.\")\n",
        "        self.radius = radius\n",
        "\n",
        "    def area(self):\n",
        "        return 3.14159 * self.radius * self.radius\n",
        "\n",
        "class Rectangle(Shape):\n",
        "    def __init__(self, length, width):\n",
        "        if length <= 0 or width <= 0:\n",
        "            raise ValueError(\"Length and width must be positive numbers.\")\n",
        "        self.length = length\n",
        "        self.width = width\n",
        "\n",
        "    def area(self):\n",
        "        return self.length * self.width"
      ],
      "metadata": {
        "id": "9qoF54Ss2TsI"
      },
      "execution_count": 6,
      "outputs": []
    },
    {
      "cell_type": "code",
      "source": [
        "# Example Usage:\n",
        "if __name__ == \"__main__\":\n",
        "    try:\n",
        "        circle = Circle(5)\n",
        "        print(f\"Area of Circle: {circle.area()}\")\n",
        "\n",
        "        rectangle = Rectangle(4, 6)\n",
        "        print(f\"Area of Rectangle: {rectangle.area()}\")\n",
        "\n",
        "    except ValueError as e:\n",
        "        print(f\"Error: {e}\")"
      ],
      "metadata": {
        "colab": {
          "base_uri": "https://localhost:8080/"
        },
        "id": "fidPCTvd22up",
        "outputId": "9c44297d-60ef-4f59-b759-96b6e2b38f50"
      },
      "execution_count": 7,
      "outputs": [
        {
          "output_type": "stream",
          "name": "stdout",
          "text": [
            "Area of Circle: 78.53975\n",
            "Area of Rectangle: 24\n"
          ]
        }
      ]
    },
    {
      "cell_type": "markdown",
      "source": [
        "**Q3. Implement a multi-level inheritance scenario where a class Vehicle has an attribute type. Derive a class Car and further derive a class ElectricCar that adds a battery attribute.**"
      ],
      "metadata": {
        "id": "1P4xBGMn3EmZ"
      }
    },
    {
      "cell_type": "code",
      "source": [
        "class Vehicle:\n",
        "    def __init__(self, vehicle_type):\n",
        "        self.type = vehicle_type\n",
        "\n",
        "    def get_type(self):\n",
        "        return self.type\n",
        "\n",
        "class Car(Vehicle):\n",
        "    def __init__(self, vehicle_type, num_doors):\n",
        "        super().__init__(vehicle_type)\n",
        "        self.num_doors = num_doors\n",
        "\n",
        "    def get_num_doors(self):\n",
        "        return self.num_doors\n",
        "\n",
        "class ElectricCar(Car):\n",
        "    def __init__(self, vehicle_type, num_doors, battery_capacity):\n",
        "        super().__init__(vehicle_type, num_doors)\n",
        "        self.battery_capacity = battery_capacity\n",
        "\n",
        "    def get_battery_capacity(self):\n",
        "        return self.battery_capacity"
      ],
      "metadata": {
        "id": "oIYP-vET3LNH"
      },
      "execution_count": 9,
      "outputs": []
    },
    {
      "cell_type": "code",
      "source": [
        "# Example usage:\n",
        "my_electric_car = ElectricCar(\"Electric\", 4, \"75 kWh\")\n",
        "\n",
        "print(f\"Vehicle Type: {my_electric_car.get_type()}\")\n",
        "print(f\"Number of Doors: {my_electric_car.get_num_doors()}\")\n",
        "print(f\"Battery Capacity: {my_electric_car.get_battery_capacity()}\")"
      ],
      "metadata": {
        "colab": {
          "base_uri": "https://localhost:8080/"
        },
        "id": "FnW3YVI03bD5",
        "outputId": "5f9ecb08-b9e7-4d3c-c9d9-9999fb2d4513"
      },
      "execution_count": 11,
      "outputs": [
        {
          "output_type": "stream",
          "name": "stdout",
          "text": [
            "Vehicle Type: Electric\n",
            "Number of Doors: 4\n",
            "Battery Capacity: 75 kWh\n"
          ]
        }
      ]
    },
    {
      "cell_type": "markdown",
      "source": [
        "**Q4.  Demonstrate polymorphism by creating a base class Bird with a method fly(). Create two derived classes Sparrow and Penguin that override the fly() method**"
      ],
      "metadata": {
        "id": "IzMoZ2hc3l2R"
      }
    },
    {
      "cell_type": "code",
      "source": [
        "class Bird:\n",
        "    def fly(self):\n",
        "        print(\"Most birds can fly.\")\n",
        "\n",
        "class Sparrow(Bird):\n",
        "    def fly(self):\n",
        "        print(\"Sparrows fly high in the sky.\")\n",
        "\n",
        "class Penguin(Bird):\n",
        "    def fly(self):\n",
        "        print(\"Penguins cannot fly, they waddle and swim.\")\n",
        "\n",
        "# Demonstrate polymorphism\n",
        "bird1 = Bird()\n",
        "sparrow1 = Sparrow()\n",
        "penguin1 = Penguin()\n",
        "\n",
        "bird1.fly()\n",
        "sparrow1.fly()\n",
        "penguin1.fly()"
      ],
      "metadata": {
        "colab": {
          "base_uri": "https://localhost:8080/"
        },
        "id": "O7RisQzi3ttS",
        "outputId": "a84dba5f-2a17-4914-89e8-d93291d0d347"
      },
      "execution_count": 12,
      "outputs": [
        {
          "output_type": "stream",
          "name": "stdout",
          "text": [
            "Most birds can fly.\n",
            "Sparrows fly high in the sky.\n",
            "Penguins cannot fly, they waddle and swim.\n"
          ]
        }
      ]
    },
    {
      "cell_type": "markdown",
      "source": [
        "**Q5. Write a program to demonstrate encapsulation by creating a class BankAccount with private attributes balance and methods to deposit, withdraw, and check balance.**"
      ],
      "metadata": {
        "id": "aQwcSeoE4E5F"
      }
    },
    {
      "cell_type": "code",
      "source": [
        "class BankAccount:\n",
        "    def __init__(self, initial_balance=0):\n",
        "        if initial_balance >= 0:\n",
        "            self.__balance = initial_balance  # Private attribute for the balance\n",
        "        else:\n",
        "            print(\"Initial balance cannot be negative.\")\n",
        "            self.__balance = 0\n",
        "\n",
        "    def deposit(self, amount):\n",
        "        if amount > 0:\n",
        "            self.__balance += amount\n",
        "            print(f\"Deposited ${amount:.2f}. New balance: ${self.__balance:.2f}\")\n",
        "        else:\n",
        "            print(\"Deposit amount must be positive.\")\n",
        "\n",
        "    def withdraw(self, amount):\n",
        "        if amount > 0 and amount <= self.__balance:\n",
        "            self.__balance -= amount\n",
        "            print(f\"Withdrew ${amount:.2f}. New balance: ${self.__balance:.2f}\")\n",
        "        else:\n",
        "            print(\"Invalid withdrawal amount or insufficient balance.\")\n",
        "\n",
        "    def get_balance(self):\n",
        "        return self.__balance"
      ],
      "metadata": {
        "id": "xTgal02u4MVd"
      },
      "execution_count": 14,
      "outputs": []
    },
    {
      "cell_type": "code",
      "source": [
        "# Demonstrate the BankAccount class\n",
        "if __name__ == \"__main__\":\n",
        "    my_account = BankAccount(1000)\n",
        "\n",
        "    my_account.deposit(500)\n",
        "    my_account.withdraw(200)\n",
        "    print(f\"Current Balance: ${my_account.get_balance():.2f}\")\n",
        "\n",
        "    my_account.withdraw(1500)\n",
        "    my_account.deposit(-100)"
      ],
      "metadata": {
        "colab": {
          "base_uri": "https://localhost:8080/"
        },
        "id": "CVzzJI-j5JAb",
        "outputId": "6d2876b4-dff1-4597-da23-4b04e7660251"
      },
      "execution_count": 15,
      "outputs": [
        {
          "output_type": "stream",
          "name": "stdout",
          "text": [
            "Deposited $500.00. New balance: $1500.00\n",
            "Withdrew $200.00. New balance: $1300.00\n",
            "Current Balance: $1300.00\n",
            "Invalid withdrawal amount or insufficient balance.\n",
            "Deposit amount must be positive.\n"
          ]
        }
      ]
    },
    {
      "cell_type": "markdown",
      "source": [
        "**Q6.  Demonstrate runtime polymorphism using a method play() in a base class Instrument. Derive classes Guitar and Piano that implement their own version of play().**"
      ],
      "metadata": {
        "id": "9UFpeXQY5RAR"
      }
    },
    {
      "cell_type": "code",
      "source": [
        "class Instrument:\n",
        "    def play(self):\n",
        "        print(\"An instrument is playing a sound.\")\n",
        "\n",
        "class Guitar(Instrument):\n",
        "    def play(self):\n",
        "        print(\"The guitar is strumming a melody.\")\n",
        "\n",
        "class Piano(Instrument):\n",
        "    def play(self):\n",
        "        print(\"The piano is playing a beautiful harmony.\")\n",
        "\n",
        "# Demonstrate runtime polymorphism\n",
        "def make_instrument_play(instrument):\n",
        "    instrument.play()"
      ],
      "metadata": {
        "id": "h2n-QWHJ5XNv"
      },
      "execution_count": 18,
      "outputs": []
    },
    {
      "cell_type": "code",
      "source": [
        "# Create instances of the derived classes\n",
        "my_guitar = Guitar()\n",
        "my_piano = Piano()\n",
        "\n",
        "# Call the function with different instrument types\n",
        "print(\"Demonstrating polymorphism:\")\n",
        "make_instrument_play(my_guitar)\n",
        "make_instrument_play(my_piano)\n",
        "\n",
        "# We can also call the method directly on the objects\n",
        "print(\"\\nCalling play() directly on objects:\")\n",
        "my_guitar.play()\n",
        "my_piano.play()"
      ],
      "metadata": {
        "colab": {
          "base_uri": "https://localhost:8080/"
        },
        "id": "jLL8FLFS58ii",
        "outputId": "bd66aacb-f57b-46c1-e6cd-dd4d06faa420"
      },
      "execution_count": 19,
      "outputs": [
        {
          "output_type": "stream",
          "name": "stdout",
          "text": [
            "Demonstrating polymorphism:\n",
            "The guitar is strumming a melody.\n",
            "The piano is playing a beautiful harmony.\n",
            "\n",
            "Calling play() directly on objects:\n",
            "The guitar is strumming a melody.\n",
            "The piano is playing a beautiful harmony.\n"
          ]
        }
      ]
    },
    {
      "cell_type": "markdown",
      "source": [
        "**Q7. Create a class MathOperations with a class method add_numbers() to add two numbers and a static method subtract_numbers() to subtract two numbers.**"
      ],
      "metadata": {
        "id": "x2IFX6R36FRe"
      }
    },
    {
      "cell_type": "code",
      "source": [
        "class MathOperations:\n",
        "    @classmethod\n",
        "    def add_numbers(cls, num1, num2):\n",
        "        return num1 + num2\n",
        "\n",
        "    @staticmethod\n",
        "    def subtract_numbers(num1, num2):\n",
        "        return num1 - num2\n",
        "\n",
        "# Example usage:\n",
        "# Calling the class method\n",
        "sum_result = MathOperations.add_numbers(10, 5)\n",
        "print(f\"Sum: {sum_result}\")\n",
        "\n",
        "# Calling the static method\n",
        "difference_result = MathOperations.subtract_numbers(10, 5)\n",
        "print(f\"Difference: {difference_result}\")"
      ],
      "metadata": {
        "colab": {
          "base_uri": "https://localhost:8080/"
        },
        "id": "dvlMuudQ6L1X",
        "outputId": "0662d88c-39ad-4c5e-d0b9-9cc6c499cfec"
      },
      "execution_count": 20,
      "outputs": [
        {
          "output_type": "stream",
          "name": "stdout",
          "text": [
            "Sum: 15\n",
            "Difference: 5\n"
          ]
        }
      ]
    },
    {
      "cell_type": "markdown",
      "source": [
        "**Q8.  Implement a class Person with a class method to count the total number of persons created.**"
      ],
      "metadata": {
        "id": "oLGqMDXv6VkK"
      }
    },
    {
      "cell_type": "code",
      "source": [
        "class Person:\n",
        "    total_persons_created = 0\n",
        "\n",
        "    def __init__(self, name):\n",
        "        self.name = name\n",
        "        Person.total_persons_created += 1\n",
        "\n",
        "    @classmethod\n",
        "    def get_total_persons(cls):\n",
        "        return cls.total_persons_created\n",
        "\n",
        "# Create instances of the Person class\n",
        "person1 = Person(\"Alice\")\n",
        "person2 = Person(\"Bob\")\n",
        "person3 = Person(\"Charlie\")\n",
        "\n",
        "# Get the total number of persons created using the class method\n",
        "print(f\"Total number of persons created: {Person.get_total_persons()}\")\n",
        "\n",
        "# Create another instance\n",
        "person4 = Person(\"Diana\")\n",
        "\n",
        "# Check the updated count\n",
        "print(f\"Total number of persons created: {Person.get_total_persons()}\")"
      ],
      "metadata": {
        "colab": {
          "base_uri": "https://localhost:8080/"
        },
        "id": "eOYaJ8JZ6b4x",
        "outputId": "876f7b1f-b194-4fd8-d320-9809da1181bc"
      },
      "execution_count": 21,
      "outputs": [
        {
          "output_type": "stream",
          "name": "stdout",
          "text": [
            "Total number of persons created: 3\n",
            "Total number of persons created: 4\n"
          ]
        }
      ]
    },
    {
      "cell_type": "markdown",
      "source": [
        "**Q9. Write a class Fraction with attributes numerator and denominator. Override the str method to display the fraction as \"numerator/denominator\".**"
      ],
      "metadata": {
        "id": "vzkv8I4J6p8K"
      }
    },
    {
      "cell_type": "code",
      "source": [
        "class Fraction:\n",
        "    def __init__(self, numerator, denominator):\n",
        "        if not isinstance(numerator, int):\n",
        "            raise TypeError(\"Numerator must be an integer.\")\n",
        "        if not isinstance(denominator, int):\n",
        "            raise TypeError(\"Denominator must be an integer.\")\n",
        "        if denominator == 0:\n",
        "            raise ValueError(\"Denominator cannot be zero.\")\n",
        "\n",
        "        self.numerator = numerator\n",
        "        self.denominator = denominator\n",
        "\n",
        "    def __str__(self):\n",
        "        return f\"{self.numerator}/{self.denominator}\"\n"
      ],
      "metadata": {
        "id": "xsylo9YF6wDV"
      },
      "execution_count": 24,
      "outputs": []
    },
    {
      "cell_type": "code",
      "source": [
        "# Example Usage\n",
        "fraction1 = Fraction(3, 4)\n",
        "print(fraction1) # Output: 3/4\n",
        "\n",
        "fraction2 = Fraction(1, 2)\n",
        "print(fraction2) # Output: 1/2\n",
        "\n",
        "fraction3 = Fraction(7, 1)\n",
        "print(fraction3) # Output: 7/1"
      ],
      "metadata": {
        "colab": {
          "base_uri": "https://localhost:8080/"
        },
        "id": "IIoObHmh7C1t",
        "outputId": "a204867c-adb2-4324-ca45-a8cd6795b364"
      },
      "execution_count": 25,
      "outputs": [
        {
          "output_type": "stream",
          "name": "stdout",
          "text": [
            "3/4\n",
            "1/2\n",
            "7/1\n"
          ]
        }
      ]
    },
    {
      "cell_type": "markdown",
      "source": [
        "**Q10. Demonstrate operator overloading by creating a class Vector and overriding the add method to add two vectors.**"
      ],
      "metadata": {
        "id": "vSPLZuj87Foy"
      }
    },
    {
      "cell_type": "code",
      "source": [
        "class Vector:\n",
        "    def __init__(self, x, y):\n",
        "        self.x = x\n",
        "        self.y = y\n",
        "\n",
        "    def __add__(self, other):\n",
        "        return Vector(self.x + other.x, self.y + other.y)\n",
        "\n",
        "    # For a more readable representation when printing the Vector object\n",
        "    def __str__(self):\n",
        "        return f\"Vector({self.x}, {self.y})\"\n",
        "\n",
        "\n",
        "# Create two Vector instances\n",
        "v1 = Vector(2, 5)\n",
        "v2 = Vector(3, 7)\n",
        "\n",
        "# Add the two vectors using the overloaded '+' operator\n",
        "v3 = v1 + v2  # This automatically calls the __add__ method\n",
        "\n",
        "# Print the resulting vector\n",
        "print(f\"Vector 1: {v1}\")\n",
        "print(f\"Vector 2: {v2}\")\n",
        "print(f\"Resulting Vector (v1 + v2): {v3}\")  # Output: Resulting Vector (v1 + v2): Vector(5, 12)\n"
      ],
      "metadata": {
        "colab": {
          "base_uri": "https://localhost:8080/"
        },
        "id": "oKoxHhpG7L1p",
        "outputId": "004faf56-24f8-40f7-d20c-8e3223991f7a"
      },
      "execution_count": 26,
      "outputs": [
        {
          "output_type": "stream",
          "name": "stdout",
          "text": [
            "Vector 1: Vector(2, 5)\n",
            "Vector 2: Vector(3, 7)\n",
            "Resulting Vector (v1 + v2): Vector(5, 12)\n"
          ]
        }
      ]
    },
    {
      "cell_type": "markdown",
      "source": [
        "**Q11. Create a class Person with attributes name and age. Add a method greet() that prints \"Hello, my name is {name} and I am {age} years old.\"**"
      ],
      "metadata": {
        "id": "T0mUpHUb7cNb"
      }
    },
    {
      "cell_type": "code",
      "source": [
        "class Person:\n",
        "    def __init__(self, name, age):\n",
        "        self.name = name\n",
        "        self.age = age\n",
        "\n",
        "    def greet(self):\n",
        "        print(f\"Hello, my name is {self.name} and I am {self.age} years old.\")\n",
        "\n",
        "# Example usage:\n",
        "person1 = Person(\"Alice\", 30)\n",
        "person1.greet()\n",
        "\n",
        "person2 = Person(\"Bob\", 25)\n",
        "person2.greet()"
      ],
      "metadata": {
        "colab": {
          "base_uri": "https://localhost:8080/"
        },
        "id": "9p6pSL5D_70i",
        "outputId": "b38486b0-4ab8-4a54-e373-98d255adf1e1"
      },
      "execution_count": 27,
      "outputs": [
        {
          "output_type": "stream",
          "name": "stdout",
          "text": [
            "Hello, my name is Alice and I am 30 years old.\n",
            "Hello, my name is Bob and I am 25 years old.\n"
          ]
        }
      ]
    },
    {
      "cell_type": "markdown",
      "source": [
        "**Q12. Implement a class Student with attributes name and grades. Create a method average_grade() to compute the average of the grades.**"
      ],
      "metadata": {
        "id": "JUIbg1aYAE3c"
      }
    },
    {
      "cell_type": "code",
      "source": [
        "class Student:\n",
        "    def __init__(self, name, grades):\n",
        "        self.name = name\n",
        "        self.grades = grades\n",
        "\n",
        "    def average_grade(self):\n",
        "        if not self.grades:\n",
        "            return 0  # Return 0 if the grades list is empty to avoid division by zero\n",
        "        return sum(self.grades) / len(self.grades)\n",
        "\n",
        "# Example usage:\n",
        "student1 = Student(\"Alice\", [85, 90, 78, 92])\n",
        "print(f\"Student Name: {student1.name}\")\n",
        "print(f\"Grades: {student1.grades}\")\n",
        "print(f\"Average Grade: {student1.average_grade():.2f}\")\n",
        "\n",
        "student2 = Student(\"Bob\", [60, 75, 70])\n",
        "print(f\"\\nStudent Name: {student2.name}\")\n",
        "print(f\"Grades: {student2.grades}\")\n",
        "print(f\"Average Grade: {student2.average_grade():.2f}\")\n",
        "\n",
        "student3 = Student(\"Charlie\", [])\n",
        "print(f\"\\nStudent Name: {student3.name}\")\n",
        "print(f\"Grades: {student3.grades}\")\n",
        "print(f\"Average Grade: {student3.average_grade():.2f}\")"
      ],
      "metadata": {
        "colab": {
          "base_uri": "https://localhost:8080/"
        },
        "id": "HCtoJojsAMUm",
        "outputId": "6ef031d6-0ce7-4adb-9bff-4f9d72e648ed"
      },
      "execution_count": 28,
      "outputs": [
        {
          "output_type": "stream",
          "name": "stdout",
          "text": [
            "Student Name: Alice\n",
            "Grades: [85, 90, 78, 92]\n",
            "Average Grade: 86.25\n",
            "\n",
            "Student Name: Bob\n",
            "Grades: [60, 75, 70]\n",
            "Average Grade: 68.33\n",
            "\n",
            "Student Name: Charlie\n",
            "Grades: []\n",
            "Average Grade: 0.00\n"
          ]
        }
      ]
    },
    {
      "cell_type": "markdown",
      "source": [
        "**Q13. Create a class Rectangle with methods set_dimensions() to set the dimensions and area() to calculate the area.**"
      ],
      "metadata": {
        "id": "-zhHPEY-AY-b"
      }
    },
    {
      "cell_type": "code",
      "source": [
        "class Rectangle:\n",
        "    def __init__(self):\n",
        "        self.length = 0\n",
        "        self.width = 0\n",
        "\n",
        "    def set_dimensions(self, length, width):\n",
        "        if length >= 0 and width >= 0:\n",
        "            self.length = length\n",
        "            self.width = width\n",
        "        else:\n",
        "            print(\"Dimensions cannot be negative.\")\n",
        "\n",
        "    def area(self):\n",
        "        return self.length * self.width"
      ],
      "metadata": {
        "id": "eUt2PGxzAef0"
      },
      "execution_count": 30,
      "outputs": []
    },
    {
      "cell_type": "code",
      "source": [
        "# Example usage\n",
        "# Creating a Rectangle object\n",
        "rectangle1 = Rectangle()\n",
        "\n",
        "# Set the dimensions\n",
        "rectangle1.set_dimensions(10, 5)\n",
        "\n",
        "# Calculate and print the area\n",
        "print(f\"The area of rectangle1 is: {rectangle1.area()}\") # Output: The area of rectangle1 is: 50.0"
      ],
      "metadata": {
        "colab": {
          "base_uri": "https://localhost:8080/"
        },
        "id": "l-v3ySlDAtL-",
        "outputId": "dab0d701-e9ab-467a-aff8-08a26394fadf"
      },
      "execution_count": 31,
      "outputs": [
        {
          "output_type": "stream",
          "name": "stdout",
          "text": [
            "The area of rectangle1 is: 50\n"
          ]
        }
      ]
    },
    {
      "cell_type": "markdown",
      "source": [
        "**Q14. Create a class Employee with a method calculate_salary() that computes the salary based on hours worked and hourly rate. Create a derived class Manager that adds a bonus to the salary.**"
      ],
      "metadata": {
        "id": "ykuIIlVSAzcJ"
      }
    },
    {
      "cell_type": "code",
      "source": [
        "class Employee:\n",
        "    def __init__(self, hours_worked, hourly_rate):\n",
        "        self.hours_worked = hours_worked\n",
        "        self.hourly_rate = hourly_rate\n",
        "\n",
        "    def calculate_salary(self):\n",
        "        return self.hours_worked * self.hourly_rate\n",
        "\n",
        "class Manager(Employee):\n",
        "    def __init__(self, hours_worked, hourly_rate, bonus):\n",
        "        super().__init__(hours_worked, hourly_rate)\n",
        "        self.bonus = bonus\n",
        "\n",
        "    def calculate_salary(self):\n",
        "        base_salary = super().calculate_salary()\n",
        "        return base_salary + self.bonus\n",
        "\n",
        "# Example Usage:\n",
        "if __name__ == \"__main__\":\n",
        "    # Create an Employee object\n",
        "    employee1 = Employee(hours_worked=160, hourly_rate=25)\n",
        "    print(f\"Employee salary: ${employee1.calculate_salary():.2f}\")\n",
        "\n",
        "    # Create a Manager object\n",
        "    manager1 = Manager(hours_worked=160, hourly_rate=30, bonus=500)\n",
        "    print(f\"Manager salary: ${manager1.calculate_salary():.2f}\")"
      ],
      "metadata": {
        "colab": {
          "base_uri": "https://localhost:8080/"
        },
        "id": "RaqPa1AwA6Ip",
        "outputId": "e4602af7-3d94-4f84-9b27-f80af6bfe59b"
      },
      "execution_count": 32,
      "outputs": [
        {
          "output_type": "stream",
          "name": "stdout",
          "text": [
            "Employee salary: $4000.00\n",
            "Manager salary: $5300.00\n"
          ]
        }
      ]
    },
    {
      "cell_type": "markdown",
      "source": [
        "**Q15. Create a class Product with attributes name, price, and quantity. Implement a method total_price() that calculates the total price of the product.**"
      ],
      "metadata": {
        "id": "O2SAtjjABL3l"
      }
    },
    {
      "cell_type": "code",
      "source": [
        "class Product:\n",
        "    def __init__(self, name, price, quantity):\n",
        "        self.name = name\n",
        "        self.price = price\n",
        "        self.quantity = quantity\n",
        "\n",
        "    def total_price(self):\n",
        "        return self.price * self.quantity\n",
        "\n",
        "# Example usage:\n",
        "# Create a product instance\n",
        "laptop = Product(\"Laptop\", 999.99, 2)\n",
        "\n",
        "# Calculate and print the total price\n",
        "print(f\"The total price for {laptop.name} is: ${laptop.total_price():.2f}\")\n",
        "\n",
        "# Create another product instance\n",
        "keyboard = Product(\"Mechanical Keyboard\", 75.50, 5)\n",
        "\n",
        "# Calculate and print the total price\n",
        "print(f\"The total price for {keyboard.name} is: ${keyboard.total_price():.2f}\")"
      ],
      "metadata": {
        "colab": {
          "base_uri": "https://localhost:8080/"
        },
        "id": "0K_zHa9gBSz7",
        "outputId": "0b3f9f01-2b7b-4faf-a183-0a7dd81969ec"
      },
      "execution_count": 33,
      "outputs": [
        {
          "output_type": "stream",
          "name": "stdout",
          "text": [
            "The total price for Laptop is: $1999.98\n",
            "The total price for Mechanical Keyboard is: $377.50\n"
          ]
        }
      ]
    },
    {
      "cell_type": "markdown",
      "source": [
        "**Q16. Create a class Animal with an abstract method sound(). Create two derived classes Cow and Sheep that implement the sound() method.**"
      ],
      "metadata": {
        "id": "0kOAYxOMBcvO"
      }
    },
    {
      "cell_type": "code",
      "source": [
        "from abc import ABC, abstractmethod\n",
        "\n",
        "class Animal(ABC):\n",
        "    @abstractmethod\n",
        "    def sound(self):\n",
        "        pass\n",
        "\n",
        "class Cow(Animal):\n",
        "    def sound(self):\n",
        "        return \"Moo!\"\n",
        "\n",
        "class Sheep(Animal):\n",
        "    def sound(self):\n",
        "        return \"Baa!\"\n",
        "\n",
        "# Example usage:\n",
        "cow = Cow()\n",
        "print(f\"The cow says: {cow.sound()}\")\n",
        "\n",
        "sheep = Sheep()\n",
        "print(f\"The sheep says: {sheep.sound()}\")"
      ],
      "metadata": {
        "colab": {
          "base_uri": "https://localhost:8080/"
        },
        "id": "hyC0MnmxBkQi",
        "outputId": "2b90ba28-6eca-4a35-d837-5b9bbbd48332"
      },
      "execution_count": 34,
      "outputs": [
        {
          "output_type": "stream",
          "name": "stdout",
          "text": [
            "The cow says: Moo!\n",
            "The sheep says: Baa!\n"
          ]
        }
      ]
    },
    {
      "cell_type": "markdown",
      "source": [
        "**Q17. Create a class Book with attributes title, author, and year_published. Add a method get_book_info() that returns a formatted string with the book's details.**"
      ],
      "metadata": {
        "id": "2cwoWgwSBq5V"
      }
    },
    {
      "cell_type": "code",
      "source": [
        "class Book:\n",
        "    def __init__(self, title, author, year_published):\n",
        "        self.title = title  # Assigns the title to the instance attribute\n",
        "        self.author = author  # Assigns the author to the instance attribute\n",
        "        self.year_published = year_published  # Assigns the year to the instance attribute\n",
        "\n",
        "    def get_book_info(self):\n",
        "        return f\"Title: {self.title}, Author: {self.author}, Year Published: {self.year_published}\"\n",
        "\n",
        "# Example usage:\n",
        "book1 = Book(\"The Hitchhiker's Guide to the Galaxy\", \"Douglas Adams\", 1979)\n",
        "book2 = Book(\"Pride and Prejudice\", \"Jane Austen\", 1813)\n",
        "\n",
        "print(book1.get_book_info())\n",
        "print(book2.get_book_info())\n"
      ],
      "metadata": {
        "colab": {
          "base_uri": "https://localhost:8080/"
        },
        "id": "1-7qMs8NBvdO",
        "outputId": "f1f21edf-b23f-4247-dbfd-547404ac0b0f"
      },
      "execution_count": 35,
      "outputs": [
        {
          "output_type": "stream",
          "name": "stdout",
          "text": [
            "Title: The Hitchhiker's Guide to the Galaxy, Author: Douglas Adams, Year Published: 1979\n",
            "Title: Pride and Prejudice, Author: Jane Austen, Year Published: 1813\n"
          ]
        }
      ]
    },
    {
      "cell_type": "markdown",
      "source": [
        "**Q18. Create a class House with attributes address and price. Create a derived class Mansion that adds an attribute number_of_rooms.**"
      ],
      "metadata": {
        "id": "9xSCmIybB6FM"
      }
    },
    {
      "cell_type": "code",
      "source": [
        "class House:\n",
        "    def __init__(self, address, price):\n",
        "        self.address = address  # Instance attribute for the house's address\n",
        "        self.price = price  # Instance attribute for the house's price\n",
        "\n",
        "    def display_info(self):\n",
        "        print(f\"Address: {self.address}, Price: ${self.price:,.2f}\")  # Using an f-string for formatted output\n",
        "\n",
        "\n",
        "class Mansion(House):  # Mansion inherits from House\n",
        "\n",
        "    def __init__(self, address, price, number_of_rooms):\n",
        "        super().__init__(address, price)  # Calls the __init__ method of the parent class (House)\n",
        "        self.number_of_rooms = number_of_rooms  # Adds a new instance attribute for the number of rooms\n",
        "\n",
        "    def display_info(self):\n",
        "        super().display_info()  # Calls the parent's display_info method\n",
        "        print(f\"Number of Rooms: {self.number_of_rooms}\")  # Prints the number of rooms specific to a Mansion\n",
        "\n",
        "\n",
        "# Example Usage:\n",
        "my_house = House(\"123 Main St\", 500000)\n",
        "my_house.display_info()\n",
        "\n",
        "my_mansion = Mansion(\"456 Oak Ave\", 2500000, 15)\n",
        "my_mansion.display_info()"
      ],
      "metadata": {
        "colab": {
          "base_uri": "https://localhost:8080/"
        },
        "id": "7yzZPo-ACAkh",
        "outputId": "523470a1-62e1-47cb-e42e-e0fc1eac148e"
      },
      "execution_count": 36,
      "outputs": [
        {
          "output_type": "stream",
          "name": "stdout",
          "text": [
            "Address: 123 Main St, Price: $500,000.00\n",
            "Address: 456 Oak Ave, Price: $2,500,000.00\n",
            "Number of Rooms: 15\n"
          ]
        }
      ]
    }
  ]
}